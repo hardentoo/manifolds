{
 "cells": [
  {
   "cell_type": "code",
   "execution_count": 1,
   "metadata": {
    "collapsed": true
   },
   "outputs": [],
   "source": [
    "import Data.Manifold\n",
    "import Data.Manifold.Web\n",
    "import Data.Manifold.TreeCover\n",
    "import Data.Manifold.Riemannian\n",
    "import Linear.V2\n",
    "import Data.Foldable (toList)\n",
    "import Control.Arrow\n",
    "import Data.Semigroup (Option(..))\n",
    "import Data.Maybe (mapMaybe)\n",
    "import Control.Lens"
   ]
  },
  {
   "cell_type": "markdown",
   "metadata": {},
   "source": [
    "From [dynamic-plot](http://hackage.haskell.org/packages/dynamic-plot):"
   ]
  },
  {
   "cell_type": "code",
   "execution_count": 2,
   "metadata": {
    "collapsed": true
   },
   "outputs": [],
   "source": [
    "import Graphics.Dynamic.Plot.R2"
   ]
  },
  {
   "cell_type": "code",
   "execution_count": 3,
   "metadata": {
    "collapsed": true
   },
   "outputs": [],
   "source": [
    "import Data.Colour\n",
    "import Data.Colour.Names"
   ]
  },
  {
   "cell_type": "code",
   "execution_count": 4,
   "metadata": {
    "collapsed": true
   },
   "outputs": [],
   "source": [
    "(...) :: Colour ℝ -> Colour ℝ -> Shade (Colour ℝ)\n",
    "c₀...c₁ = rangeOnGeodesic c₀ c₁ (0 :±[100] :: Shade ℝ)\n",
    "\n",
    "pc c = c...c"
   ]
  },
  {
   "cell_type": "code",
   "execution_count": 10,
   "metadata": {
    "collapsed": false
   },
   "outputs": [
    {
     "data": {
      "text/plain": [
       "Data.Colour.SRGB.Linear.rgb 0.11920292202211756 0.11920292202211756 0.8807970779778824"
      ]
     },
     "metadata": {},
     "output_type": "display_data"
    }
   ],
   "source": [
    "let Option (Just interp) = interpolate blue yellow :: Option (ℝ->Colour ℝ)\n",
    "    Option (Just c₀) = toInterior (interp $ 0)\n",
    "    Option (Just c₁) = toInterior (interp $ -1)\n",
    "    Option (Just c₂) = toInterior (interp $ 1)\n",
    "  in fromInterior c₀ :: Colour ℝ"
   ]
  },
  {
   "cell_type": "code",
   "execution_count": 6,
   "metadata": {
    "collapsed": false
   },
   "outputs": [
    {
     "data": {
      "text/plain": [
       "Data.Colour.SRGB.Linear.rgb 0.19031803090275265 0.8692737099119895 0.6772205205892865"
      ]
     },
     "metadata": {},
     "output_type": "display_data"
    },
    {
     "data": {
      "text/plain": [
       "[Data.Colour.SRGB.Linear.rgb 5.126945837404324e-2 0.7454042095403874 0.6307571363461468,Data.Colour.SRGB.Linear.rgb 5.126945837404321e-2 0.7454042095403874 0.6307571363461468]"
      ]
     },
     "metadata": {},
     "output_type": "display_data"
    }
   ],
   "source": [
    "fromInterior $ (head . pointsShades $ mapMaybe (getOption . toInterior)\n",
    "   [turquoise, beige :: Colour ℝ]\n",
    "     :: Shade (Colour ℝ))^.shadeCtr :: Colour ℝ\n",
    "[turquoise, fromInterior ((turquoise...turquoise)^.shadeCtr) :: Colour ℝ]"
   ]
  },
  {
   "cell_type": "code",
   "execution_count": null,
   "metadata": {
    "collapsed": false
   },
   "outputs": [],
   "source": [
    "iWeb :: PointsWeb ℝ² (Colour ℝ)\n",
    "iWeb = fromWebNodes euclideanMetric\n",
    "   [ (V2 0 0, blue), (V2 1 0, beige), (V2 2 0, teal),   (V2 3 0, magenta)\n",
    "   , (V2 0 1, red),  (V2 1 1, violet),(V2 2 1, green),  (V2 3 1, turquoise)\n",
    "   , (V2 0 2, gray), (V2 1 2, indigo),(V2 2 2, crimson),(V2 3 2, orange)\n",
    "   , (V2 0 3, brown),(V2 1 3, black), (V2 2 3, cyan),   (V2 3 3, royalblue) ]\n",
    "plotWindow [plot iWeb, dynamicAxes]"
   ]
  },
  {
   "cell_type": "code",
   "execution_count": null,
   "metadata": {
    "collapsed": false
   },
   "outputs": [],
   "source": [
    "uWeb :: PointsWeb ℝ² (Shade (Colour ℝ))\n",
    "uWeb = fromWebNodes euclideanMetric\n",
    "   [ (V2 0 0, pc blue), (V2 1 0, pc beige), (V2 2 0, pc teal),   (V2 3 0, pc magenta)\n",
    "   , (V2 0 1, pc red),  (V2 1 1, pc violet),(V2 2 1, pc green),  (V2 3 1, pc turquoise)\n",
    "   , (V2 0 2, pc gray), (V2 1 2, pc indigo),(V2 2 2, pc crimson),(V2 3 2, pc orange)\n",
    "   , (V2 0 3, pc brown),(V2 1 3, pc gold),  (V2 2 3, pc cyan),   (V2 3 3, pc royalblue) ]\n",
    "plotWindow [plot uWeb, dynamicAxes]"
   ]
  },
  {
   "cell_type": "code",
   "execution_count": null,
   "metadata": {
    "collapsed": true
   },
   "outputs": [],
   "source": []
  }
 ],
 "metadata": {
  "kernelspec": {
   "display_name": "Haskell",
   "language": "haskell",
   "name": "haskell"
  },
  "language_info": {
   "codemirror_mode": "ihaskell",
   "file_extension": ".hs",
   "name": "haskell",
   "version": "7.10.2"
  }
 },
 "nbformat": 4,
 "nbformat_minor": 0
}
