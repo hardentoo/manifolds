{
 "cells": [
  {
   "cell_type": "code",
   "execution_count": 1,
   "metadata": {
    "collapsed": true
   },
   "outputs": [],
   "source": [
    "import Data.Manifold\n",
    "import Data.Manifold.Web\n",
    "\n",
    "import Data.Manifold.TreeCover\n",
    "import Data.Manifold.Riemannian\n",
    "import Linear.V2\n",
    "import Data.Foldable (toList)\n",
    "import Control.Arrow\n",
    "import Data.Semigroup (Option(..))\n",
    "import Data.Maybe (mapMaybe)\n",
    "import Control.Lens"
   ]
  },
  {
   "cell_type": "markdown",
   "metadata": {},
   "source": [
    "From [dynamic-plot](http://hackage.haskell.org/packages/dynamic-plot):"
   ]
  },
  {
   "cell_type": "code",
   "execution_count": 2,
   "metadata": {
    "collapsed": true
   },
   "outputs": [],
   "source": [
    "import Graphics.Dynamic.Plot.R2"
   ]
  },
  {
   "cell_type": "code",
   "execution_count": 3,
   "metadata": {
    "collapsed": true
   },
   "outputs": [],
   "source": [
    "import Data.Colour\n",
    "import Data.Colour.Names"
   ]
  },
  {
   "cell_type": "code",
   "execution_count": 4,
   "metadata": {
    "collapsed": true
   },
   "outputs": [],
   "source": [
    "(...) :: Colour ℝ -> Colour ℝ -> Shade (Colour ℝ)\n",
    "c₀...c₁ = case rangeOnGeodesic c₀ c₁ of\n",
    "    Option (Just interp) -> interp (0 :±[1] :: Shade ℝ)"
   ]
  },
  {
   "cell_type": "code",
   "execution_count": 5,
   "metadata": {
    "collapsed": false
   },
   "outputs": [
    {
     "data": {
      "text/plain": [
       "Option {getOption = Just (ColourNeedle {getRGBNeedle = RGB {channelRed = 0.0, channelGreen = 0.0, channelBlue = 0.0}})}"
      ]
     },
     "metadata": {},
     "output_type": "display_data"
    }
   ],
   "source": [
    "toInterior =<< ($ 0) <$> (interpolate blue yellow :: Option (ℝ -> Colour ℝ))"
   ]
  },
  {
   "cell_type": "code",
   "execution_count": 6,
   "metadata": {
    "collapsed": false
   },
   "outputs": [
    {
     "data": {
      "text/plain": [
       "[Data.Colour.SRGB.Linear.rgb 0.5 0.5 0.5,Data.Colour.SRGB.Linear.rgb 0.11920292202211757 0.11920292202211757 0.8807970779778824,Data.Colour.SRGB.Linear.rgb 0.8807970779778824 0.8807970779778824 0.11920292202211757]"
      ]
     },
     "metadata": {},
     "output_type": "display_data"
    }
   ],
   "source": [
    "let Option (Just interp) = interpolate blue yellow :: Option (ℝ->Colour ℝ)\n",
    "    Option (Just c₀) = toInterior (interp 1e-17)\n",
    "    Option (Just c₁) = toInterior (interp $ -1)\n",
    "    Option (Just c₂) = toInterior (interp 1)\n",
    "  in [fromInterior c₀, fromInterior c₁, fromInterior c₂ :: Colour ℝ]"
   ]
  },
  {
   "cell_type": "code",
   "execution_count": 7,
   "metadata": {
    "collapsed": false
   },
   "outputs": [
    {
     "data": {
      "text/plain": [
       "Data.Colour.SRGB.Linear.rgb 0.19031803090275262 0.8692737099119894 0.6772205205892864"
      ]
     },
     "metadata": {},
     "output_type": "display_data"
    },
    {
     "data": {
      "text/plain": [
       "[Data.Colour.SRGB.Linear.rgb 5.126945837404324e-2 0.7454042095403874 0.6307571363461468,Data.Colour.SRGB.Linear.rgb 5.126945837404334e-2 0.7454042095403874 0.6307571363461468]"
      ]
     },
     "metadata": {},
     "output_type": "display_data"
    }
   ],
   "source": [
    "fromInterior $ (head . pointsShades $ mapMaybe (getOption . toInterior)\n",
    "   [turquoise, beige :: Colour ℝ]\n",
    "     :: Shade (Colour ℝ))^.shadeCtr :: Colour ℝ\n",
    "[turquoise, fromInterior ((turquoise...turquoise)^.shadeCtr) :: Colour ℝ]"
   ]
  },
  {
   "cell_type": "code",
   "execution_count": 8,
   "metadata": {
    "collapsed": false
   },
   "outputs": [
    {
     "data": {
      "text/plain": [
       "GraphWindowSpecR2{lBound=-0.5, rBound=3.5, bBound=-0.5, tBound=3.5, xResolution=640, yResolution=480}"
      ]
     },
     "metadata": {},
     "output_type": "display_data"
    }
   ],
   "source": [
    "iWeb :: PointsWeb ℝ² (Colour ℝ)\n",
    "iWeb = fromWebNodes euclideanMetric\n",
    "   [     (V2 0.5 0, blue),    (V2 1.5 0, beige),   (V2 2.5 0, teal)\n",
    "   , (V2 0 1, red),  (V2 1 1, violet),(V2 2 1, green),  (V2 3 1, turquoise)\n",
    "   , (V2 0 2, gray), (V2 1 2, indigo),(V2 2 2, crimson),(V2 3 2, orange)\n",
    "   , (V2 0 3, brown),(V2 1 3, black), (V2 2 3, cyan),   (V2 3 3, royalblue) ]\n",
    "plotWindow [plot iWeb, dynamicAxes]"
   ]
  },
  {
   "cell_type": "markdown",
   "metadata": {},
   "source": [
    "![Simple “Guroud shaded” web of some colours](https://raw.githubusercontent.com/leftaroundabout/manifolds/master/manifolds/images/examples/WebSampling/simpleColourWeb.png)"
   ]
  },
  {
   "cell_type": "code",
   "execution_count": 9,
   "metadata": {
    "collapsed": false
   },
   "outputs": [
    {
     "data": {
      "text/plain": [
       "GraphWindowSpecR2{lBound=-0.33333333333333326, rBound=2.333333333333334, bBound=-0.33333333333333326, tBound=2.333333333333334, xResolution=640, yResolution=480}"
      ]
     },
     "metadata": {},
     "output_type": "display_data"
    }
   ],
   "source": [
    "uWeb :: PointsWeb ℝ² (Shade (Colour ℝ))\n",
    "uWeb = fromWebNodes euclideanMetric\n",
    "   [ (V2 0 0, blue...yellow),(V2 1 0, beige...red),   (V2 2 0, grey...teal)\n",
    "   , (V2 0 1, red...grey),   (V2 1 1, green...violet),(V2 2 1, orange...cyan)\n",
    "   , (V2 0 2, gray...green), (V2 1 2, blue...gold),   (V2 2 2, red...lightgreen) ]\n",
    "plotWindow [plot uWeb, dynamicAxes]"
   ]
  },
  {
   "cell_type": "markdown",
   "metadata": {},
   "source": [
    "![Web of “uncertain colours”, rendered as random pertubations (“noise”)](https://raw.githubusercontent.com/leftaroundabout/manifolds/master/manifolds/images/examples/WebSampling/noisyColourWeb.png)"
   ]
  },
  {
   "cell_type": "code",
   "execution_count": null,
   "metadata": {
    "collapsed": true
   },
   "outputs": [],
   "source": []
  }
 ],
 "metadata": {
  "kernelspec": {
   "display_name": "Haskell",
   "language": "haskell",
   "name": "haskell"
  },
  "language_info": {
   "codemirror_mode": "ihaskell",
   "file_extension": ".hs",
   "name": "haskell",
   "version": "7.10.2"
  }
 },
 "nbformat": 4,
 "nbformat_minor": 0
}
