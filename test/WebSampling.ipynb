{
 "cells": [
  {
   "cell_type": "code",
   "execution_count": 1,
   "metadata": {
    "collapsed": true
   },
   "outputs": [],
   "source": [
    "import Data.Manifold\n",
    "import Data.Manifold.Web\n",
    "import Linear.V2\n",
    "import Data.Foldable (toList)\n",
    "import Control.Arrow"
   ]
  },
  {
   "cell_type": "markdown",
   "metadata": {},
   "source": [
    "From [dynamic-plot](http://hackage.haskell.org/packages/dynamic-plot):"
   ]
  },
  {
   "cell_type": "code",
   "execution_count": 2,
   "metadata": {
    "collapsed": true
   },
   "outputs": [],
   "source": [
    "import Graphics.Dynamic.Plot.R2"
   ]
  },
  {
   "cell_type": "code",
   "execution_count": 3,
   "metadata": {
    "collapsed": true
   },
   "outputs": [],
   "source": [
    "import Data.Colour\n",
    "import Data.Colour.Names"
   ]
  },
  {
   "cell_type": "code",
   "execution_count": 18,
   "metadata": {
    "collapsed": false
   },
   "outputs": [],
   "source": [
    "iWeb :: PointsWeb ℝ² (ℝ²)\n",
    "iWeb = fromWebNodes euclideanMetric $ (fst&&&fst)<$>\n",
    "   [ (V2 0 0, blue), (V2 1 0, beige), (V2 2 0, teal), (V2 3 0, magenta)\n",
    "   , (V2 0 1, red),  (V2 1 1, violet),(V2 2 1, green),(V2 3 1, turquoise)\n",
    "   , (V2 0 2, gray), (V2 1 2, indigo),(V2 2 2, cyan), (V2 3 2, lavender)\n",
    "   , (V2 0 3, gray), (V2 1 3, indigo),(V2 2 3, cyan), (V2 3 3, royalblue) ]\n",
    "-- plotWindow [plot iWeb]"
   ]
  },
  {
   "cell_type": "code",
   "execution_count": 19,
   "metadata": {
    "collapsed": false
   },
   "outputs": [
    {
     "data": {
      "text/plain": [
       "(0.375,[(0.375,Just (V2 0.84375 0.375)),(1.125,Just (V2 1.78125 0.375)),(1.875,Just (V2 1.96875 0.375)),(2.625,Just (V2 2.90625 0.375))])\n",
       "(1.125,[(0.375,Just (V2 0.84375 1.125)),(1.125,Just (V2 1.78125 1.125)),(1.875,Just (V2 1.96875 1.125)),(2.625,Just (V2 2.90625 1.125))])\n",
       "(1.875,[(0.375,Just (V2 0.84375 1.875)),(1.125,Just (V2 1.78125 1.875)),(1.875,Just (V2 1.96875 1.875)),(2.625,Just (V2 2.90625 1.875))])\n",
       "(2.625,[(0.375,Just (V2 0.84375 2.625)),(1.125,Just (V2 1.78125 2.625)),(1.875,Just (V2 1.96875 2.625)),(2.625,Just (V2 2.90625 2.625))])"
      ]
     },
     "metadata": {},
     "output_type": "display_data"
    },
    {
     "data": {
      "text/plain": [
       "[V2 3.0 2.0,V2 3.0 3.0,V2 0.0 2.0,V2 0.0 3.0,V2 1.0 3.0,V2 2.0 3.0,V2 1.0 2.0,V2 2.0 2.0,V2 3.0 1.0,V2 3.0 0.0,V2 0.0 0.0,V2 0.0 1.0,V2 1.0 1.0,V2 2.0 1.0,V2 1.0 0.0,V2 2.0 0.0]"
      ]
     },
     "metadata": {},
     "output_type": "display_data"
    }
   ],
   "source": [
    "import Data.Semigroup (getOption)\n",
    "mapM_ print $ second (map $ second getOption) <$> sampleEntireWeb_2Dcartesian_lin (coerceWebDomain iWeb) 4 4\n",
    "map (fst . fst) . toList $ localFocusWeb iWeb"
   ]
  },
  {
   "cell_type": "code",
   "execution_count": 6,
   "metadata": {
    "collapsed": false
   },
   "outputs": [
    {
     "data": {
      "text/plain": [
       "[V2 1.5 3.0,V2 1.5 2.0,V2 1.5 1.0,V2 1.5 0.0]"
      ]
     },
     "metadata": {},
     "output_type": "display_data"
    }
   ],
   "source": [
    "testPlane :: Cutplane ℝ²\n",
    "testPlane = Cutplane (V2 1.5 0) (Stiefel1 $ V2 1 0)\n",
    "fst <$> sliceWeb_lin iWeb testPlane"
   ]
  },
  {
   "cell_type": "code",
   "execution_count": 7,
   "metadata": {
    "collapsed": false
   },
   "outputs": [
    {
     "data": {
      "text/plain": [
       "24"
      ]
     },
     "metadata": {},
     "output_type": "display_data"
    }
   ],
   "source": [
    "length $ (fst***fst) <$> webEdges iWeb"
   ]
  },
  {
   "cell_type": "code",
   "execution_count": 8,
   "metadata": {
    "collapsed": false
   },
   "outputs": [
    {
     "data": {
      "text/plain": [
       "Option {getOption = Just (D¹ {xParamD¹ = 0.5})}"
      ]
     },
     "metadata": {},
     "output_type": "display_data"
    }
   ],
   "source": [
    "testPlane`cutPosBetween`(V2 0 0, V2 2 0)"
   ]
  },
  {
   "cell_type": "code",
   "execution_count": 9,
   "metadata": {
    "collapsed": false
   },
   "outputs": [
    {
     "data": {
      "text/plain": [
       "[(V2 1.5 3.0,V2 1.5 2.0),(V2 1.5 2.0,V2 1.5 1.0),(V2 1.5 1.0,V2 1.5 0.0)]"
      ]
     },
     "metadata": {},
     "output_type": "display_data"
    }
   ],
   "source": [
    "map (fst***fst) . webEdges . fromWebNodes euclideanMetric $ sliceWeb_lin iWeb testPlane"
   ]
  },
  {
   "cell_type": "code",
   "execution_count": 10,
   "metadata": {
    "collapsed": false
   },
   "outputs": [
    {
     "data": {
      "text/plain": [
       "[(((0.375,0.375),GridPlanes {_gridPlaneNormal = (1.0,0.0), _gridPlaneSpacing = (0.75,0.0), _gridPlanesCount = 4}),[((3.0,0.375),Data.Colour.SRGB.Linear.rgb 0.6442260468902662 0.2795265785776453 0.8615339261298051),((0.0,0.375),Data.Colour.SRGB.Linear.rgb 0.375 0.0 0.625),((1.0,0.375),Data.Colour.SRGB.Linear.rgb 0.8913088854174747 0.6543971413646902 0.7679306658631382),((2.0,0.375),Data.Colour.SRGB.Linear.rgb 0.0 0.21586050011389926 0.13491281257118704)]),(((0.375,1.125),GridPlanes {_gridPlaneNormal = (1.0,0.0), _gridPlaneSpacing = (0.75,0.0), _gridPlanesCount = 4}),[((3.0,1.125),Data.Colour.SRGB.Linear.rgb 0.1437730186188666 0.7511409258894178 0.6714091634590392),((0.0,1.125),Data.Colour.SRGB.Linear.rgb 0.9019825625142374 2.6982562514237408e-2 2.6982562514237408e-2),((1.0,1.125),Data.Colour.SRGB.Linear.rgb 0.756913544070779 0.19532446265220743 0.7760220267733057),((2.0,1.125),Data.Colour.SRGB.Linear.rgb 0.0 0.31387793759966187 0.125)]),(((0.375,1.875),GridPlanes {_gridPlaneNormal = (1.0,0.0), _gridPlaneSpacing = (0.75,0.0), _gridPlanesCount = 4}),[((3.0,1.875),Data.Colour.SRGB.Linear.rgb 0.6987943800878068 0.7855612239835998 0.9153213261363937),((0.0,1.875),Data.Colour.SRGB.Linear.rgb 0.31387793759966187 0.18887793759966184 0.18887793759966184),((1.0,1.875),Data.Colour.SRGB.Linear.rgb 0.16843915975005064 2.7903494664601063e-2 0.30219853866773666),((2.0,1.875),Data.Colour.SRGB.Linear.rgb 0.0 0.9019825625142374 0.875)]),(((0.375,2.625),GridPlanes {_gridPlaneNormal = (1.0,0.0), _gridPlaneSpacing = (0.75,0.0), _gridPlanesCount = 4}),[((3.0,2.625),Data.Colour.SRGB.Linear.rgb 0.329774632014224 0.3850262845874061 0.829078892953531),((0.0,2.625),Data.Colour.SRGB.Linear.rgb 0.21586050011389926 0.21586050011389926 0.21586050011389926),((1.0,2.625),Data.Colour.SRGB.Linear.rgb 7.036009569659588e-2 0.0 0.2232279573168085),((2.0,2.625),Data.Colour.SRGB.Linear.rgb 0.0 1.0 1.0)])]"
      ]
     },
     "metadata": {},
     "output_type": "display_data"
    }
   ],
   "source": [
    "splitToGridLines (coerceWebDomain iWeb) $ cartesianGrid2D ((0,3),4) ((0,3),4)"
   ]
  },
  {
   "cell_type": "code",
   "execution_count": 11,
   "metadata": {
    "collapsed": false
   },
   "outputs": [
    {
     "data": {
      "text/html": [
       "<style>/* Styles used for the Hoogle display in the pager */\n",
       ".hoogle-doc {\n",
       "display: block;\n",
       "padding-bottom: 1.3em;\n",
       "padding-left: 0.4em;\n",
       "}\n",
       ".hoogle-code {\n",
       "display: block;\n",
       "font-family: monospace;\n",
       "white-space: pre;\n",
       "}\n",
       ".hoogle-text {\n",
       "display: block;\n",
       "}\n",
       ".hoogle-name {\n",
       "color: green;\n",
       "font-weight: bold;\n",
       "}\n",
       ".hoogle-head {\n",
       "font-weight: bold;\n",
       "}\n",
       ".hoogle-sub {\n",
       "display: block;\n",
       "margin-left: 0.4em;\n",
       "}\n",
       ".hoogle-package {\n",
       "font-weight: bold;\n",
       "font-style: italic;\n",
       "}\n",
       ".hoogle-module {\n",
       "font-weight: bold;\n",
       "}\n",
       ".hoogle-class {\n",
       "font-weight: bold;\n",
       "}\n",
       ".get-type {\n",
       "color: green;\n",
       "font-weight: bold;\n",
       "font-family: monospace;\n",
       "display: block;\n",
       "white-space: pre-wrap;\n",
       "}\n",
       ".show-type {\n",
       "color: green;\n",
       "font-weight: bold;\n",
       "font-family: monospace;\n",
       "margin-left: 1em;\n",
       "}\n",
       ".mono {\n",
       "font-family: monospace;\n",
       "display: block;\n",
       "}\n",
       ".err-msg {\n",
       "color: red;\n",
       "font-style: italic;\n",
       "font-family: monospace;\n",
       "white-space: pre;\n",
       "display: block;\n",
       "}\n",
       "#unshowable {\n",
       "color: red;\n",
       "font-weight: bold;\n",
       "}\n",
       ".err-msg.in.collapse {\n",
       "padding-top: 0.7em;\n",
       "}\n",
       ".highlight-code {\n",
       "white-space: pre;\n",
       "font-family: monospace;\n",
       "}\n",
       ".suggestion-warning { \n",
       "font-weight: bold;\n",
       "color: rgb(200, 130, 0);\n",
       "}\n",
       ".suggestion-error { \n",
       "font-weight: bold;\n",
       "color: red;\n",
       "}\n",
       ".suggestion-name {\n",
       "font-weight: bold;\n",
       "}\n",
       "</style><span class='err-msg'>Parse error (line 2, column 8): parse error (possibly incorrect indentation or mismatched brackets)</span>"
      ],
      "text/plain": [
       "Parse error (line 2, column 8): parse error (possibly incorrect indentation or mismatched brackets)"
      ]
     },
     "metadata": {},
     "output_type": "display_data"
    },
    {
     "data": {
      "text/html": [
       "<style>/* Styles used for the Hoogle display in the pager */\n",
       ".hoogle-doc {\n",
       "display: block;\n",
       "padding-bottom: 1.3em;\n",
       "padding-left: 0.4em;\n",
       "}\n",
       ".hoogle-code {\n",
       "display: block;\n",
       "font-family: monospace;\n",
       "white-space: pre;\n",
       "}\n",
       ".hoogle-text {\n",
       "display: block;\n",
       "}\n",
       ".hoogle-name {\n",
       "color: green;\n",
       "font-weight: bold;\n",
       "}\n",
       ".hoogle-head {\n",
       "font-weight: bold;\n",
       "}\n",
       ".hoogle-sub {\n",
       "display: block;\n",
       "margin-left: 0.4em;\n",
       "}\n",
       ".hoogle-package {\n",
       "font-weight: bold;\n",
       "font-style: italic;\n",
       "}\n",
       ".hoogle-module {\n",
       "font-weight: bold;\n",
       "}\n",
       ".hoogle-class {\n",
       "font-weight: bold;\n",
       "}\n",
       ".get-type {\n",
       "color: green;\n",
       "font-weight: bold;\n",
       "font-family: monospace;\n",
       "display: block;\n",
       "white-space: pre-wrap;\n",
       "}\n",
       ".show-type {\n",
       "color: green;\n",
       "font-weight: bold;\n",
       "font-family: monospace;\n",
       "margin-left: 1em;\n",
       "}\n",
       ".mono {\n",
       "font-family: monospace;\n",
       "display: block;\n",
       "}\n",
       ".err-msg {\n",
       "color: red;\n",
       "font-style: italic;\n",
       "font-family: monospace;\n",
       "white-space: pre;\n",
       "display: block;\n",
       "}\n",
       "#unshowable {\n",
       "color: red;\n",
       "font-weight: bold;\n",
       "}\n",
       ".err-msg.in.collapse {\n",
       "padding-top: 0.7em;\n",
       "}\n",
       ".highlight-code {\n",
       "white-space: pre;\n",
       "font-family: monospace;\n",
       "}\n",
       ".suggestion-warning { \n",
       "font-weight: bold;\n",
       "color: rgb(200, 130, 0);\n",
       "}\n",
       ".suggestion-error { \n",
       "font-weight: bold;\n",
       "color: red;\n",
       "}\n",
       ".suggestion-name {\n",
       "font-weight: bold;\n",
       "}\n",
       "</style><span class='err-msg'>Parse error (line 3, column 1): parse error on input ‘,’</span>"
      ],
      "text/plain": [
       "Parse error (line 3, column 1): parse error on input ‘,’"
      ]
     },
     "metadata": {},
     "output_type": "display_data"
    },
    {
     "data": {
      "text/html": [
       "<style>/* Styles used for the Hoogle display in the pager */\n",
       ".hoogle-doc {\n",
       "display: block;\n",
       "padding-bottom: 1.3em;\n",
       "padding-left: 0.4em;\n",
       "}\n",
       ".hoogle-code {\n",
       "display: block;\n",
       "font-family: monospace;\n",
       "white-space: pre;\n",
       "}\n",
       ".hoogle-text {\n",
       "display: block;\n",
       "}\n",
       ".hoogle-name {\n",
       "color: green;\n",
       "font-weight: bold;\n",
       "}\n",
       ".hoogle-head {\n",
       "font-weight: bold;\n",
       "}\n",
       ".hoogle-sub {\n",
       "display: block;\n",
       "margin-left: 0.4em;\n",
       "}\n",
       ".hoogle-package {\n",
       "font-weight: bold;\n",
       "font-style: italic;\n",
       "}\n",
       ".hoogle-module {\n",
       "font-weight: bold;\n",
       "}\n",
       ".hoogle-class {\n",
       "font-weight: bold;\n",
       "}\n",
       ".get-type {\n",
       "color: green;\n",
       "font-weight: bold;\n",
       "font-family: monospace;\n",
       "display: block;\n",
       "white-space: pre-wrap;\n",
       "}\n",
       ".show-type {\n",
       "color: green;\n",
       "font-weight: bold;\n",
       "font-family: monospace;\n",
       "margin-left: 1em;\n",
       "}\n",
       ".mono {\n",
       "font-family: monospace;\n",
       "display: block;\n",
       "}\n",
       ".err-msg {\n",
       "color: red;\n",
       "font-style: italic;\n",
       "font-family: monospace;\n",
       "white-space: pre;\n",
       "display: block;\n",
       "}\n",
       "#unshowable {\n",
       "color: red;\n",
       "font-weight: bold;\n",
       "}\n",
       ".err-msg.in.collapse {\n",
       "padding-top: 0.7em;\n",
       "}\n",
       ".highlight-code {\n",
       "white-space: pre;\n",
       "font-family: monospace;\n",
       "}\n",
       ".suggestion-warning { \n",
       "font-weight: bold;\n",
       "color: rgb(200, 130, 0);\n",
       "}\n",
       ".suggestion-error { \n",
       "font-weight: bold;\n",
       "color: red;\n",
       "}\n",
       ".suggestion-name {\n",
       "font-weight: bold;\n",
       "}\n",
       "</style><span class='err-msg'>Parse error (line 8, column 1): parse error on input ‘,’</span>"
      ],
      "text/plain": [
       "Parse error (line 8, column 1): parse error on input ‘,’"
      ]
     },
     "metadata": {},
     "output_type": "display_data"
    }
   ],
   "source": [
    "[( ((0.0,0.0),GridPlanes {_gridPlaneNormal = (1.0,0.0), _gridPlaneSpacing = (1.0,0.0), _gridPlanesCount = 4})\n",
    " , [] )\n",
    ",( ((0.0,1.0),GridPlanes {_gridPlaneNormal = (1.0,0.0), _gridPlaneSpacing = (1.0,0.0), _gridPlanesCount = 4})\n",
    " , [ ((3.0,1.0),Data.Colour.SRGB.Linear.rgb 5.126945837404324e-2 0.7454042095403874 0.6307571363461468)\n",
    "   , ((0.0,1.0),Data.Colour.SRGB.Linear.rgb 1.0 0.0 0.0)\n",
    "   , ((1.0,1.0),Data.Colour.SRGB.Linear.rgb 0.8549926081242338 0.2232279573168085 0.8549926081242338)\n",
    "   , ((2.0,1.0),Data.Colour.SRGB.Linear.rgb 0.0 0.21586050011389926 0.0) ] )\n",
    ",( ((0.0,2.0),GridPlanes {_gridPlaneNormal = (1.0,0.0), _gridPlaneSpacing = (1.0,0.0), _gridPlanesCount = 4})\n",
    " , [((3.0,2.0),Data.Colour.SRGB.Linear.rgb 0.7912979403326302 0.7912979403326302 0.9559733532492861)\n",
    " , ((0.0,2.0),Data.Colour.SRGB.Linear.rgb 0.21586050011389926 0.21586050011389926 0.21586050011389926),((1.0,2.0),Data.Colour.SRGB.Linear.rgb 7.036009569659588e-2 0.0 0.2232279573168085),((2.0,2.0),Data.Colour.SRGB.Linear.rgb 0.0 1.0 1.0)]),(((0.0,3.0),GridPlanes {_gridPlaneNormal = (1.0,0.0), _gridPlaneSpacing = (1.0,0.0), _gridPlanesCount = 4}),[((3.0,3.0),Data.Colour.SRGB.Linear.rgb 5.2860647023180246e-2 0.14126329114027164 0.7529422167760779),((0.0,3.0),Data.Colour.SRGB.Linear.rgb 0.21586050011389926 0.21586050011389926 0.21586050011389926),((1.0,3.0),Data.Colour.SRGB.Linear.rgb 7.036009569659588e-2 0.0 0.2232279573168085),((2.0,3.0),Data.Colour.SRGB.Linear.rgb 0.0 1.0 1.0)])]"
   ]
  }
 ],
 "metadata": {
  "kernelspec": {
   "display_name": "Haskell",
   "language": "haskell",
   "name": "haskell"
  },
  "language_info": {
   "codemirror_mode": "ihaskell",
   "file_extension": ".hs",
   "name": "haskell",
   "version": "7.10.2"
  }
 },
 "nbformat": 4,
 "nbformat_minor": 0
}
