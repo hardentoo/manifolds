{
 "cells": [
  {
   "cell_type": "code",
   "execution_count": 1,
   "metadata": {
    "collapsed": false
   },
   "outputs": [],
   "source": [
    "import Prelude ()\n",
    "import qualified Prelude\n",
    "import Data.Manifold.TreeCover\n",
    "import Data.Random\n",
    "import Data.Random.Manifold\n",
    "import Data.Manifold.Types\n",
    "import Data.LinearMap.HerMetric\n",
    "import Data.VectorSpace\n",
    "import Data.Semigroup\n",
    "import Data.Foldable (toList)\n",
    "import Control.Monad (replicateM)\n",
    "\n",
    "import Control.Category.Constrained.Prelude\n",
    ":opt no-lint  -- lint gives bogus warnings with constrained-categories"
   ]
  },
  {
   "cell_type": "markdown",
   "metadata": {
    "collapsed": false
   },
   "source": [
    "From [dynamic-plot](http://hackage.haskell.org/package/dynamic-plot):"
   ]
  },
  {
   "cell_type": "code",
   "execution_count": 2,
   "metadata": {
    "collapsed": true
   },
   "outputs": [],
   "source": [
    "import Graphics.Dynamic.Plot.R2"
   ]
  },
  {
   "cell_type": "code",
   "execution_count": 3,
   "metadata": {
    "collapsed": false
   },
   "outputs": [
    {
     "data": {
      "text/plain": [
       "Shade' {_shade'Ctr = 0.0, _shade'Narrowness = projector 0.5}"
      ]
     },
     "metadata": {},
     "output_type": "display_data"
    }
   ],
   "source": [
    "convolveShade' (0|±|[1]) (0|±|[1]) :: Shade' ℝ"
   ]
  },
  {
   "cell_type": "code",
   "execution_count": 4,
   "metadata": {
    "collapsed": false
   },
   "outputs": [
    {
     "data": {
      "text/plain": [
       "Shade' {_shade'Ctr = (0.0,0.0), _shade'Narrowness = projector (0.0,9.999999999999998e-3) ^+^ projector (9.999999999999998e-3,0.0)}"
      ]
     },
     "metadata": {},
     "output_type": "display_data"
    }
   ],
   "source": [
    "convolveShade' ((0,0)|±|[(1,0),(0,1)]) ((0,0)|±|[(99,0),(0,99)]) :: Shade' ℝ²"
   ]
  },
  {
   "cell_type": "code",
   "execution_count": 5,
   "metadata": {
    "collapsed": false
   },
   "outputs": [],
   "source": [
    "convoTests :: [[Shade' ℝ²]]\n",
    "convoTests = [ [ (0,3)|±|[(2,0),(0,1)]\n",
    "               , (5,2)|±|[(2,0),(0,1)] ]\n",
    "             , [ (8,0)|±|[(4,0),(0,1)]\n",
    "               , (0,8)|±|[(1,0),(0,4)] ]\n",
    "             , [ (8,0)|±|[(3,4),(-0.3,1)]\n",
    "               , (0,8)|±|[(1,-0.3),(4,3)] ] ]"
   ]
  },
  {
   "cell_type": "code",
   "execution_count": 25,
   "metadata": {
    "collapsed": false
   },
   "outputs": [
    {
     "data": {
      "text/plain": []
     },
     "metadata": {},
     "output_type": "display_data"
    }
   ],
   "source": [
    "forM_ convoTests $ \\wings -> do\n",
    "  let convo = convolveShade' (wings!!0) (wings!!1)\n",
    "  \n",
    "  testPts <- runRVar (forM wings $ \\sh@(Shade' cs es) ->\n",
    "    fmap (filter $ \\p -> occlusion sh p > exp(-1))\n",
    "     . replicateM 200 $ do\n",
    "        φ <- uniform 0 (2*pi)\n",
    "        r <- normal 1 0.1\n",
    "        let [v₁,v₂] = eigenCoSpan' es\n",
    "        return $ cs ^+^ (r*cos φ)*^v₁ ^+^ (r*sin φ)*^v₂\n",
    "   ) StdRandom  :: IO [[ℝ²]]\n",
    "\n",
    "  plotWindow $ [ plot $ plot sh : [plot $ (p::ℝ²)|±|[(0.01,0),(0,0.01)] | p<-tps::[ℝ²]]\n",
    "               | (sh,tps) <- zip (convo:wings) ([a^+^b | a<-testPts!!0, b<-testPts!!1] : testPts)]\n",
    "            ++ (plot<$>[xInterval (-2,8), yInterval (-1,7)])"
   ]
  },
  {
   "cell_type": "markdown",
   "metadata": {
    "collapsed": true
   },
   "source": [
    "![Convolution of coaligned shades](https://raw.githubusercontent.com/leftaroundabout/manifolds/master/manifolds/images/examples/ShadeCombinations/2Dconvolution-coaligned.png)\n",
    "![Convolution of \"orthogonal\" shades](https://raw.githubusercontent.com/leftaroundabout/manifolds/master/manifolds/images/examples/ShadeCombinations/2Dconvolution-orthogonal.png)\n",
    "![Convolution of skewed shades](https://raw.githubusercontent.com/leftaroundabout/manifolds/master/manifolds/images/examples/ShadeCombinations/2Dconvolution-skewed.png)"
   ]
  },
  {
   "cell_type": "code",
   "execution_count": null,
   "metadata": {
    "collapsed": true
   },
   "outputs": [],
   "source": []
  }
 ],
 "metadata": {
  "kernelspec": {
   "display_name": "Haskell",
   "language": "haskell",
   "name": "haskell"
  },
  "language_info": {
   "codemirror_mode": "ihaskell",
   "file_extension": ".hs",
   "name": "haskell",
   "version": "7.10.2"
  }
 },
 "nbformat": 4,
 "nbformat_minor": 0
}
