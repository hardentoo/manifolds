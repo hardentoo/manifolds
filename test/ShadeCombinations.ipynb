{
 "cells": [
  {
   "cell_type": "code",
   "execution_count": 1,
   "metadata": {
    "collapsed": false
   },
   "outputs": [],
   "source": [
    "import Prelude ()\n",
    "import qualified Prelude\n",
    "import Data.Manifold.TreeCover\n",
    "import Data.Manifold.Web\n",
    "import Data.Random\n",
    "import Data.Random.Manifold\n",
    "import Data.Manifold.Types\n",
    "import Math.LinearMap.Category\n",
    "import Data.VectorSpace\n",
    "import Data.Semigroup\n",
    "import Data.Foldable (toList)\n",
    "import Control.Monad (replicateM)\n",
    "\n",
    "import Control.Category.Constrained.Prelude\n",
    ":opt no-lint  -- lint gives bogus warnings with constrained-categories"
   ]
  },
  {
   "cell_type": "markdown",
   "metadata": {
    "collapsed": false
   },
   "source": [
    "From [dynamic-plot](http://hackage.haskell.org/package/dynamic-plot):"
   ]
  },
  {
   "cell_type": "code",
   "execution_count": 2,
   "metadata": {
    "collapsed": false
   },
   "outputs": [],
   "source": [
    "import Graphics.Dynamic.Plot.R2\n",
    "import Diagrams.Prelude ((^&), r2)\n",
    "plotPoints :: [ℝ²] -> DynamicPlottable\n",
    "plotPoints ps = plot [p|±|[0.01^&0, 0^&0.01] | p<-ps]"
   ]
  },
  {
   "cell_type": "code",
   "execution_count": 3,
   "metadata": {
    "collapsed": false
   },
   "outputs": [
    {
     "data": {
      "text/plain": [
       "GraphWindowSpecR2{lBound=-1.5, rBound=2.5, bBound=-0.16666666666666669, tBound=1.1666666666666667, xResolution=640, yResolution=480}"
      ]
     },
     "metadata": {},
     "output_type": "display_data"
    },
    {
     "data": {
      "text/plain": [
       "GraphWindowSpecR2{lBound=-1.5000000000000002, rBound=2.5, bBound=-0.16666666666666663, tBound=1.1666666666666667, xResolution=640, yResolution=480}"
      ]
     },
     "metadata": {},
     "output_type": "display_data"
    }
   ],
   "source": [
    "plotWindow $ [plot ( ellipsoid ((0,y)|±|[(0.5,0),(0,0.1)])\n",
    "                  <> ellipsoid ((y,y)|±|[(0.5,0),(0,0.1)]) :: ConvexSet (ℝ,ℝ) )\n",
    "             | y <- [0.1,0.3 .. 1.5] ]\n",
    "          ++ (plot<$>[xInterval (-1,2), yInterval (0,1)])\n",
    "plotWindow $ [plot ( ellipsoid ((0,y)|±|[(0.6,0),(0,0.1)])\n",
    "                  <> ellipsoid ((y,y)|±|[(0.33,0),(0,0.1)]) :: ConvexSet (ℝ,ℝ) )\n",
    "             | y <- [0.1,0.3 .. 1.5] ]\n",
    "          ++ (plot<$>[xInterval (-1,2), yInterval (0,1)])"
   ]
  },
  {
   "cell_type": "markdown",
   "metadata": {},
   "source": [
    "![Convex intersection of equal, cospectral ellipses](https://raw.githubusercontent.com/leftaroundabout/manifolds/master/manifolds/images/examples/ShadeCombinations/EqualCospecEllipseIntersections.png)\n",
    "![Convex intersection of nonsimilar ellipses](https://raw.githubusercontent.com/leftaroundabout/manifolds/master/manifolds/images/examples/ShadeCombinations/EllipseIntersections.png)"
   ]
  },
  {
   "cell_type": "code",
   "execution_count": 4,
   "metadata": {
    "collapsed": false
   },
   "outputs": [
    {
     "data": {
      "text/plain": [
       "GraphWindowSpecR2{lBound=-1.4999999999999998, rBound=2.5, bBound=-0.16666666666666663, tBound=1.1666666666666667, xResolution=640, yResolution=480}"
      ]
     },
     "metadata": {},
     "output_type": "display_data"
    }
   ],
   "source": [
    "plotWindow $ [plot ( ellipsoid ((0,y)|±|[(0.5,0),(0,0.1)])\n",
    "                  <> ellipsoid ((0.5,1.2*y)|±|[(0.5,0),(0,0.1)]) :: ConvexSet (ℝ,ℝ) )\n",
    "             | y <- [0.1,0.3 .. 1.5] ]\n",
    "          ++ (plot<$>[xInterval (-1,2), yInterval (0,1)])"
   ]
  },
  {
   "cell_type": "markdown",
   "metadata": {},
   "source": [
    "![Convex intersection of equal, sideways offset ellipses](https://raw.githubusercontent.com/leftaroundabout/manifolds/master/manifolds/images/examples/ShadeCombinations/EqualCospecOffsetEllipseIntersections.png)"
   ]
  },
  {
   "cell_type": "code",
   "execution_count": 5,
   "metadata": {
    "collapsed": false
   },
   "outputs": [
    {
     "data": {
      "text/plain": [
       "GraphWindowSpecR2{lBound=-1.5, rBound=2.5, bBound=-0.16666666666666669, tBound=1.166666666666667, xResolution=640, yResolution=480}"
      ]
     },
     "metadata": {},
     "output_type": "display_data"
    },
    {
     "data": {
      "text/plain": [
       "GraphWindowSpecR2{lBound=-1.5, rBound=2.5, bBound=-0.16666666666666663, tBound=1.1666666666666667, xResolution=640, yResolution=480}"
      ]
     },
     "metadata": {},
     "output_type": "display_data"
    }
   ],
   "source": [
    "plotWindow $ [plot ( ellipsoid ((0,y)|±|[(0.5,0),(0,0.1)])\n",
    "                  <> ellipsoid ((0.5,y)|±|[(y+0.2,0),(0,0.1)]) :: ConvexSet (ℝ,ℝ) )\n",
    "             | y <- [0.1,0.3 .. 1.5] ]\n",
    "          ++ (plot<$>[xInterval (-1,2), yInterval (0,1)])\n",
    "plotWindow $ [plot ( ellipsoid ((0,y)|±|[(y+0.2,0),(0,0.1)])\n",
    "                  <> ellipsoid ((0.5,y)|±|[(0.5,0),(0,0.1)]) :: ConvexSet (ℝ,ℝ) )\n",
    "             | y <- [0.1,0.3 .. 1.5] ]\n",
    "          ++ (plot<$>[xInterval (-1,2), yInterval (0,1)])"
   ]
  },
  {
   "cell_type": "markdown",
   "metadata": {},
   "source": [
    "![Convex intersection of partly whole-contained ellipses](https://raw.githubusercontent.com/leftaroundabout/manifolds/master/manifolds/images/examples/ShadeCombinations/Contained1EllipseIntersections.png)\n",
    "![Convex intersection of partly whole-contained ellipses](https://raw.githubusercontent.com/leftaroundabout/manifolds/master/manifolds/images/examples/ShadeCombinations/Contained2EllipseIntersections.png)"
   ]
  },
  {
   "cell_type": "code",
   "execution_count": 6,
   "metadata": {
    "collapsed": false
   },
   "outputs": [
    {
     "data": {
      "text/plain": [
       "GraphWindowSpecR2{lBound=-0.6666666666666665, rBound=4.666666666666667, bBound=-1.5, tBound=2.5, xResolution=640, yResolution=480}"
      ]
     },
     "metadata": {},
     "output_type": "display_data"
    }
   ],
   "source": [
    "intersectTests :: [ConvexSet (ℝ,ℝ)]\n",
    "intersectTests = [ ellipsoid ((0,0)|±|[(1,0),(0,1)])\n",
    "                <> ellipsoid ((0.4,0)|±|[(0.5,0),(0,0.5)])\n",
    "                <> ellipsoid ((1,0)|±|[(1,0),(0,1)])\n",
    "                <> ellipsoid ((0.5,1)|±|[(1,0),(0,1)])\n",
    "                 , ellipsoid ((3,0)|±|[(1,0),(0,1)])\n",
    "                <> ellipsoid ((3.4,0)|±|[(1.3,0),(0,0.4)])\n",
    "                <> ellipsoid ((4,0)|±|[(1,0),(0,1)])\n",
    "                <> ellipsoid ((3.5,1)|±|[(1,0),(0,1)])\n",
    "                 ]\n",
    "\n",
    "plotWindow $ (plot <$> intersectTests)\n",
    "          ++ (plot<$>[xInterval (0,4), yInterval (-1,2)])"
   ]
  },
  {
   "cell_type": "markdown",
   "metadata": {},
   "source": [
    "![Convex intersection of ellipsoid sets](https://raw.githubusercontent.com/leftaroundabout/manifolds/master/manifolds/images/examples/ShadeCombinations/ConvexIntersections.png)"
   ]
  },
  {
   "cell_type": "code",
   "execution_count": 7,
   "metadata": {
    "collapsed": false
   },
   "outputs": [
    {
     "data": {
      "text/plain": [
       "Shade' {_shade'Ctr = 0.0, _shade'Narrowness = spanNorm [0.5]}"
      ]
     },
     "metadata": {},
     "output_type": "display_data"
    }
   ],
   "source": [
    "convolveShade' (0|±|[1]) (0|±|[1]) :: Shade' ℝ"
   ]
  },
  {
   "cell_type": "code",
   "execution_count": 8,
   "metadata": {
    "collapsed": false
   },
   "outputs": [
    {
     "data": {
      "text/plain": [
       "Shade' {_shade'Ctr = (0.0,0.0), _shade'Narrowness = spanNorm [(9.999999999999998e-3,0.0),(0.0,9.999999999999998e-3)]}"
      ]
     },
     "metadata": {},
     "output_type": "display_data"
    }
   ],
   "source": [
    "convolveShade' ((0,0)|±|[(1,0),(0,1)]) ((0,0)|±|[(99,0),(0,99)]) :: Shade' (ℝ,ℝ)"
   ]
  },
  {
   "cell_type": "code",
   "execution_count": 9,
   "metadata": {
    "collapsed": false
   },
   "outputs": [],
   "source": [
    "convoTests :: [[Shade' (ℝ,ℝ)]]\n",
    "convoTests = [ [ (0,6) |±| [(4,0),(0,2)]\n",
    "               , (9,4) |±| [(4,0),(0,2)] ]\n",
    "             , [ (8,0) |±| [(4,0),(0,1)]\n",
    "               , (0,8) |±| [(1,0),(0,4)] ]\n",
    "             , [ (8,0) |±| [(2  ,2.7) ,(-0.2,0.7)]\n",
    "               , (0,8) |±| [(0.7,-0.2),(2.7 ,2  )] ]\n",
    "             , [ (2,6) |±| [(4,0),(0,4)]\n",
    "               , (9,0) |±| [(1,0),(0,0.1)] ] ]"
   ]
  },
  {
   "cell_type": "code",
   "execution_count": 10,
   "metadata": {
    "collapsed": false
   },
   "outputs": [
    {
     "data": {
      "text/plain": []
     },
     "metadata": {},
     "output_type": "display_data"
    }
   ],
   "source": [
    "forM_ convoTests $ \\wings -> do\n",
    "  let convo = convolveShade' (wings!!0) (wings!!1)\n",
    "  \n",
    "  testPts <- runRVar (forM wings $ \\sh@(Shade' cs es) ->\n",
    "    fmap (filter $ \\p -> occlusion sh p > exp(-1))\n",
    "     . replicateM 150 $ do\n",
    "        φ <- uniform 0 (2*pi)\n",
    "        r <- normal 1 0.1\n",
    "        let [v₁,v₂] = normSpanningSystem' es\n",
    "        return $ cs ^+^ (r*cos φ)*^v₁ ^+^ (r*sin φ)*^v₂\n",
    "   ) StdRandom  :: IO [[(ℝ,ℝ)]]\n",
    "\n",
    "  plotWindow $ [ plot [plot sh, plotPoints $ r2 <$> tps]\n",
    "               | (sh,tps) <- zip (convo:wings) ([a^+^b | a<-testPts!!0, b<-testPts!!1] : testPts)]\n",
    "            ++ (plot<$>[xInterval (0,16), yInterval (1,12)])"
   ]
  },
  {
   "cell_type": "markdown",
   "metadata": {
    "collapsed": true
   },
   "source": [
    "<a id='shadeConvolutions'></a>\n",
    "![Convolution of coaligned shades](https://raw.githubusercontent.com/leftaroundabout/manifolds/master/manifolds/images/examples/ShadeCombinations/2Dconvolution-coaligned.png)\n",
    "![Convolution of \"orthogonal\" shades](https://raw.githubusercontent.com/leftaroundabout/manifolds/master/manifolds/images/examples/ShadeCombinations/2Dconvolution-orthogonal.png)\n",
    "![Convolution of skewed shades](https://raw.githubusercontent.com/leftaroundabout/manifolds/master/manifolds/images/examples/ShadeCombinations/2Dconvolution-skewed.png)\n",
    "![Convolution of shades with very different shape](https://raw.githubusercontent.com/leftaroundabout/manifolds/master/manifolds/images/examples/ShadeCombinations/2Dconvolution-big+small.png)"
   ]
  },
  {
   "cell_type": "code",
   "execution_count": 11,
   "metadata": {
    "collapsed": false
   },
   "outputs": [
    {
     "data": {
      "text/plain": [
       "GraphWindowSpecR2{lBound=-2.4560113295832986, rBound=13.192079307083086, bBound=-0.9814239699997196, tBound=4.98142396999972, xResolution=640, yResolution=480}"
      ]
     },
     "metadata": {},
     "output_type": "display_data"
    }
   ],
   "source": [
    "import Data.Manifold.Riemannian\n",
    "\n",
    "interpolate₀, interpolate₁ :: Shade (ℝ,ℝ)\n",
    "interpolate₀ = (0,1):±[(0.5,0),(0,1)]\n",
    "interpolate₁ = (9,2):±[(2,1),(1,2)]\n",
    "\n",
    "Option (Just interpolation) = geodesicBetween interpolate₀ interpolate₁\n",
    "\n",
    "plotWindow [ plot interpolate₀\n",
    "           , plot [ plot $ interpolation (D¹ x)\n",
    "                  | x <- [-0.6, -0.2 .. 0.6] ]\n",
    "           , plot interpolate₁]"
   ]
  },
  {
   "cell_type": "markdown",
   "metadata": {},
   "source": [
    "![Interpolating between shades, with location and extend](https://raw.githubusercontent.com/leftaroundabout/manifolds/master/manifolds/images/examples/ShadeCombinations/interpolation_straight2skewed.png)"
   ]
  },
  {
   "cell_type": "code",
   "execution_count": 12,
   "metadata": {
    "collapsed": false
   },
   "outputs": [
    {
     "data": {
      "text/plain": [
       "GraphWindowSpecR2{lBound=-1.3333333333333335, rBound=1.3333333333333335, bBound=-1.3333333333333335, tBound=1.3333333333333335, xResolution=640, yResolution=480}"
      ]
     },
     "metadata": {},
     "output_type": "display_data"
    }
   ],
   "source": [
    "interpolate₀', interpolate₁' :: Shade' (ℝ,ℝ)\n",
    "interpolate₀' = (-1,-1)|±|[(0.1,0),(0,0.2)]\n",
    "interpolate₁' = (1,1)  |±|[(0.1,0.2),(-0.3,0.3)]\n",
    "\n",
    "Option (Just interpolation') = geodesicBetween interpolate₀' interpolate₁'\n",
    "\n",
    "plotWindow [ plot interpolate₀'\n",
    "           , plot [ plot $ interpolation' (D¹ x)\n",
    "                  | x <- [-0.6, -0.2 .. 0.6] ]\n",
    "           , plot interpolate₁']"
   ]
  },
  {
   "cell_type": "markdown",
   "metadata": {},
   "source": [
    "![Interpolating between co-shades, with location and extend](https://raw.githubusercontent.com/leftaroundabout/manifolds/master/manifolds/images/examples/ShadeCombinations/interpolation'_straight2skewed.png)"
   ]
  },
  {
   "cell_type": "code",
   "execution_count": 13,
   "metadata": {
    "collapsed": false
   },
   "outputs": [
    {
     "data": {
      "text/plain": [
       "GraphWindowSpecR2{lBound=-1.333333333333333, rBound=1.333333333333333, bBound=-1.333333333333333, tBound=1.333333333333333, xResolution=640, yResolution=480}"
      ]
     },
     "metadata": {},
     "output_type": "display_data"
    }
   ],
   "source": [
    "let pss = [[(-1)^&0, (-1)^&0.1, 0^&0, 0^&(0.1), 1^&0.2, 1^&ye :: ℝ²] | ye <- [0.3,0.31..]]\n",
    " in plotWindow [plotLatest [[plotPoints ps, plotLatest $ pointsCover's ps] | ps<-pss]]"
   ]
  },
  {
   "cell_type": "markdown",
   "metadata": {
    "collapsed": true
   },
   "source": [
    "![Convex hull of a set of points with an outlier](https://raw.githubusercontent.com/leftaroundabout/manifolds/master/manifolds/images/examples/ShadeCombinations/OutlierPoints-ConvexHull.gif)"
   ]
  },
  {
   "cell_type": "code",
   "execution_count": null,
   "metadata": {
    "collapsed": true
   },
   "outputs": [],
   "source": []
  }
 ],
 "metadata": {
  "kernelspec": {
   "display_name": "Haskell",
   "language": "haskell",
   "name": "haskell"
  },
  "language_info": {
   "codemirror_mode": "ihaskell",
   "file_extension": ".hs",
   "name": "haskell",
   "version": "7.10.2"
  }
 },
 "nbformat": 4,
 "nbformat_minor": 0
}
