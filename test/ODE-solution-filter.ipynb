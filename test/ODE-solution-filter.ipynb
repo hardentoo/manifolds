{
 "cells": [
  {
   "cell_type": "code",
   "execution_count": 1,
   "metadata": {
    "collapsed": true
   },
   "outputs": [],
   "source": [
    "import Prelude ()\n",
    "import Data.Manifold.TreeCover\n",
    "import Data.Random\n",
    "import Data.Random.Manifold\n",
    "import Data.Manifold.Types\n",
    "import Data.LinearMap.HerMetric\n",
    "import Data.VectorSpace\n",
    "import Data.Semigroup\n",
    "\n",
    "import Control.Category.Constrained.Prelude\n",
    ":opt no-lint  -- lint gives bogus warnings with constrained-categories"
   ]
  },
  {
   "cell_type": "markdown",
   "metadata": {},
   "source": [
    "From [dynamic-plot](http://hackage.haskell.org/package/dynamic-plot):"
   ]
  },
  {
   "cell_type": "code",
   "execution_count": 2,
   "metadata": {
    "collapsed": false
   },
   "outputs": [],
   "source": [
    "import Graphics.Dynamic.Plot.R2\n",
    "viewRange = plot [forceXRange (-5,8), forceYRange (-3,5)]"
   ]
  },
  {
   "cell_type": "code",
   "execution_count": null,
   "metadata": {
    "collapsed": false
   },
   "outputs": [],
   "source": [
    "blockl, blockr :: Shade' (ℝ,ℝ)\n",
    "[blockl,blockr] = [Shade' (x,1) (projector (0,1) ^+^ projector (1,0)) | x<-[0,2]]\n",
    "plotWindow [plot blockl, plot blockr, viewRange]"
   ]
  },
  {
   "cell_type": "code",
   "execution_count": 3,
   "metadata": {
    "collapsed": false
   },
   "outputs": [],
   "source": [
    "deq :: DifferentialEqn ℝ ℝ\n",
    "deq (Shade' (_,y) δxy) = Shade' (denseLinear $ \\δx -> y*δx/4)\n",
    "                                (projector (denseLinear $ \\δy -> metric δxy (0,δy)))\n",
    "-- Option (Just (shyl', qvr)) = filterDEqnSolution_loc deq (blockl, [blockr])\n",
    "-- (shyl', qvr $ 1)"
   ]
  },
  {
   "cell_type": "code",
   "execution_count": 7,
   "metadata": {
    "collapsed": true
   },
   "outputs": [],
   "source": [
    "itWhileJ :: (a -> Option a) -> a -> [a]\n",
    "itWhileJ f x | Option (Just y) <- f x  = x : itWhileJ f y\n",
    "itWhileJ _ _ = []\n",
    "\n",
    "skipN :: Int -> [a] -> [a]\n",
    "skipN n xs = case splitAt n xs of\n",
    "    (x:_, xs') -> x : skipN n xs'\n",
    "    ([], []) -> []"
   ]
  },
  {
   "cell_type": "code",
   "execution_count": 23,
   "metadata": {
    "collapsed": false
   },
   "outputs": [
    {
     "data": {
      "text/plain": [
       "GraphWindowSpecR2{lBound=-5.0, rBound=8.0, bBound=-3.0, tBound=5.0, xResolution=640, yResolution=480}"
      ]
     },
     "metadata": {},
     "output_type": "display_data"
    }
   ],
   "source": [
    "tf <- runRVar (uncrtFuncIntervalSpls 50 (-1,1) $ \\x -> (1, exp (x/2))) StdRandom\n",
    "-- plotWindow [plot tf, viewRange]\n",
    "\n",
    "tfs = itWhileJ (filterDEqnSolution_static deq) tf\n",
    "plotWindow $ viewRange : (plot <$> skipN 1 tfs)\n",
    "-- onlyLeaves tf'"
   ]
  },
  {
   "cell_type": "code",
   "execution_count": null,
   "metadata": {
    "collapsed": true
   },
   "outputs": [],
   "source": []
  }
 ],
 "metadata": {
  "kernelspec": {
   "display_name": "Haskell",
   "language": "haskell",
   "name": "haskell"
  },
  "language_info": {
   "codemirror_mode": "ihaskell",
   "file_extension": ".hs",
   "name": "haskell",
   "version": "7.10.2"
  }
 },
 "nbformat": 4,
 "nbformat_minor": 0
}
