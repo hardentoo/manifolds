{
 "cells": [
  {
   "cell_type": "code",
   "execution_count": 1,
   "metadata": {
    "collapsed": true
   },
   "outputs": [],
   "source": [
    "{-# LANGUAGE TypeOperators, FlexibleContexts, TypeFamilies #-}\n",
    "import Prelude ()\n",
    "import Data.Manifold.TreeCover\n",
    "import Data.Random\n",
    "import Data.Random.Manifold\n",
    "import Data.Manifold\n",
    "import Data.Manifold.Web\n",
    "import Data.LinearMap.HerMetric\n",
    "import Data.VectorSpace\n",
    "import Data.Semigroup\n",
    "import qualified Data.Foldable as Hask\n",
    "import Control.Lens\n",
    "\n",
    "import Control.Category.Constrained.Prelude\n",
    ":opt no-lint  -- lint gives bogus warnings with constrained-categories"
   ]
  },
  {
   "cell_type": "markdown",
   "metadata": {},
   "source": [
    "From [dynamic-plot](http://hackage.haskell.org/package/dynamic-plot):"
   ]
  },
  {
   "cell_type": "code",
   "execution_count": 2,
   "metadata": {
    "collapsed": false
   },
   "outputs": [],
   "source": [
    "import Graphics.Dynamic.Plot.R2\n",
    "\n",
    "type X = ℝ\n",
    "type Y = ℝ\n",
    "\n",
    "viewRange = plot [forceXRange (-2,4), forceYRange (-1,3)]"
   ]
  },
  {
   "cell_type": "code",
   "execution_count": 7,
   "metadata": {
    "collapsed": false
   },
   "outputs": [],
   "source": [
    "μ :: Linear ℝ Y (LocalLinear X Y)\n",
    "μ = denseLinear $ \\y -> denseLinear $ \\δx -> y*δx\n",
    "\n",
    "deq :: DifferentialEqn X Y\n",
    "deq (Shade (_,y) δxy) = Shade' (μ $ y)\n",
    "                        $ recipMetric (projector' (μ $ snd (fromDualWith δxy (0,1))))"
   ]
  },
  {
   "cell_type": "code",
   "execution_count": 21,
   "metadata": {
    "collapsed": true
   },
   "outputs": [],
   "source": [
    "itWhileJ :: (a -> Option a) -> a -> [a]\n",
    "itWhileJ f x | Option (Just y) <- f x  = x : itWhileJ f y\n",
    "itWhileJ _ x = [x]\n",
    "\n",
    "skipN :: Int -> [a] -> [a]\n",
    "skipN n xs = case splitAt n xs of\n",
    "    ([], []) -> []\n",
    "    ([x], []) -> [x]\n",
    "    (xs₀, []) -> [head xs₀, last xs₀]\n",
    "    (x:_, xs') -> x : skipN n xs'"
   ]
  },
  {
   "cell_type": "code",
   "execution_count": 29,
   "metadata": {
    "collapsed": false
   },
   "outputs": [
    {
     "data": {
      "text/plain": [
       "GraphWindowSpecR2{lBound=-0.16666666666666674, rBound=1.166666666666667, bBound=0.7199724780829753, tBound=2.9574487411053374, xResolution=640, yResolution=480}"
      ]
     },
     "metadata": {},
     "output_type": "display_data"
    }
   ],
   "source": [
    "tf :: PointsWeb X (Shade' Y)\n",
    "tf = fromWebNodes euclideanMetric\n",
    "        [(x, 1|±|[exp x*2-1.95]) | x<-[0, 0.05 .. 1] ]\n",
    "\n",
    "tfs = itWhileJ (filterDEqnSolution_static deq) tf\n",
    "plotWindow $ plot <$> reverse tfs\n",
    "-- Hask.toList . localFocusWeb $ head tfs\n",
    "-- onlyLeaves tf'"
   ]
  },
  {
   "cell_type": "markdown",
   "metadata": {
    "collapsed": true
   },
   "source": [
    "![filtering the exponential function as a solution to an ODE](https://raw.githubusercontent.com/leftaroundabout/manifolds/master/manifolds/images/examples/ODE-solution-filter/simple-exponential.png)"
   ]
  },
  {
   "cell_type": "code",
   "execution_count": 6,
   "metadata": {
    "collapsed": false
   },
   "outputs": [
    {
     "data": {
      "text/plain": [
       "Shade {_shadeCtr = (1.5,1.5), _shadeExpanse = projector' (-0.23183461111316336,2.8933254794642274) ^+^ projector' (-0.7558126177102419,-6.0561290302438765e-2)}"
      ]
     },
     "metadata": {},
     "output_type": "display_data"
    },
    {
     "data": {
      "text/plain": [
       "Shade' {_shade'Ctr = outerProducts [(0.375,1.0)], _shade'Narrowness = projector (outerProducts [(0.47761194029850745,1.0)])}"
      ]
     },
     "metadata": {},
     "output_type": "display_data"
    },
    {
     "data": {
      "text/plain": [
       "1.125"
      ]
     },
     "metadata": {},
     "output_type": "display_data"
    }
   ],
   "source": [
    "blockm ::  (X, Shade' Y)\n",
    "blockm = (1, 2|±|[2])\n",
    "blocks :: [(X, Shade' Y)]\n",
    "blocks = [(x, 1|±|[1]) | x<-[0,2]]\n",
    "\n",
    "Option (Just (shyl')) = filterDEqnSolution_loc deq (blockm, take 1 blocks)\n",
    "\n",
    "[mcover] = pointsCovers [ (xs, ys')\n",
    "                        | (xs, Shade' ys yse) <- blockm : tail blocks\n",
    "                        , δy <- eigenCoSpan' yse\n",
    "                        , ys' <- [ys.-~^δy, ys.+~^δy]] :: [Shade (X,Y)]\n",
    "-- plotWindow [plot mcover]\n",
    "mcover\n",
    "Shade (mcxc, mcyc) mce = mcover\n",
    "deq mcover\n",
    "Shade' jc jn = deq mcover\n",
    "mcyc ^-^ (jc $ 1)\n",
    "applyLinMapMetric jn (toDualWith)"
   ]
  }
 ],
 "metadata": {
  "kernelspec": {
   "display_name": "Haskell",
   "language": "haskell",
   "name": "haskell"
  },
  "language_info": {
   "codemirror_mode": "ihaskell",
   "file_extension": ".hs",
   "name": "haskell",
   "version": "7.10.2"
  }
 },
 "nbformat": 4,
 "nbformat_minor": 0
}
