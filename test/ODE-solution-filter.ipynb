{
 "cells": [
  {
   "cell_type": "code",
   "execution_count": 1,
   "metadata": {
    "collapsed": true
   },
   "outputs": [],
   "source": [
    "{-# LANGUAGE TypeOperators, FlexibleContexts, TypeFamilies #-}\n",
    "import Prelude ()\n",
    "import Data.Manifold.TreeCover\n",
    "import Data.Random\n",
    "import Data.Random.Manifold\n",
    "import Data.Manifold\n",
    "import Data.Manifold.Web\n",
    "import Data.Manifold.DifferentialEquation\n",
    "import Data.LinearMap.HerMetric\n",
    "import Data.VectorSpace\n",
    "import Data.Semigroup\n",
    "import qualified Data.Foldable as Hask\n",
    "import Control.Lens\n",
    "\n",
    "import Control.Category.Constrained.Prelude\n",
    "import Control.Arrow.Constrained\n",
    ":opt no-lint  -- lint gives bogus warnings with constrained-categories"
   ]
  },
  {
   "cell_type": "markdown",
   "metadata": {},
   "source": [
    "From [diagrams](http://projects.haskell.org/diagrams):"
   ]
  },
  {
   "cell_type": "code",
   "execution_count": 2,
   "metadata": {
    "collapsed": true
   },
   "outputs": [],
   "source": [
    "import Diagrams.Prelude (p2, circle, (&), moveTo, opacity, fromVertices)"
   ]
  },
  {
   "cell_type": "markdown",
   "metadata": {},
   "source": [
    "From [dynamic-plot](http://hackage.haskell.org/package/dynamic-plot):"
   ]
  },
  {
   "cell_type": "code",
   "execution_count": 3,
   "metadata": {
    "collapsed": false
   },
   "outputs": [],
   "source": [
    "import Graphics.Dynamic.Plot.R2\n",
    "\n",
    "type X = ℝ\n",
    "type Y = ℝ\n",
    "\n",
    "viewRange = plot [forceXRange (-2,4), forceYRange (-1,3)]\n",
    "\n",
    "wPlot' :: PointsWeb ℝ (Shade' ℝ) -> DynamicPlottable\n",
    "wPlot' wb = plot\n",
    "            [ shapePlot $ fromVertices [p2 (x₁,y₁), p2 (x₂,y₂)]\n",
    "            | ((x₁,Shade' y₁ _),(x₂,Shade' y₂ _)) <- edg ]\n",
    " where edg = webEdges wb"
   ]
  },
  {
   "cell_type": "code",
   "execution_count": 4,
   "metadata": {
    "collapsed": false
   },
   "outputs": [],
   "source": [
    "μ :: Linear ℝ (DualSpace Y) (LocalLinear Y X)\n",
    "μ = denseLinear $ \\λ -> denseLinear $ \\δy -> δy*λ\n",
    "\n",
    "deq :: DifferentialEqn X Y\n",
    "deq = constLinearDEqn μ"
   ]
  },
  {
   "cell_type": "code",
   "execution_count": 5,
   "metadata": {
    "collapsed": true
   },
   "outputs": [],
   "source": [
    "skipN :: Int -> [a] -> [a]\n",
    "skipN n xs = case splitAt n xs of\n",
    "    ([], []) -> []\n",
    "    ([x], []) -> [x]\n",
    "    (xs₀, []) -> [head xs₀, last xs₀]\n",
    "    (x:_, xs') -> x : skipN n xs'"
   ]
  },
  {
   "cell_type": "code",
   "execution_count": 14,
   "metadata": {
    "collapsed": false
   },
   "outputs": [
    {
     "data": {
      "text/plain": []
     },
     "metadata": {},
     "output_type": "display_data"
    }
   ],
   "source": [
    "tf :: PointsWeb X (Shade' Y)\n",
    "tf = fromWebNodes euclideanMetric\n",
    "        [(x, 1|±|[exp x*2-1.99]) | x<-[0, 0.1 .. 1.2] ]\n",
    "\n",
    "forM_ [{- iterateFilterDEqn_static deq tf\n",
    "      , -}iterateFilterDEqn_adaptive euclideanMetric deq (euclideanVolGoal 0.0001) tf]\n",
    "  $ \\tfs -> plotWindow $\n",
    "      ( plot ((1,exp 1):±[(0.1,0),(0,0.1)] :: Shade ℝ²) ) -- Euler's number as reference for x=1\n",
    "    : ( plot <$> reverse (take 20 $ skipN 5 tfs) )"
   ]
  },
  {
   "cell_type": "markdown",
   "metadata": {
    "collapsed": true
   },
   "source": [
    "![filtering the exponential function as a solution to an ODE](https://raw.githubusercontent.com/leftaroundabout/manifolds/master/manifolds/images/examples/ODE-solution-filter/simple-exponential.png)"
   ]
  },
  {
   "cell_type": "code",
   "execution_count": 6,
   "metadata": {
    "collapsed": false
   },
   "outputs": [],
   "source": [
    "type YZ = ℝ²\n",
    "\n",
    "μ₂ :: Linear ℝ (DualSpace YZ) (LocalLinear YZ X)\n",
    "μ₂ = denseLinear $ \\(λ,и) -> denseLinear $ \\(δy,δz) -> λ*δz - и*δy\n",
    "\n",
    "deq₂ :: DifferentialEqn X YZ\n",
    "deq₂ = constLinearDEqn μ₂"
   ]
  },
  {
   "cell_type": "code",
   "execution_count": 7,
   "metadata": {
    "collapsed": false
   },
   "outputs": [
    {
     "data": {
      "text/plain": [
       "GraphWindowSpecR2{lBound=-0.16666666666666674, rBound=1.1666666666666672, bBound=-0.16666666666666669, tBound=1.1666666666666667, xResolution=640, yResolution=480}"
      ]
     },
     "metadata": {},
     "output_type": "display_data"
    }
   ],
   "source": [
    "tf₂ :: PointsWeb X (Shade' YZ)\n",
    "tf₂ = fromWebNodes euclideanMetric\n",
    "        [(x, (1,0)|±|[(0,δ),(δ,0)]) | x<-[0, 0.02 .. 1], let δ = 0.0001 + atan (4*x) ]\n",
    "\n",
    "tfs₂ = iterateFilterDEqn_static deq₂ tf₂\n",
    "plotWindow $\n",
    "    continFnPlot sin : continFnPlot cos :\n",
    "  ( plot <$> [ plot [fmap fst tffacts, fmap snd tffacts]\n",
    "             | tf' <- reverse (take 20 $ skipN 15 tfs₂)\n",
    "             , let tffacts = fmap factoriseShade tf' ] )"
   ]
  },
  {
   "cell_type": "markdown",
   "metadata": {
    "collapsed": true
   },
   "source": [
    "![filtering the sin and cosine function as a solution to an ODE](https://raw.githubusercontent.com/leftaroundabout/manifolds/master/manifolds/images/examples/ODE-solution-filter/simple-trigonometric.png)"
   ]
  },
  {
   "cell_type": "code",
   "execution_count": null,
   "metadata": {
    "collapsed": true
   },
   "outputs": [],
   "source": []
  }
 ],
 "metadata": {
  "kernelspec": {
   "display_name": "Haskell",
   "language": "haskell",
   "name": "haskell"
  },
  "language_info": {
   "codemirror_mode": "ihaskell",
   "file_extension": ".hs",
   "name": "haskell",
   "version": "7.10.2"
  }
 },
 "nbformat": 4,
 "nbformat_minor": 0
}
