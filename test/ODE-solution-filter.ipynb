{
 "cells": [
  {
   "cell_type": "code",
   "execution_count": 1,
   "metadata": {
    "collapsed": false
   },
   "outputs": [],
   "source": [
    "{-# LANGUAGE TypeOperators, FlexibleContexts, TypeFamilies #-}\n",
    "import Prelude ()\n",
    "import Data.Manifold.TreeCover\n",
    "import Data.Random\n",
    "import Data.Random.Manifold\n",
    "import Data.Manifold\n",
    "import Data.Manifold.Web\n",
    "import Data.Manifold.DifferentialEquation\n",
    "import Math.LinearMap.Category\n",
    "import Data.VectorSpace\n",
    "import Linear(V2(..))\n",
    "import Data.Semigroup\n",
    "import qualified Data.Foldable as Hask\n",
    "import Control.Lens\n",
    "\n",
    "import Control.Category.Constrained.Prelude\n",
    "import Control.Arrow.Constrained\n",
    ":opt no-lint  -- lint gives bogus warnings with constrained-categories"
   ]
  },
  {
   "cell_type": "markdown",
   "metadata": {},
   "source": [
    "From [diagrams](http://projects.haskell.org/diagrams):"
   ]
  },
  {
   "cell_type": "code",
   "execution_count": 2,
   "metadata": {
    "collapsed": true
   },
   "outputs": [],
   "source": [
    "import Diagrams.Prelude (p2, circle, (&), (^&), moveTo, opacity, fromVertices)"
   ]
  },
  {
   "cell_type": "markdown",
   "metadata": {},
   "source": [
    "From [dynamic-plot](http://hackage.haskell.org/package/dynamic-plot):"
   ]
  },
  {
   "cell_type": "code",
   "execution_count": 3,
   "metadata": {
    "collapsed": false
   },
   "outputs": [],
   "source": [
    "import Graphics.Dynamic.Plot.R2\n",
    "\n",
    "type X = ℝ\n",
    "type Y = ℝ\n",
    "\n",
    "viewRange = plot [forceXRange (-2,4), forceYRange (-1,3)]\n",
    "\n",
    "wPlot' :: PointsWeb X (Shade' Y) -> DynamicPlottable\n",
    "wPlot' wb = plot\n",
    "            [ shapePlot $ fromVertices [p2 (x₁,y₁), p2 (x₂,y₂)]\n",
    "            | ((x₁,Shade' y₁ _),(x₂,Shade' y₂ _)) <- edg ]\n",
    " where edg = webEdges wb"
   ]
  },
  {
   "cell_type": "code",
   "execution_count": 4,
   "metadata": {
    "collapsed": false
   },
   "outputs": [],
   "source": [
    "μ :: LocalLinear X Y +> Y\n",
    "μ = arr.LinearFunction $ \\d -> d$1\n",
    "\n",
    "deq :: DifferentialEqn X Y\n",
    "deq = constLinearODE μ\n",
    "\n",
    "-- import Data.Type.Coercion\n",
    "-- transformNorm (fmap (arr Coercion . transposeTensor) . blockVectSpan' $ (1 :: ℝ))\n",
    "--     $ deq ((0^&4):±[1^&0, 0^&1])^.shadeNarrowness\n",
    "--     :: Norm ℝ"
   ]
  },
  {
   "cell_type": "code",
   "execution_count": 5,
   "metadata": {
    "collapsed": true
   },
   "outputs": [],
   "source": [
    "skipN :: Int -> [a] -> [a]\n",
    "skipN n xs = case splitAt n xs of\n",
    "    ([], []) -> []\n",
    "    ([x], []) -> [x]\n",
    "    (xs₀, []) -> [head xs₀, last xs₀]\n",
    "    (x:_, xs') -> x : skipN n xs'"
   ]
  },
  {
   "cell_type": "code",
   "execution_count": 9,
   "metadata": {
    "collapsed": false
   },
   "outputs": [
    {
     "data": {
      "text/plain": []
     },
     "metadata": {},
     "output_type": "display_data"
    }
   ],
   "source": [
    "tf :: Needle X -> PointsWeb X (Shade' Y)\n",
    "tf δx₀ = fromWebNodes euclideanMetric\n",
    "        [(x, 1|±|[exp x*2-1.9999]) | x<-[0, δx₀ .. 1.2] ]\n",
    "\n",
    "forM_ [ iterateFilterDEqn_static AbortOnInconsistency deq (tf 0.02)\n",
    "      ]--, iterateFilterDEqn_adaptive euclideanMetric AbortOnInconsistency\n",
    "         --          deq (euclideanVolGoal 0.01) (tf 0.1)]\n",
    "  $ \\tfs -> do\n",
    "    when (null $ drop 10 tfs) . print $ length tfs\n",
    "    plotWindow\n",
    "       [ plot ((1^&exp 1) :± [0.1^&0, 0^&0.1] :: Shade ℝ²) -- Euler's number as reference for x=1\n",
    "       , plotLatest tfs ]"
   ]
  },
  {
   "cell_type": "markdown",
   "metadata": {
    "collapsed": true
   },
   "source": [
    "![filtering the exponential function as a solution to an ODE](https://raw.githubusercontent.com/leftaroundabout/manifolds/master/manifolds/images/examples/ODE-solution-filter/simple-exponential.png)\n",
    "![filtering the exponential function as a solution to an ODE (adaptive resolution)](https://raw.githubusercontent.com/leftaroundabout/manifolds/master/manifolds/images/examples/ODE-solution-filter/simple-exponential-adaptive.png)"
   ]
  },
  {
   "cell_type": "code",
   "execution_count": 7,
   "metadata": {
    "collapsed": false
   },
   "outputs": [],
   "source": [
    "type YZ = ℝ²\n",
    "\n",
    "μ₂ :: LocalLinear X YZ +> YZ\n",
    "μ₂ = arr.LinearFunction $ ($1) >>> \\(V2 dy dz) -> V2 dz (-dy)\n",
    "\n",
    "deq₂ :: DifferentialEqn X YZ\n",
    "deq₂ = constLinearODE μ₂"
   ]
  },
  {
   "cell_type": "code",
   "execution_count": null,
   "metadata": {
    "collapsed": false
   },
   "outputs": [],
   "source": [
    "tf₂ :: Needle X -> PointsWeb X (Shade' YZ)\n",
    "tf₂ δx₀ = fromWebNodes euclideanMetric\n",
    "        [(x, (1^&0)|±|[0^&δ, δ^&0]) | x<-[0, δx₀ .. 1], let δ = 0.0001 + atan (4*x) ]\n",
    "\n",
    "forM_ [ iterateFilterDEqn_static AbortOnInconsistency deq₂ (tf₂ 0.02)\n",
    "      ]--, iterateFilterDEqn_adaptive euclideanMetric AbortOnInconsistency\n",
    "         --     deq₂ (euclideanVolGoal 0.0001) (tf₂ 0.1) ]\n",
    "   $ \\tfs₂ -> do\n",
    " plotWindow [ continFnPlot sin, continFnPlot cos\n",
    "  , plotLatest [ plot [fmap fst tffacts, fmap snd tffacts]\n",
    "               | tf' <- tfs₂\n",
    "               , let tffacts = fmap factoriseShade (coerceShade <$> tf' :: PointsWeb X (Shade' (Y,Y))) ] ]"
   ]
  },
  {
   "cell_type": "markdown",
   "metadata": {
    "collapsed": true
   },
   "source": [
    "![filtering the sin and cosine function as a solution to an ODE](https://raw.githubusercontent.com/leftaroundabout/manifolds/master/manifolds/images/examples/ODE-solution-filter/simple-trigonometric.png)\n",
    "![filtering the sin and cosine function as a solution to an ODE (adaptive resolution)](https://raw.githubusercontent.com/leftaroundabout/manifolds/master/manifolds/images/examples/ODE-solution-filter/simple-trigonometric-adaptive.png)"
   ]
  },
  {
   "cell_type": "code",
   "execution_count": null,
   "metadata": {
    "collapsed": true
   },
   "outputs": [],
   "source": []
  }
 ],
 "metadata": {
  "kernelspec": {
   "display_name": "Haskell",
   "language": "haskell",
   "name": "haskell"
  },
  "language_info": {
   "codemirror_mode": "ihaskell",
   "file_extension": ".hs",
   "name": "haskell",
   "version": "7.10.2"
  }
 },
 "nbformat": 4,
 "nbformat_minor": 0
}
