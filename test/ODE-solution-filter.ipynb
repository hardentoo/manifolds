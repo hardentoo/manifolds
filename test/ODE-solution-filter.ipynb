{
 "cells": [
  {
   "cell_type": "code",
   "execution_count": 1,
   "metadata": {
    "collapsed": true
   },
   "outputs": [],
   "source": [
    "{-# LANGUAGE TypeOperators, FlexibleContexts, TypeFamilies #-}\n",
    "import Prelude ()\n",
    "import Data.Manifold.TreeCover\n",
    "import Data.Random\n",
    "import Data.Random.Manifold\n",
    "import Data.Manifold\n",
    "import Data.Manifold.Web\n",
    "import Data.LinearMap.HerMetric\n",
    "import Data.VectorSpace\n",
    "import Data.Semigroup\n",
    "import qualified Data.Foldable as Hask\n",
    "import Control.Lens\n",
    "\n",
    "import Control.Category.Constrained.Prelude\n",
    "import Control.Arrow.Constrained\n",
    ":opt no-lint  -- lint gives bogus warnings with constrained-categories"
   ]
  },
  {
   "cell_type": "markdown",
   "metadata": {},
   "source": [
    "From [dynamic-plot](http://hackage.haskell.org/package/dynamic-plot):"
   ]
  },
  {
   "cell_type": "code",
   "execution_count": 2,
   "metadata": {
    "collapsed": false
   },
   "outputs": [],
   "source": [
    "import Graphics.Dynamic.Plot.R2\n",
    "\n",
    "type X = ℝ\n",
    "type Y = ℝ\n",
    "\n",
    "viewRange = plot [forceXRange (-2,4), forceYRange (-1,3)]"
   ]
  },
  {
   "cell_type": "code",
   "execution_count": 3,
   "metadata": {
    "collapsed": false
   },
   "outputs": [],
   "source": [
    "μ :: Linear ℝ Y (LocalLinear X Y)\n",
    "μ = denseLinear $ \\y -> denseLinear $ \\δx -> y*δx\n",
    "\n",
    "deq :: DifferentialEqn X Y\n",
    "deq = factoriseShade >>> snd >>> \\(Shade y δy)\n",
    "     -> Shade' (μ $ y) $ recipMetric (projector' (μ $ sqrt (fromDualWith δy 1)))"
   ]
  },
  {
   "cell_type": "code",
   "execution_count": 4,
   "metadata": {
    "collapsed": true
   },
   "outputs": [],
   "source": [
    "skipN :: Int -> [a] -> [a]\n",
    "skipN n xs = case splitAt n xs of\n",
    "    ([], []) -> []\n",
    "    ([x], []) -> [x]\n",
    "    (xs₀, []) -> [head xs₀, last xs₀]\n",
    "    (x:_, xs') -> x : skipN n xs'"
   ]
  },
  {
   "cell_type": "code",
   "execution_count": 6,
   "metadata": {
    "collapsed": false
   },
   "outputs": [
    {
     "data": {
      "text/plain": [
       "GraphWindowSpecR2{lBound=-0.21937129433613967, rBound=1.5355990603529777, bBound=0.6065648111212638, tBound=3.754046322151154, xResolution=640, yResolution=480}"
      ]
     },
     "metadata": {},
     "output_type": "display_data"
    }
   ],
   "source": [
    "tf :: PointsWeb X (Shade' Y)\n",
    "tf = fromWebNodes euclideanMetric\n",
    "        [(x, 1|±|[exp x*2-1.99]) | x<-[0, 0.02 .. 1.2] ]\n",
    "\n",
    "tfs = iterateFilterDEqn_static deq tf\n",
    "plotWindow $\n",
    "      ( plot ((1,exp 1):±[(0.1,0),(0,0.1)] :: Shade ℝ²) ) -- Euler's number as reference for x=1\n",
    "    : ( plot <$> reverse (take 10 $ skipN 10 tfs) )\n",
    "-- Hask.toList . localFocusWeb $ head tfs\n",
    "-- onlyLeaves tf'"
   ]
  },
  {
   "cell_type": "markdown",
   "metadata": {
    "collapsed": true
   },
   "source": [
    "![filtering the exponential function as a solution to an ODE](https://raw.githubusercontent.com/leftaroundabout/manifolds/master/manifolds/images/examples/ODE-solution-filter/simple-exponential.png)"
   ]
  }
 ],
 "metadata": {
  "kernelspec": {
   "display_name": "Haskell",
   "language": "haskell",
   "name": "haskell"
  },
  "language_info": {
   "codemirror_mode": "ihaskell",
   "file_extension": ".hs",
   "name": "haskell",
   "version": "7.10.2"
  }
 },
 "nbformat": 4,
 "nbformat_minor": 0
}
