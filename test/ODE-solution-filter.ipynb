{
 "cells": [
  {
   "cell_type": "code",
   "execution_count": 1,
   "metadata": {
    "collapsed": true
   },
   "outputs": [],
   "source": [
    "{-# LANGUAGE TypeOperators, FlexibleContexts, TypeFamilies #-}\n",
    "import Prelude ()\n",
    "import Data.Manifold.TreeCover\n",
    "import Data.Random\n",
    "import Data.Random.Manifold\n",
    "import Data.Manifold\n",
    "import Data.Manifold.Web\n",
    "import Data.LinearMap.HerMetric\n",
    "import Data.VectorSpace\n",
    "import Data.Semigroup\n",
    "import qualified Data.Foldable as Hask\n",
    "import Control.Lens\n",
    "\n",
    "import Control.Category.Constrained.Prelude\n",
    "import Control.Arrow.Constrained\n",
    ":opt no-lint  -- lint gives bogus warnings with constrained-categories"
   ]
  },
  {
   "cell_type": "markdown",
   "metadata": {},
   "source": [
    "From [dynamic-plot](http://hackage.haskell.org/package/dynamic-plot):"
   ]
  },
  {
   "cell_type": "code",
   "execution_count": 2,
   "metadata": {
    "collapsed": false
   },
   "outputs": [],
   "source": [
    "import Graphics.Dynamic.Plot.R2\n",
    "\n",
    "type X = ℝ\n",
    "type Y = ℝ\n",
    "\n",
    "viewRange = plot [forceXRange (-2,4), forceYRange (-1,3)]"
   ]
  },
  {
   "cell_type": "code",
   "execution_count": 16,
   "metadata": {
    "collapsed": false
   },
   "outputs": [],
   "source": [
    "μ :: Linear ℝ Y (LocalLinear X Y)\n",
    "μ = denseLinear $ \\y -> denseLinear $ \\δx -> y*δx\n",
    "\n",
    "μ' :: Linear ℝ (LocalLinear X Y) Y\n",
    "μ' = adjoint . denseLinear $ \\λ -> denseLinear $ \\δy -> δy*λ\n",
    "\n",
    "deq :: DifferentialEqn X Y\n",
    "deq = factoriseShade >>> snd >>> \\(Shade y δy)\n",
    "     -> let j = μ $ y   -- X-->Y\n",
    "            δj = μ' `transformMetric` recipMetric δy -- Metric (X-->Y)\n",
    "        in Shade' j δj\n",
    "     -- δy :: Metric' Y ~ Metric Y' ~ Y'-->Y\n",
    "     -- recipMetric δy :: Metric Y ~ Y-->Y'\n",
    "     -- δj :: Metric (X-->Y) ~ (X-->Y)-->(X-->Y)' ~ (X-->Y)-->(Y-->X)\n",
    "     --     ~ Metric' (Y-->X)\n",
    "     -- (`transformMetric'`δy) :: (Y-->W) -> Metric' W\n",
    "     -- (`transformMetric`recipMetric δy) :: (W-->Y) -> Metric W\n",
    "     -- (μ' `transformMetric` recipMetric δy) :: Metric (X-->Y)\n",
    "     -- μ :: Y --> (X-->Y)\n",
    "     -- adjoint μ :: (X-->Y)' -> Y' ~ (Y-->X) -> Y'\n",
    "     -- μ' :: (X-->Y) -> Y\n",
    "     -- adjoint j :: Y'-->X'\n",
    "     -- adjoint j' :: X'-->Y'\n",
    "     -- adjoint j . recipMetric δy . j :: X-->X'\n",
    "     -- j' . δy . adjoint j' :: X'-->X"
   ]
  },
  {
   "cell_type": "code",
   "execution_count": 17,
   "metadata": {
    "collapsed": true
   },
   "outputs": [],
   "source": [
    "skipN :: Int -> [a] -> [a]\n",
    "skipN n xs = case splitAt n xs of\n",
    "    ([], []) -> []\n",
    "    ([x], []) -> [x]\n",
    "    (xs₀, []) -> [head xs₀, last xs₀]\n",
    "    (x:_, xs') -> x : skipN n xs'"
   ]
  },
  {
   "cell_type": "code",
   "execution_count": 18,
   "metadata": {
    "collapsed": false
   },
   "outputs": [
    {
     "data": {
      "text/plain": [
       "GraphWindowSpecR2{lBound=-0.2193712943361397, rBound=1.5355990603529779, bBound=0.6065648111212638, tBound=3.7540463221511544, xResolution=640, yResolution=480}"
      ]
     },
     "metadata": {},
     "output_type": "display_data"
    }
   ],
   "source": [
    "tf :: PointsWeb X (Shade' Y)\n",
    "tf = fromWebNodes euclideanMetric\n",
    "        [(x, 1|±|[exp x*2-1.99]) | x<-[0, 0.02 .. 1.2] ]\n",
    "\n",
    "tfs = iterateFilterDEqn_static deq tf\n",
    "plotWindow $\n",
    "      ( plot ((1,exp 1):±[(0.1,0),(0,0.1)] :: Shade ℝ²) ) -- Euler's number as reference for x=1\n",
    "    : ( plot <$> reverse (take 10 $ skipN 10 tfs) )\n",
    "-- Hask.toList . localFocusWeb $ head tfs\n",
    "-- onlyLeaves tf'"
   ]
  },
  {
   "cell_type": "markdown",
   "metadata": {
    "collapsed": true
   },
   "source": [
    "![filtering the exponential function as a solution to an ODE](https://raw.githubusercontent.com/leftaroundabout/manifolds/master/manifolds/images/examples/ODE-solution-filter/simple-exponential.png)"
   ]
  },
  {
   "cell_type": "code",
   "execution_count": 7,
   "metadata": {
    "collapsed": false
   },
   "outputs": [
    {
     "data": {
      "text/html": [
       "<style>/* Styles used for the Hoogle display in the pager */\n",
       ".hoogle-doc {\n",
       "display: block;\n",
       "padding-bottom: 1.3em;\n",
       "padding-left: 0.4em;\n",
       "}\n",
       ".hoogle-code {\n",
       "display: block;\n",
       "font-family: monospace;\n",
       "white-space: pre;\n",
       "}\n",
       ".hoogle-text {\n",
       "display: block;\n",
       "}\n",
       ".hoogle-name {\n",
       "color: green;\n",
       "font-weight: bold;\n",
       "}\n",
       ".hoogle-head {\n",
       "font-weight: bold;\n",
       "}\n",
       ".hoogle-sub {\n",
       "display: block;\n",
       "margin-left: 0.4em;\n",
       "}\n",
       ".hoogle-package {\n",
       "font-weight: bold;\n",
       "font-style: italic;\n",
       "}\n",
       ".hoogle-module {\n",
       "font-weight: bold;\n",
       "}\n",
       ".hoogle-class {\n",
       "font-weight: bold;\n",
       "}\n",
       ".get-type {\n",
       "color: green;\n",
       "font-weight: bold;\n",
       "font-family: monospace;\n",
       "display: block;\n",
       "white-space: pre-wrap;\n",
       "}\n",
       ".show-type {\n",
       "color: green;\n",
       "font-weight: bold;\n",
       "font-family: monospace;\n",
       "margin-left: 1em;\n",
       "}\n",
       ".mono {\n",
       "font-family: monospace;\n",
       "display: block;\n",
       "}\n",
       ".err-msg {\n",
       "color: red;\n",
       "font-style: italic;\n",
       "font-family: monospace;\n",
       "white-space: pre;\n",
       "display: block;\n",
       "}\n",
       "#unshowable {\n",
       "color: red;\n",
       "font-weight: bold;\n",
       "}\n",
       ".err-msg.in.collapse {\n",
       "padding-top: 0.7em;\n",
       "}\n",
       ".highlight-code {\n",
       "white-space: pre;\n",
       "font-family: monospace;\n",
       "}\n",
       ".suggestion-warning { \n",
       "font-weight: bold;\n",
       "color: rgb(200, 130, 0);\n",
       "}\n",
       ".suggestion-error { \n",
       "font-weight: bold;\n",
       "color: red;\n",
       "}\n",
       ".suggestion-name {\n",
       "font-weight: bold;\n",
       "}\n",
       "</style><span class='err-msg'>No instance for (Floating interactive:IHaskell79.YZ) arising from a use of ‘sqrt’<br/>In the second argument of ‘(<span>$</span>)’, namely ‘sqrt (fromDualWith δyz 1)’<br/>In the first argument of ‘projector'’, namely ‘(interactive:IHaskell79.μ₂ <span>$</span> sqrt (fromDualWith δyz 1))’<br/>In the first argument of ‘recipMetric’, namely ‘(projector' (interactive:IHaskell79.μ₂ <span>$</span> sqrt (fromDualWith δyz 1)))’<br/><br/>No instance for (Num (Double, Double)) arising from the literal ‘1’<br/>In the second argument of ‘fromDualWith’, namely ‘1’<br/>In the first argument of ‘sqrt’, namely ‘(fromDualWith δyz 1)’<br/>In the second argument of ‘(<span>$</span>)’, namely ‘sqrt (fromDualWith δyz 1)’</span>"
      ],
      "text/plain": [
       "No instance for (Floating interactive:Ghci79.YZ) arising from a use of ‘sqrt’\n",
       "In the second argument of ‘($)’, namely ‘sqrt (fromDualWith δyz 1)’\n",
       "In the first argument of ‘projector'’, namely ‘(interactive:Ghci79.μ₂ $ sqrt (fromDualWith δyz 1))’\n",
       "In the first argument of ‘recipMetric’, namely ‘(projector' (interactive:Ghci79.μ₂ $ sqrt (fromDualWith δyz 1)))’\n",
       "\n",
       "No instance for (Num (Double, Double)) arising from the literal ‘1’\n",
       "In the second argument of ‘fromDualWith’, namely ‘1’\n",
       "In the first argument of ‘sqrt’, namely ‘(fromDualWith δyz 1)’\n",
       "In the second argument of ‘($)’, namely ‘sqrt (fromDualWith δyz 1)’"
      ]
     },
     "metadata": {},
     "output_type": "display_data"
    }
   ],
   "source": [
    "type YZ = ℝ²\n",
    "\n",
    "μ₂ :: Linear ℝ YZ (LocalLinear X YZ)\n",
    "μ₂ = denseLinear $ \\(y,z) -> denseLinear $ \\δx -> (z*δx, -y*δx)\n",
    "\n",
    "deq₂ :: DifferentialEqn X YZ\n",
    "deq₂ = factoriseShade >>> snd >>> \\(Shade yz δyz)\n",
    "     -> Shade' (μ₂ $ yz) $ recipMetric (projector' (μ₂ $ sqrt (fromDualWith δyz 1)))"
   ]
  },
  {
   "cell_type": "code",
   "execution_count": 11,
   "metadata": {
    "collapsed": false
   },
   "outputs": [
    {
     "data": {
      "text/html": [
       "<style>/* Styles used for the Hoogle display in the pager */\n",
       ".hoogle-doc {\n",
       "display: block;\n",
       "padding-bottom: 1.3em;\n",
       "padding-left: 0.4em;\n",
       "}\n",
       ".hoogle-code {\n",
       "display: block;\n",
       "font-family: monospace;\n",
       "white-space: pre;\n",
       "}\n",
       ".hoogle-text {\n",
       "display: block;\n",
       "}\n",
       ".hoogle-name {\n",
       "color: green;\n",
       "font-weight: bold;\n",
       "}\n",
       ".hoogle-head {\n",
       "font-weight: bold;\n",
       "}\n",
       ".hoogle-sub {\n",
       "display: block;\n",
       "margin-left: 0.4em;\n",
       "}\n",
       ".hoogle-package {\n",
       "font-weight: bold;\n",
       "font-style: italic;\n",
       "}\n",
       ".hoogle-module {\n",
       "font-weight: bold;\n",
       "}\n",
       ".hoogle-class {\n",
       "font-weight: bold;\n",
       "}\n",
       ".get-type {\n",
       "color: green;\n",
       "font-weight: bold;\n",
       "font-family: monospace;\n",
       "display: block;\n",
       "white-space: pre-wrap;\n",
       "}\n",
       ".show-type {\n",
       "color: green;\n",
       "font-weight: bold;\n",
       "font-family: monospace;\n",
       "margin-left: 1em;\n",
       "}\n",
       ".mono {\n",
       "font-family: monospace;\n",
       "display: block;\n",
       "}\n",
       ".err-msg {\n",
       "color: red;\n",
       "font-style: italic;\n",
       "font-family: monospace;\n",
       "white-space: pre;\n",
       "display: block;\n",
       "}\n",
       "#unshowable {\n",
       "color: red;\n",
       "font-weight: bold;\n",
       "}\n",
       ".err-msg.in.collapse {\n",
       "padding-top: 0.7em;\n",
       "}\n",
       ".highlight-code {\n",
       "white-space: pre;\n",
       "font-family: monospace;\n",
       "}\n",
       ".suggestion-warning { \n",
       "font-weight: bold;\n",
       "color: rgb(200, 130, 0);\n",
       "}\n",
       ".suggestion-error { \n",
       "font-weight: bold;\n",
       "color: red;\n",
       "}\n",
       ".suggestion-name {\n",
       "font-weight: bold;\n",
       "}\n",
       "</style><span class='get-type'>transformMetric' :: forall v w.\n",
       "(HasMetric' v, HasMetric' w, HasMetric' (DualSpace v), HasMetric' (DualSpace w), Scalar w ~ Scalar v, DualSpace (DualSpace v) ~ v, DualSpace (DualSpace w) ~ w) =>\n",
       "Linear (Scalar w) v w -> HerMetric' v -> HerMetric' w</span>"
      ],
      "text/plain": [
       "transformMetric' :: forall v w.\n",
       "(HasMetric' v, HasMetric' w, HasMetric' (DualSpace v), HasMetric' (DualSpace w), Scalar w ~ Scalar v, DualSpace (DualSpace v) ~ v, DualSpace (DualSpace w) ~ w) =>\n",
       "Linear (Scalar w) v w -> HerMetric' v -> HerMetric' w"
      ]
     },
     "metadata": {},
     "output_type": "display_data"
    }
   ],
   "source": [
    ":t transformMetric'"
   ]
  },
  {
   "cell_type": "code",
   "execution_count": null,
   "metadata": {
    "collapsed": true
   },
   "outputs": [],
   "source": []
  }
 ],
 "metadata": {
  "kernelspec": {
   "display_name": "Haskell",
   "language": "haskell",
   "name": "haskell"
  },
  "language_info": {
   "codemirror_mode": "ihaskell",
   "file_extension": ".hs",
   "name": "haskell",
   "version": "7.10.2"
  }
 },
 "nbformat": 4,
 "nbformat_minor": 0
}
