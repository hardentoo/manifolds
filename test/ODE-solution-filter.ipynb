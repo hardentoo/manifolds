{
 "cells": [
  {
   "cell_type": "code",
   "execution_count": 1,
   "metadata": {
    "collapsed": true
   },
   "outputs": [],
   "source": [
    "{-# LANGUAGE TypeOperators, FlexibleContexts, TypeFamilies #-}\n",
    "import Prelude ()\n",
    "import Data.Manifold.TreeCover\n",
    "import Data.Random\n",
    "import Data.Random.Manifold\n",
    "import Data.Manifold\n",
    "import Data.Manifold.Web\n",
    "import Data.LinearMap.HerMetric\n",
    "import Data.VectorSpace\n",
    "import Data.Semigroup\n",
    "import qualified Data.Foldable as Hask\n",
    "import Control.Lens\n",
    "\n",
    "import Control.Category.Constrained.Prelude\n",
    ":opt no-lint  -- lint gives bogus warnings with constrained-categories"
   ]
  },
  {
   "cell_type": "markdown",
   "metadata": {},
   "source": [
    "From [dynamic-plot](http://hackage.haskell.org/package/dynamic-plot):"
   ]
  },
  {
   "cell_type": "code",
   "execution_count": 2,
   "metadata": {
    "collapsed": false
   },
   "outputs": [],
   "source": [
    "import Graphics.Dynamic.Plot.R2\n",
    "\n",
    "type X = ℝ\n",
    "type Y = ℝ\n",
    "\n",
    "viewRange = plot [forceXRange (-2,4), forceYRange (-1,3)]"
   ]
  },
  {
   "cell_type": "code",
   "execution_count": 3,
   "metadata": {
    "collapsed": false
   },
   "outputs": [],
   "source": [
    "μ :: Linear ℝ Y (LocalLinear X Y)\n",
    "μ = denseLinear $ \\y -> denseLinear $ \\δx -> y*δx/4 \n",
    "\n",
    "deq :: DifferentialEqn X Y\n",
    "deq (Shade (_,y) δxy) = Shade' (μ $ y)\n",
    "                        $ recipMetric (projector' (μ $ snd (fromDualWith δxy (0,1))))"
   ]
  },
  {
   "cell_type": "code",
   "execution_count": 4,
   "metadata": {
    "collapsed": false
   },
   "outputs": [
    {
     "data": {
      "text/plain": [
       "Shade' {_shade'Ctr = outerProducts [(0.6666666666666666,1.0)], _shade'Narrowness = projector (outerProducts [(2.25,1.0)])}"
      ]
     },
     "metadata": {},
     "output_type": "display_data"
    }
   ],
   "source": [
    "blockm ::  (X, Shade' Y)\n",
    "blockm = (1, 2|±|[2])\n",
    "blocks :: [(X, Shade' Y)]\n",
    "blocks = [(x, 1|±|[1]) | x<-[0,2]]\n",
    "\n",
    "Option (Just (shyl')) = filterDEqnSolution_loc deq (blockm, take 1 blocks)\n",
    "\n",
    "[mcover] = pointsCovers [ (xs, ys.+~^δy)\n",
    "                        | (xs, Shade' ys yse) <- blockm : blocks\n",
    "                        , δy <- eigenCoSpan' yse ] :: [Shade (X,Y)]\n",
    "-- plotWindow [plot mcover]\n",
    "deq mcover"
   ]
  },
  {
   "cell_type": "code",
   "execution_count": 9,
   "metadata": {
    "collapsed": true
   },
   "outputs": [],
   "source": [
    "itWhileJ :: (a -> Option a) -> a -> [a]\n",
    "itWhileJ f x | Option (Just y) <- f x  = x : itWhileJ f y\n",
    "itWhileJ _ x = [x]\n",
    "\n",
    "skipN :: Int -> [a] -> [a]\n",
    "skipN n xs = case splitAt n xs of\n",
    "    (x:_, xs') -> x : skipN n xs'\n",
    "    ([], []) -> []"
   ]
  },
  {
   "cell_type": "code",
   "execution_count": 19,
   "metadata": {
    "collapsed": false
   },
   "outputs": [
    {
     "data": {
      "text/plain": [
       "GraphWindowSpecR2{lBound=-2.0, rBound=4.0, bBound=-1.0, tBound=3.0000000000000004, xResolution=640, yResolution=480}"
      ]
     },
     "metadata": {},
     "output_type": "display_data"
    },
    {
     "data": {
      "text/plain": [
       "[((0.6000000000000001,Shade' {_shade'Ctr = 1.0, _shade'Narrowness = projector 1.2909944487358056}),[(0.4,Shade' {_shade'Ctr = 1.0, _shade'Narrowness = projector 1.5811388300841898}),(0.8000000000000002,Shade' {_shade'Ctr = 1.0, _shade'Narrowness = projector 1.1180339887498947})]),((0.8000000000000002,Shade' {_shade'Ctr = 1.0, _shade'Narrowness = projector 1.1180339887498947}),[(1.0000000000000002,Shade' {_shade'Ctr = 1.0, _shade'Narrowness = projector 1.0}),(0.6000000000000001,Shade' {_shade'Ctr = 1.0, _shade'Narrowness = projector 1.2909944487358056})]),((1.0000000000000002,Shade' {_shade'Ctr = 1.0, _shade'Narrowness = projector 1.0}),[(0.8000000000000002,Shade' {_shade'Ctr = 1.0, _shade'Narrowness = projector 1.1180339887498947})]),((0.0,Shade' {_shade'Ctr = 1.0, _shade'Narrowness = projector 2.23606797749979}),[(0.2,Shade' {_shade'Ctr = 1.0, _shade'Narrowness = projector 2.23606797749979})]),((0.2,Shade' {_shade'Ctr = 1.0, _shade'Narrowness = projector 2.23606797749979}),[(0.4,Shade' {_shade'Ctr = 1.0, _shade'Narrowness = projector 1.5811388300841898}),(0.0,Shade' {_shade'Ctr = 1.0, _shade'Narrowness = projector 2.23606797749979})]),((0.4,Shade' {_shade'Ctr = 1.0, _shade'Narrowness = projector 1.5811388300841898}),[(0.2,Shade' {_shade'Ctr = 1.0, _shade'Narrowness = projector 2.23606797749979}),(0.6000000000000001,Shade' {_shade'Ctr = 1.0, _shade'Narrowness = projector 1.2909944487358056})])]"
      ]
     },
     "metadata": {},
     "output_type": "display_data"
    }
   ],
   "source": [
    "tf :: PointsWeb X (Shade' Y)\n",
    "tf = fromWebNodes euclideanMetric\n",
    "        [(x, 1|±|[sqrt $ max 0.2 x]) | x<-[0, 0.2 .. 1] ]\n",
    "\n",
    "tfs = itWhileJ (filterDEqnSolution_static deq) tf\n",
    "-- plotWindow $ viewRange : (plot <$> take 2 tfs)\n",
    "Hask.toList . localFocusWeb $ head tfs\n",
    "-- onlyLeaves tf'"
   ]
  },
  {
   "cell_type": "code",
   "execution_count": null,
   "metadata": {
    "collapsed": true
   },
   "outputs": [],
   "source": []
  }
 ],
 "metadata": {
  "kernelspec": {
   "display_name": "Haskell",
   "language": "haskell",
   "name": "haskell"
  },
  "language_info": {
   "codemirror_mode": "ihaskell",
   "file_extension": ".hs",
   "name": "haskell",
   "version": "7.10.2"
  }
 },
 "nbformat": 4,
 "nbformat_minor": 0
}
