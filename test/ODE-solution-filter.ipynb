{
 "cells": [
  {
   "cell_type": "code",
   "execution_count": 1,
   "metadata": {
    "collapsed": true
   },
   "outputs": [],
   "source": [
    "{-# LANGUAGE TypeOperators #-}\n",
    "import Prelude ()\n",
    "import Data.Manifold.TreeCover\n",
    "import Data.Random\n",
    "import Data.Random.Manifold\n",
    "import Data.Manifold\n",
    "import Data.Manifold.Web\n",
    "import Data.LinearMap.HerMetric\n",
    "import Data.VectorSpace\n",
    "import Data.Semigroup\n",
    "\n",
    "import Control.Category.Constrained.Prelude\n",
    ":opt no-lint  -- lint gives bogus warnings with constrained-categories"
   ]
  },
  {
   "cell_type": "markdown",
   "metadata": {},
   "source": [
    "From [dynamic-plot](http://hackage.haskell.org/package/dynamic-plot):"
   ]
  },
  {
   "cell_type": "code",
   "execution_count": 2,
   "metadata": {
    "collapsed": false
   },
   "outputs": [],
   "source": [
    "import Graphics.Dynamic.Plot.R2\n",
    "\n",
    "type X = ℝ\n",
    "type Y = ℝ\n",
    "\n",
    "viewRange = plot [forceXRange (-2,4), forceYRange (-1,3)]"
   ]
  },
  {
   "cell_type": "code",
   "execution_count": 5,
   "metadata": {
    "collapsed": false
   },
   "outputs": [
    {
     "data": {
      "text/plain": [
       "GraphWindowSpecR2{lBound=-2.0, rBound=4.0, bBound=-1.0, tBound=3.0, xResolution=640, yResolution=480}"
      ]
     },
     "metadata": {},
     "output_type": "display_data"
    }
   ],
   "source": [
    "blockl, blockr :: Shade' (X,Y)\n",
    "[blockl,blockr] = [(x,1)|±|[(0,1),(1,0)] | x<-[0,2]]\n",
    "plotWindow [plot blockl, plot blockr, viewRange]"
   ]
  },
  {
   "cell_type": "code",
   "execution_count": 6,
   "metadata": {
    "collapsed": false
   },
   "outputs": [],
   "source": [
    "μ :: Linear ℝ Y (LocalLinear X Y)\n",
    "μ = denseLinear $ \\y -> denseLinear $ \\δx -> y*δx/4 \n",
    "\n",
    "deq :: DifferentialEqn X Y\n",
    "deq (Shade (_,y) δxy) = Shade' (μ $ y)\n",
    "                        $ recipMetric (projector' (μ $ snd (fromDualWith δxy (0,1))))\n",
    "\n",
    "-- Option (Just (shyl', qvr)) = filterDEqnSolution_loc deq (blockl, [blockr])\n",
    "-- (shyl', qvr $ 1)"
   ]
  },
  {
   "cell_type": "code",
   "execution_count": 7,
   "metadata": {
    "collapsed": true
   },
   "outputs": [],
   "source": [
    "itWhileJ :: (a -> Option a) -> a -> [a]\n",
    "itWhileJ f x | Option (Just y) <- f x  = x : itWhileJ f y\n",
    "itWhileJ _ _ = []\n",
    "\n",
    "skipN :: Int -> [a] -> [a]\n",
    "skipN n xs = case splitAt n xs of\n",
    "    (x:_, xs') -> x : skipN n xs'\n",
    "    ([], []) -> []"
   ]
  },
  {
   "cell_type": "code",
   "execution_count": 17,
   "metadata": {
    "collapsed": false
   },
   "outputs": [
    {
     "data": {
      "text/plain": [
       "GraphWindowSpecR2{lBound=-0.5000000000000002, rBound=3.500000000000001, bBound=-1.333333333333333, tBound=1.333333333333333, xResolution=640, yResolution=480}"
      ]
     },
     "metadata": {},
     "output_type": "display_data"
    }
   ],
   "source": [
    "-- tf <- runRVar (uncrtFuncIntervalSpls 50 (-1,1) $ \\x -> (1, exp (x/2))) StdRandom\n",
    "-- plotWindow [plot tf, viewRange]\n",
    "tf :: PointsWeb X (Shade' Y)\n",
    "tf = fromWebNodes euclideanMetric\n",
    "        [(x, 1|±|[sqrt $ max 0.2 x]) | x<-[0, 0.2 .. 3] ]\n",
    "\n",
    "plotWindow [plot tf]\n",
    "\n",
    "-- tfs = itWhileJ (filterDEqnSolution_static deq) tf\n",
    "-- case length tfs of\n",
    "--  l | l>0 && l<100 -> plotWindow $ viewRange : (plot <$> take 2 tfs)\n",
    "--    | otherwise    -> error $ show l\n",
    "-- onlyLeaves tf'"
   ]
  },
  {
   "cell_type": "code",
   "execution_count": 16,
   "metadata": {
    "collapsed": false
   },
   "outputs": [
    {
     "data": {
      "text/plain": [
       "GraphWindowSpecR2{lBound=-1.3333333333333335, rBound=1.3333333333333335, bBound=-1.1200301816094536, tBound=1.1200301816094536, xResolution=640, yResolution=480}"
      ]
     },
     "metadata": {},
     "output_type": "display_data"
    }
   ],
   "source": [
    "plotWindow [fnPlot sin]"
   ]
  },
  {
   "cell_type": "code",
   "execution_count": null,
   "metadata": {
    "collapsed": true
   },
   "outputs": [],
   "source": []
  }
 ],
 "metadata": {
  "kernelspec": {
   "display_name": "Haskell",
   "language": "haskell",
   "name": "haskell"
  },
  "language_info": {
   "codemirror_mode": "ihaskell",
   "file_extension": ".hs",
   "name": "haskell",
   "version": "7.10.2"
  }
 },
 "nbformat": 4,
 "nbformat_minor": 0
}
