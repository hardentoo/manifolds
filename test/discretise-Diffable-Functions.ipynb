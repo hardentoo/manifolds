{
 "cells": [
  {
   "cell_type": "code",
   "execution_count": 14,
   "metadata": {
    "collapsed": true
   },
   "outputs": [],
   "source": [
    "import Prelude ()\n",
    "import Data.Function.Differentiable\n",
    "import Data.LinearMap.HerMetric\n",
    "import Data.Manifold\n",
    "\n",
    "import Control.Category.Constrained.Prelude\n",
    "import Control.Arrow.Constrained\n",
    ":opt no-lint  -- lint gives bogus warnings with constrained-categories"
   ]
  },
  {
   "cell_type": "markdown",
   "metadata": {},
   "source": [
    "From [dynamic-plot](http://hackage.haskell.org/package/dynamic-plot):"
   ]
  },
  {
   "cell_type": "code",
   "execution_count": 21,
   "metadata": {
    "collapsed": true
   },
   "outputs": [],
   "source": [
    "import Graphics.Dynamic.Plot.R2"
   ]
  },
  {
   "cell_type": "code",
   "execution_count": 20,
   "metadata": {
    "collapsed": false
   },
   "outputs": [
    {
     "data": {
      "text/plain": [
       "17"
      ]
     },
     "metadata": {},
     "output_type": "display_data"
    }
   ],
   "source": [
    "(\\([],[q]) -> length q)\n",
    "    $ discretisePathSegs 9 (const $ projector 100, const $ projector 100)\n",
    "    ( alg (\\x -> 0 ?< x ?< pi ?-> sin x) :: RWDiffable ℝ ℝ ℝ )"
   ]
  },
  {
   "cell_type": "code",
   "execution_count": 27,
   "metadata": {
    "collapsed": false
   },
   "outputs": [
    {
     "data": {
      "text/plain": []
     },
     "metadata": {},
     "output_type": "display_data"
    }
   ],
   "source": [
    "forM_ [0.01, 1, 100] $ \\μ -> plotWindow [fnPlot (sin . (*realToFrac μ)), xInterval (0,20/μ)]"
   ]
  },
  {
   "cell_type": "code",
   "execution_count": null,
   "metadata": {
    "collapsed": true
   },
   "outputs": [],
   "source": []
  }
 ],
 "metadata": {
  "kernelspec": {
   "display_name": "Haskell",
   "language": "haskell",
   "name": "haskell"
  },
  "language_info": {
   "codemirror_mode": "ihaskell",
   "file_extension": ".hs",
   "name": "haskell",
   "version": "7.10.2"
  }
 },
 "nbformat": 4,
 "nbformat_minor": 0
}
