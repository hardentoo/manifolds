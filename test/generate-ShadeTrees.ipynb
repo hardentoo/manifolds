{
 "cells": [
  {
   "cell_type": "code",
   "execution_count": 1,
   "metadata": {
    "collapsed": false
   },
   "outputs": [],
   "source": [
    "{-# LANGUAGE FlexibleContexts, GADTs, TypeOperators #-}\n",
    "import Data.Manifold.TreeCover\n",
    "import Data.Manifold.Types\n",
    "import Data.VectorSpace\n",
    "import Data.AffineSpace\n",
    "import Data.LinearMap.HerMetric\n",
    "\n",
    "import Control.Applicative (empty)\n",
    "import Data.Foldable (toList, forM_)"
   ]
  },
  {
   "cell_type": "markdown",
   "metadata": {},
   "source": [
    "From [dynamic-plot](http://hackage.haskell.org/packages/dynamic-plot):"
   ]
  },
  {
   "cell_type": "code",
   "execution_count": 2,
   "metadata": {
    "collapsed": true
   },
   "outputs": [],
   "source": [
    "import Graphics.Dynamic.Plot.R2"
   ]
  },
  {
   "cell_type": "markdown",
   "metadata": {},
   "source": [
    "From [diagrams](http://projects.haskell.org/diagrams):"
   ]
  },
  {
   "cell_type": "code",
   "execution_count": 3,
   "metadata": {
    "collapsed": true
   },
   "outputs": [],
   "source": [
    "import Diagrams.Prelude (p2, circle, fc, (&), moveTo, opacity)"
   ]
  },
  {
   "cell_type": "markdown",
   "metadata": {},
   "source": [
    "Function for plotting a 2D tree structure with twigs and circles for leaves."
   ]
  },
  {
   "cell_type": "code",
   "execution_count": 4,
   "metadata": {
    "collapsed": false
   },
   "outputs": [],
   "source": [
    "prettyTreePlot :: Trees ℝ² -> [DynamicPlottable]\n",
    "prettyTreePlot trℝ² = [ plot [ shapePlot $ circle 0.06 & moveTo p & opacity 0.3 | p <- toList tr ]\n",
    "                      , plot tr ]\n",
    " where tr = fmap p2 trℝ²"
   ]
  },
  {
   "cell_type": "markdown",
   "metadata": {},
   "source": [
    "Simple cartesian grid within a unit circle:"
   ]
  },
  {
   "cell_type": "code",
   "execution_count": null,
   "metadata": {
    "collapsed": false
   },
   "outputs": [],
   "source": [
    "plotWindow . prettyTreePlot . fmap _topological . onlyNodes\n",
    "  $ (procureShading (\\(Shade _ shye) -> if metric' shye (1,1) < 0.5{-???-}\n",
    "                                                     then pure (Shade 1 (projector' 1))\n",
    "                                                     else empty )\n",
    "                                (Shade (0,0) $ projector' (1,0) ^+^ projector' (0,1))\n",
    "                  :: ℝ²`Shaded`ℝ )"
   ]
  },
  {
   "cell_type": "markdown",
   "metadata": {},
   "source": [
    "<a id='pseudorandomCloudTree'></a>Cloud of 405 kind-of random points:"
   ]
  },
  {
   "cell_type": "code",
   "execution_count": 5,
   "metadata": {
    "collapsed": false
   },
   "outputs": [
    {
     "data": {
      "text/plain": [
       "GraphWindowSpecR2{lBound=-1.881587301587302, rBound=3.681587301587302, bBound=-0.5553968253968253, tBound=4.55063492063492, xResolution=640, yResolution=480}"
      ]
     },
     "metadata": {},
     "output_type": "display_data"
    }
   ],
   "source": [
    "let tps₀ = [(0,0), (0,1), (1,1), (1,2), (2,2)]\n",
    "    tps₁ = [p .+^ v^/3 | p<-tps₀, v <- [(0,0), (-1,1), (1,2)]]\n",
    "    tps₂ = [p .+^ v^/4 | p<-tps₁, v <- [(0,0), (-1,1), (1,2)]]\n",
    "    tps₃ = [p .+^ v^/5 | p<-tps₂, v <- [(0,0), (-2,1), (1,2)]]\n",
    "    tps₄ = [p .+^ v^/7 | p<-tps₃, v <- [(0,1), (-1,1), (1,2)]]\n",
    " in plotWindow . prettyTreePlot . onlyNodes $ fromLeafPoints tps₄"
   ]
  },
  {
   "cell_type": "markdown",
   "metadata": {},
   "source": [
    "![visualisation of tree-cover of pseudorandom-point cloud](https://raw.githubusercontent.com/leftaroundabout/manifolds/master/manifolds/images/examples/simple-2d-ShadeTree.png)"
   ]
  },
  {
   "cell_type": "code",
   "execution_count": null,
   "metadata": {
    "collapsed": true
   },
   "outputs": [],
   "source": []
  }
 ],
 "metadata": {
  "kernelspec": {
   "display_name": "Haskell",
   "language": "haskell",
   "name": "haskell"
  },
  "language_info": {
   "codemirror_mode": "ihaskell",
   "file_extension": ".hs",
   "name": "haskell",
   "version": "7.10.2"
  }
 },
 "nbformat": 4,
 "nbformat_minor": 0
}
