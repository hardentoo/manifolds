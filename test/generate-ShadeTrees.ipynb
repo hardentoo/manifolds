{
 "cells": [
  {
   "cell_type": "code",
   "execution_count": 7,
   "metadata": {
    "collapsed": true
   },
   "outputs": [],
   "source": [
    "{-# LANGUAGE FlexibleContexts, GADTs #-}\n",
    "import Data.Manifold.TreeCover\n",
    "import Data.VectorSpace\n",
    "import Data.AffineSpace"
   ]
  },
  {
   "cell_type": "markdown",
   "metadata": {},
   "source": [
    "From [dynamic-plot](http://hackage.haskell.org/packages/dynamic-plot):"
   ]
  },
  {
   "cell_type": "code",
   "execution_count": 2,
   "metadata": {
    "collapsed": true
   },
   "outputs": [],
   "source": [
    "import Graphics.Dynamic.Plot.R2"
   ]
  },
  {
   "cell_type": "markdown",
   "metadata": {},
   "source": [
    "From [diagrams](http://projects.haskell.org/diagrams):"
   ]
  },
  {
   "cell_type": "code",
   "execution_count": 3,
   "metadata": {
    "collapsed": true
   },
   "outputs": [],
   "source": [
    "import Diagrams.Prelude ((^&), p2, r2, P2, circle, fc, (&), moveTo, opacity)"
   ]
  },
  {
   "cell_type": "markdown",
   "metadata": {},
   "source": [
    "Simple pseudo-random cloud of points:"
   ]
  },
  {
   "cell_type": "code",
   "execution_count": 9,
   "metadata": {
    "collapsed": false
   },
   "outputs": [
    {
     "data": {
      "text/plain": [
       "GraphWindowSpecR2{lBound=-1.881587301587302, rBound=3.681587301587302, bBound=-0.5553968253968253, tBound=4.55063492063492, xResolution=640, yResolution=480}"
      ]
     },
     "metadata": {},
     "output_type": "display_data"
    }
   ],
   "source": [
    "testPoints :: [P2 Double]\n",
    "testPoints = [p .+^ v^/7 | p<-tps₃, v <- r2<$>[(0,1), (-1,1), (1,2)]]\n",
    " where tps₀ = p2 <$> [(0,0), (0,1), (1,1), (1,2), (2,2)]\n",
    "       tps₁ = [p .+^ v^/3 | p<-tps₀, v <- r2<$>[(0,0), (-1,1), (1,2)]]\n",
    "       tps₂ = [p .+^ v^/4 | p<-tps₁, v <- r2<$>[(0,0), (-1,1), (1,2)]]\n",
    "       tps₃ = [p .+^ v^/5 | p<-tps₂, v <- r2<$>[(0,0), (-2,1), (1,2)]]\n",
    " \n",
    "plotWindow [ plot [ shapePlot $ circle 0.06 & moveTo p & opacity 0.3 | p <- testPoints ]\n",
    "           , plot . onlyNodes $ fromLeafPoints testPoints ]"
   ]
  },
  {
   "cell_type": "markdown",
   "metadata": {},
   "source": [
    "![visualisation of tree-cover of pseudorandom-point cloud](https://raw.githubusercontent.com/leftaroundabout/manifolds/master/manifolds/images/examples/simple-2d-ShadeTree.png)"
   ]
  },
  {
   "cell_type": "code",
   "execution_count": null,
   "metadata": {
    "collapsed": true
   },
   "outputs": [],
   "source": []
  }
 ],
 "metadata": {
  "kernelspec": {
   "display_name": "Haskell",
   "language": "haskell",
   "name": "haskell"
  },
  "language_info": {
   "codemirror_mode": "ihaskell",
   "file_extension": ".hs",
   "name": "haskell",
   "version": "7.10.2"
  }
 },
 "nbformat": 4,
 "nbformat_minor": 0
}
