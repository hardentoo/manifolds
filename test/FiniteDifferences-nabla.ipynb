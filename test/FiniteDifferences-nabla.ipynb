{
 "cells": [
  {
   "cell_type": "code",
   "execution_count": 1,
   "metadata": {
    "collapsed": false
   },
   "outputs": [],
   "source": [
    "{-# LANGUAGE ScopedTypeVariables, TypeOperators #-}\n",
    "import Prelude ()\n",
    "import Control.Category.Constrained.Prelude\n",
    "import Control.Arrow.Constrained\n",
    "\n",
    "import Data.Manifold\n",
    "import Data.Manifold.TreeCover\n",
    "import Data.Manifold.Web\n",
    "import Data.Manifold.Shade\n",
    "import Data.Manifold.Types\n",
    "import Data.Function.Affine\n",
    "import Math.LinearMap.Category\n",
    "import Math.LinearMap.Category.Derivatives\n",
    "import Data.VectorSpace\n",
    "import Linear (V2(..), _x, _y)\n",
    "import Control.Lens"
   ]
  },
  {
   "cell_type": "code",
   "execution_count": 2,
   "metadata": {
    "collapsed": true
   },
   "outputs": [],
   "source": [
    "test x = x`seq`putStrLn \"Ok\""
   ]
  },
  {
   "cell_type": "code",
   "execution_count": 3,
   "metadata": {
    "collapsed": false
   },
   "outputs": [
    {
     "data": {
      "text/plain": [
       "Ok"
      ]
     },
     "metadata": {},
     "output_type": "display_data"
    },
    {
     "data": {
      "text/plain": [
       "Ok"
      ]
     },
     "metadata": {},
     "output_type": "display_data"
    }
   ],
   "source": [
    "import Graphics.Dynamic.Plot.R2\n",
    "import Data.Colour.Names\n",
    "import Data.Colour.Manifold\n",
    "\n",
    "colourscheme :: Shade' ℝ -> Shade (Colour ℝ)\n",
    "colourscheme = f `seq` \\(Shade' y e) -> f (Shade y $ dualNorm e)\n",
    " where Just (f :: Shade ℝ -> Shade (Colour ℝ))\n",
    "          = rangeWithinVertices (1, maxc)\n",
    "                              [ (0, black) ]\n",
    "       Just maxc = toInterior (grey :: Colour ℝ)\n",
    "test colourscheme\n",
    "\n",
    "colourscheme_nabla :: Shade' (V2 ℝ+>ℝ) -> Shade (Colour ℝ)\n",
    "colourscheme_nabla = f `seq` \\(Shade' y e) -> f (Shade y $ dualNorm e)\n",
    " where Just (f :: Shade (V2 ℝ+>ℝ) -> Shade (Colour ℝ))\n",
    "          = rangeWithinVertices (zeroV, neutral)\n",
    "                              [ (V2 2 0-+|>1, red)\n",
    "                              , (V2 0 2-+|>1, green) ]\n",
    "       Just neutral = toInterior (grey :: Colour ℝ)\n",
    "test colourscheme_nabla"
   ]
  },
  {
   "cell_type": "code",
   "execution_count": 4,
   "metadata": {
    "collapsed": false
   },
   "outputs": [],
   "source": [
    "gaußianPeak :: [ℝ²] -> ℝ -> PointsWeb ℝ² (Shade' ℝ)\n",
    "gaußianPeak ps δy = fromWebNodes euclideanMetric\n",
    "       [ (xy, exp (-2*magnitudeSq xy) |±|[δy]) | xy <- ps ]"
   ]
  },
  {
   "cell_type": "code",
   "execution_count": 5,
   "metadata": {
    "collapsed": false
   },
   "outputs": [
    {
     "data": {
      "text/plain": [
       "[3.100000000000001,2.900000000000001,2.7000000000000006,2.5000000000000004,2.3000000000000003,2.1,1.9,1.7000000000000002,0.9000000000000001,0.7000000000000002,1.1,1.3000000000000003,1.5,0.5,0.30000000000000004,0.1]"
      ]
     },
     "metadata": {},
     "output_type": "display_data"
    }
   ],
   "source": [
    "osc :: PointsWeb ℝ (Shade' ℝ)\n",
    "osc = fromWebNodes euclideanMetric\n",
    "           $ [(x, sin x|±|[0.001]) | x<-[0,0.2 .. pi]]\n",
    "fst <$> localModels_BGrid osc"
   ]
  },
  {
   "cell_type": "code",
   "execution_count": 6,
   "metadata": {
    "collapsed": false
   },
   "outputs": [
    {
     "data": {
      "text/plain": [
       "GraphWindowSpecR2{lBound=-0.5333333333333334, rBound=3.733333333333335, bBound=-1.3303114841836925, tBound=1.332414329787962, xResolution=640, yResolution=480}"
      ]
     },
     "metadata": {},
     "output_type": "display_data"
    }
   ],
   "source": [
    "plotWindow [ plot osc  & legendName \"sin\"\n",
    "           , plot (linIsoTransformShade (lfun ($ 1)) <$> differentiateUncertainWebFunction osc)\n",
    "                       & legendName \"sin' (nodes)\"\n",
    "           , plot (linIsoTransformShade (lfun ($ squareV 1)) <$> differentiate²UncertainWebFunction osc)\n",
    "                       & legendName \"sin'' (nodes)\"\n",
    "           , plot (fromWebNodes euclideanMetric\n",
    "               $ second (linIsoTransformShade (lfun ($ 1)) . fst . snd . quadraticModel_decomposition)\n",
    "                              <$> localModels_BGrid osc )\n",
    "                       & legendName \"sin' (links)\"\n",
    "           , plot (fromWebNodes euclideanMetric\n",
    "               $ second (linIsoTransformShade (lfun ($ squareV 1)) . snd . snd . quadraticModel_decomposition)\n",
    "                              <$> localModels_BGrid osc )\n",
    "                       & legendName \"sin'' (links)\"\n",
    "           , continFnPlot (negate . sin)\n",
    "                       & legendName \"-sin\"\n",
    "           ]"
   ]
  },
  {
   "cell_type": "markdown",
   "metadata": {},
   "source": [
    "![Numerically differentiating a function sampled on a 1D  web](https://raw.githubusercontent.com/leftaroundabout/manifolds/master/manifolds/images/examples/WebSampling/1D-differentiation.png)"
   ]
  },
  {
   "cell_type": "code",
   "execution_count": 7,
   "metadata": {
    "collapsed": false
   },
   "outputs": [
    {
     "data": {
      "text/plain": [
       "GraphWindowSpecR2{lBound=-2.666666666666667, rBound=2.6666666666666656, bBound=-1.5, tBound=2.4999999999999987, xResolution=640, yResolution=480}"
      ]
     },
     "metadata": {},
     "output_type": "display_data"
    },
    {
     "data": {
      "text/plain": [
       "GraphWindowSpecR2{lBound=-2.666666666666667, rBound=2.6666666666666656, bBound=-1.5000000000000002, tBound=2.499999999999999, xResolution=640, yResolution=480}"
      ]
     },
     "metadata": {},
     "output_type": "display_data"
    },
    {
     "data": {
      "text/plain": [
       "GraphWindowSpecR2{lBound=-2.6666666666666656, rBound=2.6666666666666656, bBound=-1.4999999999999996, tBound=2.4999999999999996, xResolution=640, yResolution=480}"
      ]
     },
     "metadata": {},
     "output_type": "display_data"
    },
    {
     "data": {
      "text/plain": [
       "GraphWindowSpecR2{lBound=-2.666666666666666, rBound=2.666666666666666, bBound=-1.4999999999999998, tBound=2.499999999999999, xResolution=640, yResolution=480}"
      ]
     },
     "metadata": {},
     "output_type": "display_data"
    }
   ],
   "source": [
    "δ = 0.01\n",
    "grid = [V2 x y | x<-[-2,-1.8..2], y<-[-1,-0.8..2]]\n",
    "\n",
    "plotWindow [plot . fmap colourscheme $ gaußianPeak grid δ ]\n",
    "plotWindow [plot . fmap colourscheme_nabla . differentiateUncertainWebFunction\n",
    "              $ gaußianPeak grid δ ]\n",
    "plotWindow [plot . fmap (colourscheme_nabla . projectShade (lensEmbedding (1*∂id/∂_x)))\n",
    "   . differentiateUncertainWebFunction . differentiateUncertainWebFunction\n",
    "       $ gaußianPeak grid δ ]\n",
    "plotWindow [plot . fmap (colourscheme_nabla . projectShade (lensEmbedding ((1*∂id/∂_x)/∂id)))\n",
    "   . differentiateUncertainWebFunction . differentiateUncertainWebFunction\n",
    "       $ gaußianPeak grid δ ]"
   ]
  },
  {
   "cell_type": "code",
   "execution_count": null,
   "metadata": {
    "collapsed": true
   },
   "outputs": [],
   "source": []
  }
 ],
 "metadata": {
  "kernelspec": {
   "display_name": "Haskell",
   "language": "haskell",
   "name": "haskell"
  },
  "language_info": {
   "codemirror_mode": "ihaskell",
   "file_extension": ".hs",
   "name": "haskell",
   "version": "7.10.2"
  }
 },
 "nbformat": 4,
 "nbformat_minor": 0
}
