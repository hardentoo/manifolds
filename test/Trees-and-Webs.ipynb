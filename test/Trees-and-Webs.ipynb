{
 "cells": [
  {
   "cell_type": "code",
   "execution_count": 1,
   "metadata": {
    "collapsed": false
   },
   "outputs": [],
   "source": [
    "{-# LANGUAGE FlexibleContexts, GADTs, TypeOperators #-}\n",
    "import Data.Manifold.TreeCover\n",
    "import Data.Manifold.Web\n",
    "import Data.Manifold.Types\n",
    "import Data.VectorSpace\n",
    "import Linear.V2\n",
    "import Data.AffineSpace\n",
    "import Math.LinearMap.Category\n",
    "import Data.Random\n",
    "import Data.Random.Manifold\n",
    "\n",
    "import Control.Arrow ((***))\n",
    "import Control.Applicative (empty)\n",
    "import Data.Foldable (toList, forM_)\n",
    "import Data.Traversable (forM)"
   ]
  },
  {
   "cell_type": "markdown",
   "metadata": {},
   "source": [
    "From [dynamic-plot](http://hackage.haskell.org/packages/dynamic-plot):"
   ]
  },
  {
   "cell_type": "code",
   "execution_count": 2,
   "metadata": {
    "collapsed": false
   },
   "outputs": [],
   "source": [
    "import Graphics.Dynamic.Plot.R2"
   ]
  },
  {
   "cell_type": "markdown",
   "metadata": {},
   "source": [
    "From [diagrams](http://projects.haskell.org/diagrams):"
   ]
  },
  {
   "cell_type": "code",
   "execution_count": 3,
   "metadata": {
    "collapsed": false
   },
   "outputs": [],
   "source": [
    "import Diagrams.Prelude ( Point(P), r2, circle, (&), (#), (^.), (^&), _1, moveTo, opacity, red, blue, white, fromVertices )\n",
    "import Diagrams.CubicSpline"
   ]
  },
  {
   "cell_type": "markdown",
   "metadata": {},
   "source": [
    "Functions for plotting a 2D tree/web structures. Trees with lines for twigs and circles for leaves."
   ]
  },
  {
   "cell_type": "code",
   "execution_count": 4,
   "metadata": {
    "collapsed": false
   },
   "outputs": [],
   "source": [
    "prettyTreePlot :: ShadeTree ℝ² -> [DynamicPlottable]\n",
    "prettyTreePlot tr = [ plot [ shapePlot $ circle 0.03 & moveTo p & opacity 0.2 | p <- ps ]\n",
    "                    , plot $ onlyNodes tr ]\n",
    " where ps = map P $ onlyLeaves tr\n",
    " \n",
    "prettyWebPlot :: PointsWeb ℝ² () -> [DynamicPlottable]\n",
    "prettyWebPlot w = [ shapePlot $ cubicSpline False [P r₁, P m, P r₂]\n",
    "                  | ((r₁@(V2 x₁ y₁),()),(r₂@(V2 x₂ y₂),())) <- edg\n",
    "                  , let m = V2 ((x₁+x₂)/2 + (y₂-y₁)/19)\n",
    "                               ((y₁+y₂)/2 + (x₁-x₂)/19) ]\n",
    " where edg = webEdges w\n",
    "\n",
    "plotTreeAndWeb :: ShadeTree ℝ² -> IO ()\n",
    "plotTreeAndWeb tr = do\n",
    "    plotWindow $ prettyTreePlot tr # map (tint white)\n",
    "              ++ prettyWebPlot (fromShadeTree (const euclideanNorm) tr)\n",
    "                   # map (tweakPrerendered $ opacity 0.5)\n",
    "    return ()"
   ]
  },
  {
   "cell_type": "markdown",
   "metadata": {},
   "source": [
    "Simple cartesian grid within a disk:"
   ]
  },
  {
   "cell_type": "code",
   "execution_count": 5,
   "metadata": {
    "collapsed": false
   },
   "outputs": [
    {
     "data": {
      "text/plain": []
     },
     "metadata": {},
     "output_type": "display_data"
    }
   ],
   "source": [
    "cartTree :: ShadeTree ℝ²\n",
    "cartTree = fromLeafPoints\n",
    "              [ (x^&y) | x<-[0, 0.15 .. 4]\n",
    "                       , y<-[0, 0.2 .. 4]\n",
    "                       , (x-2)^2 + (y-2)^2 < 4 ]\n",
    "\n",
    "plotTreeAndWeb cartTree"
   ]
  },
  {
   "cell_type": "markdown",
   "metadata": {},
   "source": [
    "![visualisation of tree-cover and points-web of cartesian-disk cloud](https://raw.githubusercontent.com/leftaroundabout/manifolds/master/manifolds/images/examples/TreesAndWebs/2D-cartesiandisk.png)"
   ]
  },
  {
   "cell_type": "markdown",
   "metadata": {},
   "source": [
    "<a id='pseudorandomCloudTree'></a>Cloud of 405 sort-of random points:"
   ]
  },
  {
   "cell_type": "code",
   "execution_count": 6,
   "metadata": {
    "collapsed": false
   },
   "outputs": [
    {
     "data": {
      "text/plain": [
       "GraphWindowSpecR2{lBound=-1.8415873015873019, rBound=3.6415873015873013, bBound=-0.5153968253968253, tBound=4.51063492063492, xResolution=640, yResolution=480}"
      ]
     },
     "metadata": {},
     "output_type": "display_data"
    }
   ],
   "source": [
    "scatterTree = let\n",
    "    tps₀ = [(0,0), (0,1), (1,1), (1,2), (2,2)]\n",
    "    tps₁ = [p .+^ v^/3 | p<-tps₀, v <- [(0,0), (-1,1), (1,2)]]\n",
    "    tps₂ = [p .+^ v^/4 | p<-tps₁, v <- [(0,0), (-1,1), (1,2)]]\n",
    "    tps₃ = [p .+^ v^/5 | p<-tps₂, v <- [(0,0), (-2,1), (1,2)]]\n",
    "    tps₄ = [p .+^ v^/7 | p<-tps₃, v <- [(0,1), (-1,1), (1,2)]]\n",
    "     in fromLeafPoints $ r2<$>tps₄\n",
    "plotTreeAndWeb scatterTree\n",
    "((_,exampleTwiglet), exampleTwigEnviron) = twigsWithEnvirons scatterTree !! 5\n",
    "plotWindow $ prettyTreePlot scatterTree\n",
    "                 # map (tweakPrerendered (opacity 0.3) . tint white)\n",
    "          ++ prettyTreePlot exampleTwiglet\n",
    "                 # map (tint blue)\n",
    "          ++ concat (prettyTreePlot . snd <$> exampleTwigEnviron)\n",
    "                 # map (tweakPrerendered (opacity 0.3) . tint red)"
   ]
  },
  {
   "cell_type": "markdown",
   "metadata": {},
   "source": [
    "![visualisation of tree-cover and points-wed of pseudorandom-point cloud](https://raw.githubusercontent.com/leftaroundabout/manifolds/master/manifolds/images/examples/TreesAndWebs/2D-scatter.png)\n",
    "![visualisation of a lowest-level twigs and its neighbours in the tree-cover of a pseudorandom-point cloud](https://raw.githubusercontent.com/leftaroundabout/manifolds/master/manifolds/images/examples/TreesAndWebs/2D-scatter_twig-environs.png)"
   ]
  },
  {
   "cell_type": "markdown",
   "metadata": {},
   "source": [
    "1000 actually-random, normally-distributed points<!--, with focus on one local point-group and its neighbours-->:"
   ]
  },
  {
   "cell_type": "code",
   "execution_count": 7,
   "metadata": {
    "collapsed": false
   },
   "outputs": [
    {
     "data": {
      "text/plain": []
     },
     "metadata": {},
     "output_type": "display_data"
    }
   ],
   "source": [
    "randomTr <- fmap fromLeafPoints . forM [0..1000] $ \\_->\n",
    "     runRVar (sample $ (1^&1):±[1^&0, 0^&1]) StdRandom :: IO ℝ²\n",
    "\n",
    "-- ((_,twig),envi) <- runRVar (randomElement $ twigsWithEnvirons randomTr) StdRandom\n",
    "-- plotWindow $ prettyTreePlot randomTr\n",
    "--          ++ prettyTreePlot twig\n",
    "--          ++ [plot $ prettyTreePlot.snd<$>envi]\n",
    "\n",
    "plotTreeAndWeb randomTr"
   ]
  },
  {
   "cell_type": "markdown",
   "metadata": {
    "collapsed": true
   },
   "source": [
    "![visualisation of tree-cover and points-web of pseudorandom-point cloud](https://raw.githubusercontent.com/leftaroundabout/manifolds/master/manifolds/images/examples/TreesAndWebs/2D-normaldistrib.png)"
   ]
  },
  {
   "cell_type": "code",
   "execution_count": 8,
   "metadata": {
    "collapsed": false
   },
   "outputs": [
    {
     "data": {
      "text/plain": [
       "[(1.7,Option {getOption = Just (V2 1.6499999999999992 1.6,())}),(1.8,Option {getOption = Just (V2 1.7999999999999992 1.6,())}),(1.9000000000000001,Option {getOption = Just (V2 1.949999999999999 1.6,())}),(2.0,Option {getOption = Just (V2 1.949999999999999 1.6,())}),(2.0999999999999996,Option {getOption = Just (V2 2.0999999999999988 1.6,())}),(2.1999999999999993,Option {getOption = Just (V2 2.2499999999999982 1.6,())})]"
      ]
     },
     "metadata": {},
     "output_type": "display_data"
    }
   ],
   "source": [
    "cartWeb :: PointsWeb ℝ² ()\n",
    "cartWeb = fromShadeTree (const euclideanNorm) cartTree\n",
    "\n",
    "[(x, nearestNeighbour cartWeb (x^&1.6)) | x<-[1.7, 1.8 .. 2.2]]"
   ]
  },
  {
   "cell_type": "code",
   "execution_count": 9,
   "metadata": {
    "collapsed": false
   },
   "outputs": [],
   "source": [
    "import Data.Graph\n",
    "import Data.Graph.Inductive.PatriciaTree (Gr)\n",
    "import Diagrams.TwoD.GraphViz\n",
    "import Data.GraphViz\n",
    "\n",
    "import Diagrams.Prelude ( p2, circle, (&), (^.), _1, moveTo, scale, opacity, fromVertices\n",
    "                        , with, gaps, (.~), arrowShaft, unLoc, pathTrails\n",
    "                        , place, arrowBetween', headLength, lc, grey )\n",
    "\n",
    "convertGraph :: Graph -> Gr Int ()\n",
    "convertGraph g = mkGraph (vertices g) [(v₁,v₂,()) | (v₁,v₂)<-edges g]\n",
    "\n",
    "plotGraph :: PointsWeb ℝ² () -> IO PlainGraphicsR2\n",
    "plotGraph web = simpleGraphDiagram Neato . convertGraph\n",
    "                    $ toGraph web ^. _1"
   ]
  },
  {
   "cell_type": "code",
   "execution_count": 10,
   "metadata": {
    "collapsed": false
   },
   "outputs": [
    {
     "data": {
      "text/html": []
     },
     "metadata": {},
     "output_type": "display_data"
    }
   ],
   "source": [
    "smallCartTree :: ShadeTree ℝ²\n",
    "smallCartTree = fromLeafPoints\n",
    "              [ (x^&y) | x<-[0, 0.7 .. 4]\n",
    "                       , y<-[0, 0.6 .. 4]\n",
    "                       , (x-2)^2 + (y-2)^2 < 4 ]\n",
    "\n",
    "webGraph <- plotGraph (fromShadeTree (const euclideanNorm) smallCartTree)\n",
    "webGraph & lc grey"
   ]
  },
  {
   "cell_type": "markdown",
   "metadata": {},
   "source": [
    "![topology of points-web of cartesian point set](https://cdn.rawgit.com/leftaroundabout/manifolds/master/manifolds/images/examples/TreesAndWebs/2D-cartesian-healthy.svg)"
   ]
  },
  {
   "cell_type": "code",
   "execution_count": 11,
   "metadata": {
    "collapsed": false
   },
   "outputs": [
    {
     "data": {
      "text/html": []
     },
     "metadata": {},
     "output_type": "display_data"
    },
    {
     "data": {
      "text/plain": []
     },
     "metadata": {},
     "output_type": "display_data"
    }
   ],
   "source": [
    "cartTree₂ :: ShadeTree ℝ²\n",
    "cartTree₂ = fromLeafPoints\n",
    "              [ (x^&y) | x<-[-2, -1.49 .. 2]\n",
    "                       , y<-[0, 0.49 .. 2] ]\n",
    "\n",
    "webGraph <- plotGraph (fromShadeTree (const euclideanNorm) cartTree₂)\n",
    "webGraph & lc grey\n",
    "\n",
    "plotTreeAndWeb cartTree₂"
   ]
  },
  {
   "cell_type": "markdown",
   "metadata": {},
   "source": [
    "![topology of points-web of cartesian point set with a problematic aspect ratio](https://cdn.rawgit.com/leftaroundabout/manifolds/master/manifolds/images/examples/TreesAndWebs/2D-cartesian-strangeaspect.svg)![visualisation of tree-cover and points-web of cartesian point set with a problematic aspect ratio](https://raw.githubusercontent.com/leftaroundabout/manifolds/master/manifolds/images/examples/TreesAndWebs/2D-cartesian-strangeaspect.png)"
   ]
  },
  {
   "cell_type": "code",
   "execution_count": null,
   "metadata": {
    "collapsed": true
   },
   "outputs": [],
   "source": []
  }
 ],
 "metadata": {
  "kernelspec": {
   "display_name": "Haskell",
   "language": "haskell",
   "name": "haskell"
  },
  "language_info": {
   "codemirror_mode": "ihaskell",
   "file_extension": ".hs",
   "name": "haskell",
   "version": "7.10.2"
  }
 },
 "nbformat": 4,
 "nbformat_minor": 0
}
