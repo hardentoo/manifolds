{
 "cells": [
  {
   "cell_type": "code",
   "execution_count": 2,
   "metadata": {
    "collapsed": false
   },
   "outputs": [],
   "source": [
    "{-# LANGUAGE FlexibleContexts, GADTs, TypeOperators #-}\n",
    "import Data.Manifold.TreeCover\n",
    "import Data.Manifold.Web\n",
    "import Data.Manifold.Types\n",
    "import Data.VectorSpace\n",
    "import Data.AffineSpace\n",
    "import Data.LinearMap.HerMetric\n",
    "import Data.Random\n",
    "import Data.Random.Manifold\n",
    "\n",
    "import Control.Arrow ((***))\n",
    "import Control.Applicative (empty)\n",
    "import Data.Foldable (toList, forM_)\n",
    "import Data.Traversable (forM)"
   ]
  },
  {
   "cell_type": "markdown",
   "metadata": {},
   "source": [
    "From [dynamic-plot](http://hackage.haskell.org/packages/dynamic-plot):"
   ]
  },
  {
   "cell_type": "code",
   "execution_count": 3,
   "metadata": {
    "collapsed": true
   },
   "outputs": [],
   "source": [
    "import Graphics.Dynamic.Plot.R2"
   ]
  },
  {
   "cell_type": "markdown",
   "metadata": {},
   "source": [
    "From [diagrams](http://projects.haskell.org/diagrams):"
   ]
  },
  {
   "cell_type": "code",
   "execution_count": 4,
   "metadata": {
    "collapsed": true
   },
   "outputs": [],
   "source": [
    "import Diagrams.Prelude (p2, circle, (&), moveTo, opacity, fromVertices)"
   ]
  },
  {
   "cell_type": "markdown",
   "metadata": {},
   "source": [
    "Functions for plotting a 2D tree/web structures. Trees with lines for twigs and circles for leaves."
   ]
  },
  {
   "cell_type": "code",
   "execution_count": 5,
   "metadata": {
    "collapsed": false
   },
   "outputs": [],
   "source": [
    "prettyTreePlot :: ShadeTree ℝ² -> [DynamicPlottable]\n",
    "prettyTreePlot tr = [ plot [ shapePlot $ circle 0.06 & moveTo p & opacity 0.2 | p <- ps ]\n",
    "                    , plot $ onlyNodes tr ]\n",
    " where ps = map p2 $ onlyLeaves tr\n",
    " \n",
    "prettyWebPlot :: PointsWeb ℝ² () -> [DynamicPlottable]\n",
    "prettyWebPlot w = [ shapePlot $ fromVertices [p2 r₁, p2 r₂] | ((r₁,()),(r₂,())) <- edg ]\n",
    " where edg = webEdges w\n",
    "\n",
    "defMetric :: HerMetric ℝ²\n",
    "defMetric = projector (1,0) ^+^ projector (0,1)\n",
    "\n",
    "plotTreeAndWeb :: ShadeTree ℝ² -> IO ()\n",
    "plotTreeAndWeb tr = do\n",
    "    plotWindow $ prettyTreePlot tr\n",
    "    plotWindow $ dynamicAxes : prettyWebPlot (fromShadeTree (const defMetric) tr)\n",
    "    return ()"
   ]
  },
  {
   "cell_type": "markdown",
   "metadata": {},
   "source": [
    "Simple cartesian grid within a disk:"
   ]
  },
  {
   "cell_type": "code",
   "execution_count": 5,
   "metadata": {
    "collapsed": false
   },
   "outputs": [
    {
     "data": {
      "text/plain": []
     },
     "metadata": {},
     "output_type": "display_data"
    }
   ],
   "source": [
    "cartTree :: ShadeTree ℝ²\n",
    "cartTree = fromLeafPoints\n",
    "               [ (x,y) | x<-[0, 0.15 .. 4]\n",
    "                       , y<-[0, 0.2 .. 4]\n",
    "                       , (x-2)^2 + (y-2)^2 < 4 ]\n",
    "\n",
    "plotTreeAndWeb cartTree"
   ]
  },
  {
   "cell_type": "markdown",
   "metadata": {},
   "source": [
    "![visualisation of tree-cover of cartesian-disk cloud](https://raw.githubusercontent.com/leftaroundabout/manifolds/master/manifolds/images/examples/cartesiandisk-2d-ShadeTree.png)\n",
    "![visualisation of points-web of cartesian-disk cloud](https://raw.githubusercontent.com/leftaroundabout/manifolds/master/manifolds/images/examples/cartesiandisk-2d-PointsWeb.png)"
   ]
  },
  {
   "cell_type": "markdown",
   "metadata": {},
   "source": [
    "<a id='pseudorandomCloudTree'></a>Cloud of 405 sort-of random points:"
   ]
  },
  {
   "cell_type": "code",
   "execution_count": 6,
   "metadata": {
    "collapsed": false
   },
   "outputs": [
    {
     "data": {
      "text/plain": []
     },
     "metadata": {},
     "output_type": "display_data"
    }
   ],
   "source": [
    "let tps₀ = [(0,0), (0,1), (1,1), (1,2), (2,2)]\n",
    "    tps₁ = [p .+^ v^/3 | p<-tps₀, v <- [(0,0), (-1,1), (1,2)]]\n",
    "    tps₂ = [p .+^ v^/4 | p<-tps₁, v <- [(0,0), (-1,1), (1,2)]]\n",
    "    tps₃ = [p .+^ v^/5 | p<-tps₂, v <- [(0,0), (-2,1), (1,2)]]\n",
    "    tps₄ = [p .+^ v^/7 | p<-tps₃, v <- [(0,1), (-1,1), (1,2)]]\n",
    " in plotTreeAndWeb $ fromLeafPoints tps₄"
   ]
  },
  {
   "cell_type": "markdown",
   "metadata": {},
   "source": [
    "![visualisation of tree-cover of pseudorandom-point cloud](https://raw.githubusercontent.com/leftaroundabout/manifolds/master/manifolds/images/examples/simple-2d-ShadeTree.png)\n",
    "![visualisation of points-web of pseudorandom-point cloud](https://raw.githubusercontent.com/leftaroundabout/manifolds/master/manifolds/images/examples/simple-2d-PointsWeb.png)"
   ]
  },
  {
   "cell_type": "markdown",
   "metadata": {},
   "source": [
    "1000 actually-random, normally-distributed points<!--, with focus on one local point-group and its neighbours-->:"
   ]
  },
  {
   "cell_type": "code",
   "execution_count": 7,
   "metadata": {
    "collapsed": false
   },
   "outputs": [
    {
     "data": {
      "text/plain": []
     },
     "metadata": {},
     "output_type": "display_data"
    }
   ],
   "source": [
    "randomTr <- fmap fromLeafPoints . forM [0..1000] $ \\_->\n",
    "     runRVar (sample $ (1,1):±[(1,0),(0,1)]) StdRandom :: IO ℝ²\n",
    "\n",
    "-- ((_,twig),envi) <- runRVar (randomElement $ twigsWithEnvirons randomTr) StdRandom\n",
    "-- plotWindow $ prettyTreePlot randomTr\n",
    "--          ++ prettyTreePlot twig\n",
    "--          ++ [plot $ prettyTreePlot.snd<$>envi]\n",
    "\n",
    "plotTreeAndWeb randomTr"
   ]
  },
  {
   "cell_type": "markdown",
   "metadata": {
    "collapsed": true
   },
   "source": [
    "![visualisation of tree-cover of pseudorandom-point cloud](https://raw.githubusercontent.com/leftaroundabout/manifolds/master/manifolds/images/examples/normaldistrib-2d-ShadeTree.png)\n",
    "![visualisation of points-web of pseudorandom-point cloud](https://raw.githubusercontent.com/leftaroundabout/manifolds/master/manifolds/images/examples/normaldistrib-2d-PointsWeb.png)"
   ]
  },
  {
   "cell_type": "code",
   "execution_count": 8,
   "metadata": {
    "collapsed": false
   },
   "outputs": [
    {
     "data": {
      "text/plain": [
       "GraphWindowSpecR2{lBound=10.235286747844025, rBound=11.818170770984697, bBound=0.8492156104601664, tBound=1.2978839787773082, xResolution=640, yResolution=480}"
      ]
     },
     "metadata": {},
     "output_type": "display_data"
    }
   ],
   "source": [
    "plotWindow [fnPlot (sin . (**2))]"
   ]
  },
  {
   "cell_type": "code",
   "execution_count": null,
   "metadata": {
    "collapsed": true
   },
   "outputs": [],
   "source": []
  }
 ],
 "metadata": {
  "kernelspec": {
   "display_name": "Haskell",
   "language": "haskell",
   "name": "haskell"
  },
  "language_info": {
   "codemirror_mode": "ihaskell",
   "file_extension": ".hs",
   "name": "haskell",
   "version": "7.10.2"
  }
 },
 "nbformat": 4,
 "nbformat_minor": 0
}
