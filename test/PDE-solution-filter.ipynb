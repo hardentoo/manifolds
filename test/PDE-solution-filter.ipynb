{
 "cells": [
  {
   "cell_type": "code",
   "execution_count": 1,
   "metadata": {
    "collapsed": true
   },
   "outputs": [],
   "source": [
    "{-# LANGUAGE TypeOperators, FlexibleContexts, TypeFamilies, UnicodeSyntax, ScopedTypeVariables #-}\n",
    "import Prelude ()\n",
    "import Data.Manifold.TreeCover\n",
    "import Data.Random\n",
    "import Data.Random.Manifold\n",
    "import Data.Manifold\n",
    "import Data.Manifold.Web\n",
    "import Data.Manifold.DifferentialEquation\n",
    "import Math.LinearMap.Category\n",
    "import Data.VectorSpace\n",
    "import Data.Basis (Basis)\n",
    "import Linear(V2(..), ex, ey, _x, _y)\n",
    "import Data.Semigroup\n",
    "import qualified Data.Foldable as Hask\n",
    "import qualified Control.Monad as Hask\n",
    "import qualified Control.Comonad.Cofree as Hask\n",
    "import Control.Lens\n",
    ":opt no-lint\n",
    "import Control.Category.Constrained.Prelude\n",
    "import Control.Arrow.Constrained"
   ]
  },
  {
   "cell_type": "markdown",
   "metadata": {},
   "source": [
    "From [diagrams](http://projects.haskell.org/diagrams):"
   ]
  },
  {
   "cell_type": "code",
   "execution_count": 2,
   "metadata": {
    "collapsed": false
   },
   "outputs": [],
   "source": [
    "import Diagrams.Prelude (p2, circle, (&), (^&), moveTo, opacity, fromVertices, Point(P))"
   ]
  },
  {
   "cell_type": "code",
   "execution_count": 3,
   "metadata": {
    "collapsed": true
   },
   "outputs": [],
   "source": [
    "type X = ℝ\n",
    "type T = ℝ\n",
    "type U = ℝ\n",
    "type Ðx'U = ℝ\n",
    "type Ðt'U = ℝ\n",
    "type Ðx'Ðt'U = ℝ\n",
    "type Ðx²'U = ℝ\n",
    "type x × y = ℝ²\n",
    "et = ey :: Basis ℝ²"
   ]
  },
  {
   "cell_type": "markdown",
   "metadata": {},
   "source": [
    "From [dynamic-plot](http://hackage.haskell.org/package/dynamic-plot):"
   ]
  },
  {
   "cell_type": "code",
   "execution_count": 4,
   "metadata": {
    "collapsed": false
   },
   "outputs": [],
   "source": [
    "import Graphics.Dynamic.Plot.R2\n",
    "import Data.Colour.Names\n",
    "import Data.Colour.Manifold\n",
    "\n",
    "colourscheme :: Shade' ℝ -> Shade (Colour ℝ)\n",
    "colourscheme (Shade' u du) = interp (Shade u $ dualNorm du :: Shade ℝ)\n",
    " where Just interp = rangeOnGeodesic darkblue orange\n",
    " \n",
    "prettyWebPlot :: PointsWeb ℝ² y -> DynamicPlottable\n",
    "prettyWebPlot w = plot [ diagramPlot . opacity 0.5 $ fromVertices [P r₁, P r₂]\n",
    "                       | ((r₁@(V2 x₁ y₁),_),(r₂@(V2 x₂ y₂),_)) <- edg ]\n",
    " where edg = webEdges w"
   ]
  },
  {
   "cell_type": "code",
   "execution_count": 5,
   "metadata": {
    "collapsed": false
   },
   "outputs": [],
   "source": [
    "colourscheme_heat :: Shade' (U, Ðx'U × Ðt'U) -> Shade (Colour ℝ)\n",
    "colourscheme_heat = cm . factoriseShade\n",
    " where cm :: (Shade' U, Shade' (Ðx'U × Ðt'U)) -> Shade (Colour ℝ)\n",
    "       cm (Shade' u du, _) = interp (Shade u $ dualNorm du :: Shade ℝ)\n",
    "       Just interp = rangeOnGeodesic darkblue orange"
   ]
  },
  {
   "cell_type": "code",
   "execution_count": 6,
   "metadata": {
    "collapsed": false
   },
   "outputs": [],
   "source": [
    "heatEqn :: DifferentialEqn (X × T) (U, Ðx'U × Ðt'U)\n",
    "      -- Shade (X×T, U,Ðx'U) -> Shade' (X×T +> (U,Ðx'U)) -> ?(Shade' (X×T +> (U,Ðx'U)))\n",
    "heatEqn = constLinearDEqn\n",
    "    (arr.LinearFunction $\n",
    "        \\(_u, V2 ðx'u ðt'u)\n",
    "       -> let ðx'ðx'u = ðt'u\n",
    "          in LinearMap (V2 (ðx'u, V2 ðx'ðx'u 0)\n",
    "                           (ðt'u, V2 0 0)) )\n",
    "    (arr.LinearFunction $\n",
    "        \\(LinearMap (V2 (ðx'u, V2 ðx'ðx'u ðx'ðt'u)\n",
    "                        (ðt'u, V2 ðt'ðx'u ðt'ðt'u)))\n",
    "                  -> (0, V2 ðx'u ðt'u) )"
   ]
  },
  {
   "cell_type": "code",
   "execution_count": 8,
   "metadata": {
    "collapsed": false
   },
   "outputs": [
    {
     "data": {
      "text/plain": [
       "GraphWindowSpecR2{lBound=-1.333333333333333, rBound=1.333333333333333, bBound=-2.600175624310109e-2, tBound=2.2000013911061957e-2, xResolution=640, yResolution=480}"
      ]
     },
     "metadata": {},
     "output_type": "display_data"
    }
   ],
   "source": [
    "type HeatFlow = (U, Ðx'U × Ðt'U)\n",
    "\n",
    "initState_heat :: X -> HeatFlow\n",
    "initState_heat x = ( u\n",
    "                   , V2 (- 2 * s*x / cosh (s * (1 - x^2))^2 )\n",
    "                        (-2 * s / cosh(s * (1 - x^2))^2 - 8 * s^2 * x^2 / cosh(s * (1 - x^2))^2 * u)\n",
    "                   )\n",
    " where u = tanh (s * (1 - x^2))\n",
    "       s = 0.01\n",
    "\n",
    "plotWindow $ continFnPlot <$> [ fst . initState_heat\n",
    "                              , (^._x) . snd . initState_heat\n",
    "                              , (^._y) . snd . initState_heat]\n",
    "\n",
    "tf_heat :: Needle X -> Needle T -> PointsWeb (X × T) (Shade' HeatFlow)\n",
    "tf_heat δx₀ δt₀ = fromWebNodes euclideanMetric\n",
    "      $  [(V2 x 0, initState_heat x|±|[(0.01,V2 0 0), (0,V2 0.01 0), (0,V2 0 0.01)]) | x<-[xl, xl+δx₀ .. xr] ]\n",
    "      ++ [(V2 x t, zeroV|±|[(1, V2 0 0), (0, V2 1 0), (0, V2 0 1)]) | x<-[xl, xl+δx₀ .. xr], t<-tail[0, δt₀ .. 1] ]\n",
    " where (xl,xr) = (-2,0)"
   ]
  },
  {
   "cell_type": "code",
   "execution_count": 9,
   "metadata": {
    "collapsed": false
   },
   "outputs": [
    {
     "data": {
      "text/plain": []
     },
     "metadata": {},
     "output_type": "display_data"
    }
   ],
   "source": [
    "startSt_heat = tf_heat 0.2 0.2\n",
    "\n",
    "-- Hask.toList startSt_heat\n",
    "-- Hask.toList <$> rescanPDEOnWeb AbortOnInconsistency heatEqn startSt_heat\n",
    "\n",
    "scrutiniseShade' :: ∀ x . x ~ HeatFlow => Shade' x -> String\n",
    "scrutiniseShade' (Shade' c (Norm e)) = show c ++ \"±\" ++ show (arr e :: Needle x +> Needle' x)\n",
    "\n",
    "tfs_heat = iterateFilterDEqn_static (indicateInconsistencies scrutiniseShade' intersectShade's) id heatEqn startSt_heat\n",
    "forM_ [ Hask.toList tfs_heat ]\n",
    "  $ \\tfs ->\n",
    "    plotWindow\n",
    "       [ prettyWebPlot $ head tfs\n",
    "       , plotLatest [ plot (fmap colourscheme_heat tfi)\n",
    "                       & legendName (\"i = \"++show i)\n",
    "                    | (i,tfi) <- zip [0..] tfs ] ]"
   ]
  },
  {
   "cell_type": "code",
   "execution_count": 10,
   "metadata": {
    "collapsed": true
   },
   "outputs": [],
   "source": [
    "findErr :: (Hask.Monad m, Hask.Foldable m) => Hask.Cofree m a -> m ()\n",
    "findErr (a Hask.:< q) = case Hask.toList q of\n",
    "        [] -> const () <$> q\n",
    "        l  -> foldr1 (>>) $ findErr<$>l\n",
    "\n",
    "-- case findErr tfs_heat of Left e -> putStrLn e"
   ]
  },
  {
   "cell_type": "markdown",
   "metadata": {},
   "source": [
    "![Initial state from which to start refining solution of the heat PDE](https://raw.githubusercontent.com/leftaroundabout/manifolds/master/manifolds/images/examples/PDE-solution-filter/HeatEqn-InitialState.png)"
   ]
  },
  {
   "cell_type": "markdown",
   "metadata": {
    "collapsed": true
   },
   "source": [
    "Formulate the heat equation without explicit reference to numerical derivatives\n",
    "(only _numerically integrating_ the derivatives stored in the nodes):"
   ]
  },
  {
   "cell_type": "code",
   "execution_count": null,
   "metadata": {
    "collapsed": true
   },
   "outputs": [],
   "source": []
  }
 ],
 "metadata": {
  "kernelspec": {
   "display_name": "Haskell",
   "language": "haskell",
   "name": "haskell"
  },
  "language_info": {
   "codemirror_mode": "ihaskell",
   "file_extension": ".hs",
   "name": "haskell",
   "version": "7.10.2"
  }
 },
 "nbformat": 4,
 "nbformat_minor": 0
}
