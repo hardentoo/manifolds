{
 "cells": [
  {
   "cell_type": "code",
   "execution_count": 1,
   "metadata": {
    "collapsed": false
   },
   "outputs": [],
   "source": [
    "{-# LANGUAGE TypeOperators, FlexibleContexts, TypeFamilies\n",
    " , UnicodeSyntax, ScopedTypeVariables, NoMonomorphismRestriction #-}\n",
    "import Prelude ()\n",
    "import Data.Manifold.TreeCover\n",
    "import Data.Manifold.Shade\n",
    "import Data.Random\n",
    "import Data.Random.Manifold\n",
    "import Data.Manifold\n",
    "import Data.Manifold.Web\n",
    "import Data.Manifold.DifferentialEquation\n",
    "import Math.LinearMap.Category\n",
    "import Math.LinearMap.Category.Derivatives\n",
    "import Data.VectorSpace\n",
    "import Data.Function.Affine\n",
    "import Data.Basis (Basis)\n",
    "import Linear(V2(..), ex, ey, _x, _y)\n",
    "import Data.Semigroup\n",
    "import Data.List.NonEmpty (NonEmpty(..))\n",
    "import qualified Data.Foldable as Hask\n",
    "import qualified Control.Monad as Hask\n",
    "import qualified Control.Comonad.Cofree as Hask\n",
    "import Control.Lens\n",
    ":opt no-lint\n",
    "import Control.Category.Constrained.Prelude\n",
    "import Control.Arrow.Constrained\n",
    "test x = x `seq` putStrLn \"ok\""
   ]
  },
  {
   "cell_type": "markdown",
   "metadata": {},
   "source": [
    "From [diagrams](http://projects.haskell.org/diagrams):"
   ]
  },
  {
   "cell_type": "code",
   "execution_count": 2,
   "metadata": {
    "collapsed": false
   },
   "outputs": [],
   "source": [
    "import Diagrams.Prelude (p2, circle, (&), (^&), moveTo, opacity, fromVertices, Point(P))"
   ]
  },
  {
   "cell_type": "code",
   "execution_count": 3,
   "metadata": {
    "collapsed": false
   },
   "outputs": [],
   "source": [
    "type X = ℝ\n",
    "type T = ℝ\n",
    "type U = ℝ\n",
    "type Ðx'U = ℝ\n",
    "type Ðx²'U = ℝ\n",
    "type x × y = ℝ²\n",
    "type HeatFlow = (U, Ðx'U)\n",
    "et = ey :: Basis ℝ²\n",
    "_t = _y :: Lens' (X × T) T\n",
    "_u = _1 :: Lens' (U, Ðx'U) U\n",
    "_ðx'u = _2 :: Lens' (U, Ðx'U) Ðx'U"
   ]
  },
  {
   "cell_type": "markdown",
   "metadata": {},
   "source": [
    "From [dynamic-plot](http://hackage.haskell.org/package/dynamic-plot):"
   ]
  },
  {
   "cell_type": "code",
   "execution_count": 4,
   "metadata": {
    "collapsed": false
   },
   "outputs": [
    {
     "data": {
      "text/plain": [
       "ok"
      ]
     },
     "metadata": {},
     "output_type": "display_data"
    }
   ],
   "source": [
    "import Graphics.Dynamic.Plot.R2\n",
    "import Data.Colour.Names\n",
    "import Data.Colour.Manifold\n",
    "\n",
    "colourscheme :: Shade' ℝ -> Shade (Colour ℝ)\n",
    "colourscheme (Shade' u du) = interp (Shade u $ dualNorm du :: Shade ℝ)\n",
    " where Just interp = rangeOnGeodesic darkblue orange\n",
    " \n",
    "prettyWebPlot :: PointsWeb ℝ² y -> DynamicPlottable\n",
    "prettyWebPlot w = plot [ diagramPlot . opacity 0.5 $ fromVertices [P r₁, P r₂]\n",
    "                       | ((r₁@(V2 x₁ y₁),_),(r₂@(V2 x₂ y₂),_)) <- edg ]\n",
    " where edg = webEdges w\n",
    " \n",
    "colourscheme_heat :: Shade' HeatFlow -> Shade (Colour ℝ)\n",
    "colourscheme_heat = f `seq` \\(Shade' y e) -> f (Shade y $ dualNorm e)\n",
    " where Just (f :: Shade HeatFlow -> Shade (Colour ℝ))\n",
    "          = rangeWithinVertices ((0,0), neutral)\n",
    "                              [ ((1,0), orange)\n",
    "                              , ((0,2), seagreen) ]\n",
    "       Just neutral = toInterior (dimgrey :: Colour ℝ)\n",
    "test colourscheme_heat"
   ]
  },
  {
   "cell_type": "code",
   "execution_count": 5,
   "metadata": {
    "collapsed": false
   },
   "outputs": [],
   "source": [
    "trimDecimals :: ℝ -> ℝ\n",
    "trimDecimals = (/q) . fromInteger . round . (*q)\n",
    " where q = 100\n",
    "\n",
    "import Control.Applicative ((<|>))\n",
    "import Control.Monad.Trans.Except\n",
    "honestStrategy, cheatingStrategy :: ∀ x y. (Refinable y, y ~ Interior y)\n",
    "   => InformationMergeStrategy [] (Except (PropagationInconsistency x (Shade' y))) (x, Shade' y) (Shade' y)\n",
    "honestStrategy = indicateInconsistencies intersectShade's\n",
    "cheatingStrategy = indicateInconsistencies (\\l -> intersectShade's l <|> mixShade's l)"
   ]
  },
  {
   "cell_type": "code",
   "execution_count": 6,
   "metadata": {
    "collapsed": false
   },
   "outputs": [
    {
     "data": {
      "text/plain": [
       "GraphWindowSpecR2{lBound=-1.3333333333333335, rBound=1.3333333333333335, bBound=-1.529313244967971, tBound=1.5293132449679738, xResolution=640, yResolution=480}"
      ]
     },
     "metadata": {},
     "output_type": "display_data"
    }
   ],
   "source": [
    "α = 0.5\n",
    "(xl,xr) = (0,2)\n",
    "\n",
    "exact_heat :: X -> T -> U\n",
    "exact_heat x t = u 1 - u 3/3\n",
    " where u n = sin (n*pi*(x-xl)/l) * exp(-α * (n*pi/l)^2 * t)\n",
    "       l = xr - xl\n",
    "\n",
    "plotWindow [ continFnPlot (`exact_heat`t) & legendName (\"t = \"++show t)\n",
    "           | t<-[0,0.2 .. 1] ]"
   ]
  },
  {
   "cell_type": "code",
   "execution_count": 7,
   "metadata": {
    "collapsed": false
   },
   "outputs": [],
   "source": [
    "δx₀ = 1/12\n",
    "δt₀ = 7/8 * δx₀\n",
    "\n",
    "heatEqn :: DifferentialEqn (X × T) Ðx²'U U\n",
    "heatEqn (Shade (V2 x t, _) _) = LocalDifferentialEqn {\n",
    "     _predictDerivatives = \\sh_ðx²'u\n",
    "       -> return $ embedShade (lensEmbedding (α*∂id/∂_t)) sh_ðx²'u\n",
    "   , _rescanDerivatives = \\d⁰ d¹ d²\n",
    "       -> ( return $ if abs t<δt₀/2 || min (abs x) (abs $ xr-x) < δx₀/2\n",
    "                          then exact_heat x t|±|[5e-2]\n",
    "                          else d⁰\n",
    "          , return $ projectShade (lensEmbedding (1*∂id/∂_x.∂_x)) d² )\n",
    "   }"
   ]
  },
  {
   "cell_type": "code",
   "execution_count": 8,
   "metadata": {
    "collapsed": false
   },
   "outputs": [
    {
     "data": {
      "text/plain": []
     },
     "metadata": {},
     "output_type": "display_data"
    }
   ],
   "source": [
    "startSt_heat = fromWebNodes euclideanMetric\n",
    "          [ (V2 x t, exact_heat x t|±|[1])\n",
    "          | t'<-trimDecimals<$>[tStart, tStart+δt₀ .. tEnd]\n",
    "          , let xlq = xl + skew*(t' - tEnd)\n",
    "          , x<-trimDecimals<$>[xlq-δx₀, xlq .. xr+δx₀]\n",
    "          , x >= xl-δx₀\n",
    "          , let t = t' + 0.005 * sin (37245*sin(2334*x)+t') ]\n",
    " where skew = 8/14\n",
    "       xlq = -1\n",
    "       (tStart, tEnd) = (-δt₀, 1)\n",
    "\n",
    "\n",
    "tfs_heat = iterateFilterDEqn_static honestStrategy id heatEqn startSt_heat\n",
    "forM_ [Hask.toList tfs_heat ]\n",
    "  $ \\tfs ->\n",
    "    plotWindow\n",
    "       [-- prettyWebPlot $ head tfs\n",
    "        plotLatest [ plot (fmap colourscheme tfi)\n",
    "                       & legendName (\"i = \"++show i)\n",
    "                    | (i,tfi) <- zip [0..] tfs ]\n",
    "       , dynamicAxes ]\n",
    "Hask.mapM_ (\\st -> mapM_ (\\((p,y),(q,z)) -> putStrLn $\n",
    "                 show p ++ \":\\t\" ++ prettyShowShade' y\n",
    "            ++ \"\\n\" ++ show q ++ \":\\t\" ++ prettyShowShade' z) (webEdges st) >> print())\n",
    "    $ take 0 (Hask.toList tfs_heat)"
   ]
  },
  {
   "cell_type": "code",
   "execution_count": null,
   "metadata": {
    "collapsed": false
   },
   "outputs": [],
   "source": [
    "pertubation :: X -> T -> U\n",
    "pertubation x t = 0.4 * exp (-((x-0.7)^2 + (t-0.6)^2)*3)\n",
    "\n",
    "startSt_perturbed = fromWebNodes euclideanMetric\n",
    "          [ (V2 x t, (exact_heat x t + pertubation x t, 0)\n",
    "                       |±|[(0.01,0), (0,0.10)])\n",
    "          | x<-[xl,xl+δx₀ .. xr], t<-[tStart, tStart+δt₀ .. tEnd]]\n",
    " where δx₀ = 0.0625\n",
    "       δt₀ = 0.0625\n",
    "\n",
    "tfs_heat = iterateFilterDEqn_static strategy id heatEqn startSt_perturbed\n",
    "forM_ [Hask.toList tfs_heat ]\n",
    "  $ \\tfs ->\n",
    "    plotWindow\n",
    "       [ prettyWebPlot $ head tfs\n",
    "       , plotLatest [ plot (fmap colourscheme_heat tfi)\n",
    "                       & legendName (\"i = \"++show i)\n",
    "                    | (i,tfi) <- zip [0..] tfs ] ]\n",
    "Hask.mapM_ (\\st -> mapM_ (\\((p,y),(q,z)) -> putStrLn $\n",
    "                 show p ++ \":\\t\" ++ prettyShowShade' y\n",
    "            ++ \"\\n\" ++ show q ++ \":\\t\" ++ prettyShowShade' z) (webEdges st) >> print())\n",
    "    $ take 0 (Hask.toList tfs_heat)"
   ]
  },
  {
   "cell_type": "code",
   "execution_count": 16,
   "metadata": {
    "collapsed": false
   },
   "outputs": [
    {
     "data": {
      "text/plain": [
       "apriori: 0.49|±|[0.05]\n",
       "V2 0.55 7.0e-2\t-> 0|±|[18]\n",
       "V2 0.47 7.0e-2\t-> -0|±|[22]\n",
       "V2 0.6 0.0\t-> 1|±|[471]\n",
       "V2 0.43 0.0\t-> 0|±|[]\n",
       "V2 0.47 (-7.0e-2)\t-> 2|±|[19]\n",
       "V2 0.56 (-7.0e-2)\t-> 162|±|[80]"
      ]
     },
     "metadata": {},
     "output_type": "display_data"
    }
   ],
   "source": [
    "import Control.Monad.Trans.Except\n",
    "findErr :: (Hask.Monad m, Hask.Foldable m) => Hask.Cofree m a -> m ()\n",
    "findErr (a Hask.:< q) = case Hask.toList q of\n",
    "        [] -> const () <$> q\n",
    "        l  -> foldr1 (>>) $ findErr<$>l\n",
    "\n",
    "case runExcept $ findErr tfs_heat of\n",
    " Left (PropagationInconsistency pro apr) -> do\n",
    "      putStrLn $ \"apriori: \"++show apr\n",
    "      forM_ pro $ \\(o,m) -> putStrLn $ show o ++ \"\\t-> \" ++ show m\n",
    "      --plotWindow $ (plot apr & legendName \"apriori\")\n",
    "        --         : [plot m & legendName (\"from \"++show o) | (o,m)<-pro]\n"
   ]
  },
  {
   "cell_type": "markdown",
   "metadata": {},
   "source": [
    "![Initial state from which to start refining solution of the heat PDE](https://raw.githubusercontent.com/leftaroundabout/manifolds/master/manifolds/images/examples/PDE-solution-filter/HeatEqn-InitialState.png)"
   ]
  },
  {
   "cell_type": "code",
   "execution_count": 21,
   "metadata": {
    "collapsed": false
   },
   "outputs": [
    {
     "data": {
      "text/plain": [
       "Just (0|±|[18])"
      ]
     },
     "metadata": {},
     "output_type": "display_data"
    }
   ],
   "source": [
    "intersectShade's $ 0|±|[18] :| [-0|±|[22], 1|±|[471]] :: Maybe (Shade' ℝ)"
   ]
  },
  {
   "cell_type": "code",
   "execution_count": null,
   "metadata": {
    "collapsed": true
   },
   "outputs": [],
   "source": []
  }
 ],
 "metadata": {
  "kernelspec": {
   "display_name": "Haskell",
   "language": "haskell",
   "name": "haskell"
  },
  "language_info": {
   "codemirror_mode": "ihaskell",
   "file_extension": ".hs",
   "name": "haskell",
   "version": "7.10.2"
  }
 },
 "nbformat": 4,
 "nbformat_minor": 0
}
