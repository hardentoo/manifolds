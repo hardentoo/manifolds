{
 "cells": [
  {
   "cell_type": "code",
   "execution_count": 1,
   "metadata": {
    "collapsed": true
   },
   "outputs": [],
   "source": [
    "{-# LANGUAGE TypeOperators, FlexibleContexts, TypeFamilies, UnicodeSyntax, ScopedTypeVariables #-}\n",
    "import Prelude ()\n",
    "import Data.Manifold.TreeCover\n",
    "import Data.Random\n",
    "import Data.Random.Manifold\n",
    "import Data.Manifold\n",
    "import Data.Manifold.Web\n",
    "import Data.Manifold.DifferentialEquation\n",
    "import Math.LinearMap.Category\n",
    "import Data.VectorSpace\n",
    "import Data.Basis (Basis)\n",
    "import Linear(V2(..), ex, ey, _x, _y)\n",
    "import Data.Semigroup\n",
    "import qualified Data.Foldable as Hask\n",
    "import qualified Control.Monad as Hask\n",
    "import qualified Control.Comonad.Cofree as Hask\n",
    "import Control.Lens\n",
    ":opt no-lint\n",
    "import Control.Category.Constrained.Prelude\n",
    "import Control.Arrow.Constrained"
   ]
  },
  {
   "cell_type": "markdown",
   "metadata": {},
   "source": [
    "From [diagrams](http://projects.haskell.org/diagrams):"
   ]
  },
  {
   "cell_type": "code",
   "execution_count": 2,
   "metadata": {
    "collapsed": false
   },
   "outputs": [],
   "source": [
    "import Diagrams.Prelude (p2, circle, (&), (^&), moveTo, opacity, fromVertices, Point(P))"
   ]
  },
  {
   "cell_type": "code",
   "execution_count": 3,
   "metadata": {
    "collapsed": true
   },
   "outputs": [],
   "source": [
    "type X = ℝ\n",
    "type T = ℝ\n",
    "type U = ℝ\n",
    "type Ðx'U = ℝ\n",
    "type Ðt'U = ℝ\n",
    "type Ðx'Ðt'U = ℝ\n",
    "type Ðx²'U = ℝ\n",
    "type x × y = ℝ²\n",
    "et = ey :: Basis ℝ²"
   ]
  },
  {
   "cell_type": "markdown",
   "metadata": {},
   "source": [
    "From [dynamic-plot](http://hackage.haskell.org/package/dynamic-plot):"
   ]
  },
  {
   "cell_type": "code",
   "execution_count": 4,
   "metadata": {
    "collapsed": false
   },
   "outputs": [],
   "source": [
    "import Graphics.Dynamic.Plot.R2\n",
    "import Data.Colour.Names\n",
    "import Data.Colour.Manifold\n",
    "\n",
    "colourscheme :: Shade' ℝ -> Shade (Colour ℝ)\n",
    "colourscheme (Shade' u du) = interp (Shade u $ dualNorm du :: Shade ℝ)\n",
    " where Just interp = rangeOnGeodesic darkblue orange\n",
    " \n",
    "prettyWebPlot :: PointsWeb ℝ² y -> DynamicPlottable\n",
    "prettyWebPlot w = plot [ diagramPlot . opacity 0.5 $ fromVertices [P r₁, P r₂]\n",
    "                       | ((r₁@(V2 x₁ y₁),_),(r₂@(V2 x₂ y₂),_)) <- edg ]\n",
    " where edg = webEdges w"
   ]
  },
  {
   "cell_type": "code",
   "execution_count": 5,
   "metadata": {
    "collapsed": false
   },
   "outputs": [],
   "source": [
    "colourscheme_heat :: Shade' (U, Ðx'U) -> Shade (Colour ℝ)\n",
    "colourscheme_heat = cm . factoriseShade\n",
    " where cm :: (Shade' U, Shade' Ðx'U) -> Shade (Colour ℝ)\n",
    "       cm (Shade' u du, _) = interp (Shade u $ dualNorm du :: Shade ℝ)\n",
    "       Just interp = rangeOnGeodesic darkblue orange"
   ]
  },
  {
   "cell_type": "code",
   "execution_count": 6,
   "metadata": {
    "collapsed": false
   },
   "outputs": [],
   "source": [
    "heatEqn :: DifferentialEqn (X × T) Ðt'U (U, Ðx'U)\n",
    "      -- Shade (X×T, U,Ðx'U) -> Shade' (X×T +> (U,Ðx'U)) -> ?(Shade' (X×T +> (U,Ðx'U)))\n",
    "heatEqn = constLinearDEqn\n",
    "    (arr.LinearFunction $\n",
    "        \\((_u, ðx'u), ðt'u)\n",
    "       -> let ðx'ðx'u = ðt'u\n",
    "          in LinearMap (V2 (ðx'u, ðx'ðx'u)\n",
    "                           (ðt'u, 0)) )  -- ðt'ðx'u is unknown\n",
    "    (arr.LinearFunction $\n",
    "        \\(LinearMap (V2 (ðx'u, ðx'ðx'u)\n",
    "                        (ðt'u, ðt'ðx'u)))\n",
    "                  -> ((0, ðx'u), ðt'u) )"
   ]
  },
  {
   "cell_type": "code",
   "execution_count": 7,
   "metadata": {
    "collapsed": false
   },
   "outputs": [
    {
     "data": {
      "text/plain": [
       "GraphWindowSpecR2{lBound=-1.333333333333333, rBound=1.333333333333333, bBound=-1.8790981773565483, tBound=1.8790981773565434, xResolution=640, yResolution=480}"
      ]
     },
     "metadata": {},
     "output_type": "display_data"
    }
   ],
   "source": [
    "type HeatFlow = (U, Ðx'U)\n",
    "\n",
    "initState_heat :: X -> HeatFlow\n",
    "initState_heat x = ( u\n",
    "                   , (- 2 * s*x / cosh (s * (1 - x^2))^2 )\n",
    "                   )\n",
    " where u = tanh (s * (1 - x^2))\n",
    "       s = 1\n",
    "\n",
    "plotWindow $ continFnPlot <$> [ fst . initState_heat\n",
    "                              , snd . initState_heat ]\n",
    "\n",
    "tf_heat :: Needle X -> Needle T -> PointsWeb (X × T) (Shade' HeatFlow)\n",
    "tf_heat δx₀ δt₀ = fromWebNodes euclideanMetric\n",
    "      $  [ (V2 x t, initState_heat x|±|[(0.01,0), (0,0.01)])\n",
    "         | x<-[xl, xl+δx₀ .. xr], t<-[0] ]\n",
    "      ++ [ (V2 x t, zeroV|±|[(2, 0), (0, 2)])\n",
    "         | x<-[xl, xl+δx₀ .. xr], t<-tail[0, δt₀ .. 1] ]\n",
    " where (xl,xr) = (0,2)"
   ]
  },
  {
   "cell_type": "code",
   "execution_count": 8,
   "metadata": {
    "collapsed": false
   },
   "outputs": [
    {
     "data": {
      "text/plain": [
       "V2 2.0 0.625:\t(0,0)|±|[(2,0),(0,2)]\n",
       "V2 2.0 0.75:\t(0,0)|±|[(2,0),(0,2)]\n",
       "V2 2.0 0.625:\t(0,0)|±|[(2,0),(0,2)]\n",
       "...\n",
       "...\n",
       "...\n",
       "V2 0.75 0.0:\t(0.41,-1.246)|±|[(0.04,1e-3),(0,0.010)]\n",
       "V2 0.75 0.0:\t(0.41,-1.246)|±|[(0.04,1e-3),(0,0.010)]\n",
       "V2 0.875 0.0:\t(0.23,-1.657)|±|[(0.05,1e-3),(-0.00,11e-3)]\n",
       "()"
      ]
     },
     "metadata": {},
     "output_type": "display_data"
    }
   ],
   "source": [
    "startSt_heat = tf_heat 0.125 0.125\n",
    "\n",
    "-- Hask.toList startSt_heat\n",
    "-- Hask.toList <$> rescanPDEOnWeb AbortOnInconsistency heatEqn startSt_heat\n",
    "\n",
    "scrutiniseShade' :: ∀ x . x ~ HeatFlow => Shade' x -> String\n",
    "scrutiniseShade' (Shade' c (Norm e)) = show c ++ \"±\" ++ show (arr e :: Needle x +> Needle' x)\n",
    "\n",
    "tfs_heat = iterateFilterDEqn_static (indicateInconsistencies intersectShade's) id heatEqn startSt_heat\n",
    "forM_ [Hask.toList tfs_heat ]\n",
    "  $ \\tfs ->\n",
    "    plotWindow\n",
    "       [ prettyWebPlot $ head tfs\n",
    "       , plotLatest [ plot (fmap colourscheme_heat tfi)\n",
    "                       & legendName (\"i = \"++show i)\n",
    "                    | (i,tfi) <- zip [0..] tfs ] ]\n",
    "Hask.mapM_ (\\st -> mapM_ (\\((p,y),(q,z)) -> putStrLn $ show p ++ \":\\t\" ++ prettyShowShade' y ++ \"\\n\" ++ show q ++ \":\\t\" ++ prettyShowShade' z) (webEdges st) >> print()) tfs_heat"
   ]
  },
  {
   "cell_type": "code",
   "execution_count": 15,
   "metadata": {
    "collapsed": false
   },
   "outputs": [
    {
     "data": {
      "text/plain": [
       "PropagationInconsistency {_inconsistentPropagatedData = [(V2 1.625 0.125,(-0.93,0e9)|±|[(0.07,0)]),(V2 1.75 0.0,(-0.9,-1.17)|±|[(0.4,-0.02),(0,0.18)]),(V2 1.5 0.0,(-1,-0)|±|[(3,8),(0,7)])], _inconsistentAPrioriData = (-0.93,-0.454)|±|[(0.04,-7e-3),(0.00,0.011)]}"
      ]
     },
     "metadata": {},
     "output_type": "display_data"
    }
   ],
   "source": [
    "import Control.Monad.Trans.Except\n",
    "findErr :: (Hask.Monad m, Hask.Foldable m) => Hask.Cofree m a -> m ()\n",
    "findErr (a Hask.:< q) = case Hask.toList q of\n",
    "        [] -> const () <$> q\n",
    "        l  -> foldr1 (>>) $ findErr<$>l\n",
    "\n",
    "case runExcept $ findErr tfs_heat of Left e -> print e"
   ]
  },
  {
   "cell_type": "markdown",
   "metadata": {},
   "source": [
    "![Initial state from which to start refining solution of the heat PDE](https://raw.githubusercontent.com/leftaroundabout/manifolds/master/manifolds/images/examples/PDE-solution-filter/HeatEqn-InitialState.png)"
   ]
  },
  {
   "cell_type": "code",
   "execution_count": null,
   "metadata": {
    "collapsed": true
   },
   "outputs": [],
   "source": []
  }
 ],
 "metadata": {
  "kernelspec": {
   "display_name": "Haskell",
   "language": "haskell",
   "name": "haskell"
  },
  "language_info": {
   "codemirror_mode": "ihaskell",
   "file_extension": ".hs",
   "name": "haskell",
   "version": "7.10.2"
  }
 },
 "nbformat": 4,
 "nbformat_minor": 0
}
