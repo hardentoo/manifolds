{
 "cells": [
  {
   "cell_type": "code",
   "execution_count": 1,
   "metadata": {
    "collapsed": true
   },
   "outputs": [],
   "source": [
    "{-# LANGUAGE TypeOperators, FlexibleContexts, TypeFamilies #-}\n",
    "import Prelude ()\n",
    "import Data.Manifold.TreeCover\n",
    "import Data.Random\n",
    "import Data.Random.Manifold\n",
    "import Data.Manifold\n",
    "import Data.Manifold.Web\n",
    "import Data.Manifold.DifferentialEquation\n",
    "import Math.LinearMap.Category\n",
    "import Data.VectorSpace\n",
    "import Linear(V2(..))\n",
    "import Data.Semigroup\n",
    "import qualified Data.Foldable as Hask\n",
    "import Control.Lens\n",
    "\n",
    "import Control.Category.Constrained.Prelude\n",
    "import Control.Arrow.Constrained"
   ]
  },
  {
   "cell_type": "markdown",
   "metadata": {},
   "source": [
    "From [diagrams](http://projects.haskell.org/diagrams):"
   ]
  },
  {
   "cell_type": "code",
   "execution_count": 2,
   "metadata": {
    "collapsed": true
   },
   "outputs": [],
   "source": [
    "import Diagrams.Prelude (p2, circle, (&), (^&), moveTo, opacity, fromVertices)"
   ]
  },
  {
   "cell_type": "code",
   "execution_count": 3,
   "metadata": {
    "collapsed": true
   },
   "outputs": [],
   "source": [
    "type X = ℝ\n",
    "type T = ℝ\n",
    "type U = ℝ\n",
    "type Ðx'U = ℝ\n",
    "type x · y = ℝ²"
   ]
  },
  {
   "cell_type": "markdown",
   "metadata": {},
   "source": [
    "From [dynamic-plot](http://hackage.haskell.org/package/dynamic-plot):"
   ]
  },
  {
   "cell_type": "code",
   "execution_count": 4,
   "metadata": {
    "collapsed": false
   },
   "outputs": [],
   "source": [
    "import Graphics.Dynamic.Plot.R2\n",
    "import Data.Colour.Names\n",
    "import Data.Colour.Manifold\n",
    "\n",
    "colourscheme :: Shade' (U · Ðx'U) -> Shade (Colour ℝ)\n",
    "colourscheme = cm . factoriseShade . (coerceShade ::  Shade' (U · Ðx'U) -> Shade' (U, Ðx'U))\n",
    " where cm :: (Shade' U, Shade' Ðx'U) -> Shade (Colour ℝ)\n",
    "       cm (Shade' u du, _) = interp (Shade u $ dualNorm du :: Shade ℝ)\n",
    "       Option (Just interp) = rangeOnGeodesic darkblue orange"
   ]
  },
  {
   "cell_type": "code",
   "execution_count": 5,
   "metadata": {
    "collapsed": false
   },
   "outputs": [],
   "source": [
    "μ :: LocalLinear (X · T) (U · Ðx'U) +> (U · Ðx'U, ℝ)\n",
    "μ = arr.LinearFunction $\n",
    "        \\(LinearMap (V2 (V2 ðx'u ðx'ðx'u)\n",
    "                        (V2 ðt'u ðt'ðx'u))) -> (V2 (1e-100*ðt'ðx'u) ðx'u, ðx'ðx'u - ðt'u)\n",
    "\n",
    "deq :: DifferentialEqn (X · T) (U · Ðx'U)\n",
    "deq = constLinearPDE $ μ"
   ]
  },
  {
   "cell_type": "code",
   "execution_count": 6,
   "metadata": {
    "collapsed": false
   },
   "outputs": [
    {
     "data": {
      "text/plain": [
       "Shade' {_shade'Ctr = ex.<V2 1.0 0.0 ^+^ ey.<V2 0.0 0.0, _shade'Narrowness = spanNorm [ex.<V2 1.0 0.0 ^+^ ey.<V2 0.0 0.0,ex.<V2 0.0 1.0e10 ^+^ ey.<V2 (-1.0e10) 0.0,ex.<V2 0.0 0.0 ^+^ ey.<V2 0.0 1.0e-100]}"
      ]
     },
     "metadata": {},
     "output_type": "display_data"
    }
   ],
   "source": [
    "deq ((zeroV,V2 0 1):±[(V2 1 0,zeroV), (V2 0 1,zeroV), (zeroV,V2 1 0), (zeroV,V2 0 1)])"
   ]
  },
  {
   "cell_type": "code",
   "execution_count": 7,
   "metadata": {
    "collapsed": true
   },
   "outputs": [],
   "source": [
    "initState :: X -> (U · Ðx'U)\n",
    "initState x = V2 (tanh (s * (1 - x^2)))\n",
    "                    (- 2 * s / cosh (s * (1 - x^2))^2)\n",
    " where s = 5\n",
    "\n",
    "tf :: Needle X -> Needle T -> PointsWeb (X · T) (Shade' (U · Ðx'U))\n",
    "tf δx₀ δt₀ = fromWebNodes euclideanMetric\n",
    "      $  [(V2 x 0, initState x|±|[V2 0.1 0, V2 0 0.1]) | x<-[-2, δx₀-2 .. 2] ]\n",
    "      ++ [(V2 x t, zeroV|±|[V2 1 0, V2 0 1]) | x<-[-2, δx₀-2 .. 2], t<-[δt₀, δt₀*2 .. 2] ]"
   ]
  },
  {
   "cell_type": "code",
   "execution_count": 8,
   "metadata": {
    "collapsed": false
   },
   "outputs": [
    {
     "data": {
      "text/plain": []
     },
     "metadata": {},
     "output_type": "display_data"
    }
   ],
   "source": [
    "startSt = tf 0.21 0.19\n",
    "forM_ [ iterateFilterDEqn_static IgnoreInconsistencies deq startSt ]\n",
    "  $ \\tfs ->\n",
    "    plotWindow\n",
    "       [ plotLatest [ plot (fmap colourscheme tfi)\n",
    "                       & legendName (\"i = \"++show i)\n",
    "                    | (i,tfi) <- zip [0..] tfs ] ]"
   ]
  },
  {
   "cell_type": "markdown",
   "metadata": {},
   "source": [
    "![Initial state from which to start refining solution of the heat PDE](https://raw.githubusercontent.com/leftaroundabout/manifolds/master/manifolds/images/examples/PDE-solution-filter/HeatEqn-InitialState.png)"
   ]
  },
  {
   "cell_type": "code",
   "execution_count": null,
   "metadata": {
    "collapsed": true
   },
   "outputs": [],
   "source": []
  }
 ],
 "metadata": {
  "kernelspec": {
   "display_name": "Haskell",
   "language": "haskell",
   "name": "haskell"
  },
  "language_info": {
   "codemirror_mode": "ihaskell",
   "file_extension": ".hs",
   "name": "haskell",
   "version": "7.10.2"
  }
 },
 "nbformat": 4,
 "nbformat_minor": 0
}
