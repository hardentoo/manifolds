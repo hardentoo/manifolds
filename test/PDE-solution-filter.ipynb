{
 "cells": [
  {
   "cell_type": "code",
   "execution_count": 1,
   "metadata": {
    "collapsed": true
   },
   "outputs": [],
   "source": [
    "{-# LANGUAGE TypeOperators, FlexibleContexts, TypeFamilies #-}\n",
    "import Prelude ()\n",
    "import Data.Manifold.TreeCover\n",
    "import Data.Random\n",
    "import Data.Random.Manifold\n",
    "import Data.Manifold\n",
    "import Data.Manifold.Web\n",
    "import Data.Manifold.DifferentialEquation\n",
    "import Math.LinearMap.Category\n",
    "import Data.VectorSpace\n",
    "import Data.Basis (Basis)\n",
    "import Linear(V2(..), ex, ey, _x, _y)\n",
    "import Data.Semigroup\n",
    "import qualified Data.Foldable as Hask\n",
    "import Control.Lens\n",
    ":opt no-lint\n",
    "import Control.Category.Constrained.Prelude\n",
    "import Control.Arrow.Constrained"
   ]
  },
  {
   "cell_type": "markdown",
   "metadata": {},
   "source": [
    "From [diagrams](http://projects.haskell.org/diagrams):"
   ]
  },
  {
   "cell_type": "code",
   "execution_count": 2,
   "metadata": {
    "collapsed": false
   },
   "outputs": [],
   "source": [
    "import Diagrams.Prelude (p2, circle, (&), (^&), moveTo, opacity, fromVertices, Point(P))"
   ]
  },
  {
   "cell_type": "code",
   "execution_count": 3,
   "metadata": {
    "collapsed": true
   },
   "outputs": [],
   "source": [
    "type X = ℝ\n",
    "type T = ℝ\n",
    "type U = ℝ\n",
    "type Ðx'U = ℝ\n",
    "type Ðt'U = ℝ\n",
    "type Ðx'Ðt'U = ℝ\n",
    "type Ðx²'U = ℝ\n",
    "type x × y = ℝ²\n",
    "et = ey :: Basis ℝ²"
   ]
  },
  {
   "cell_type": "markdown",
   "metadata": {},
   "source": [
    "From [dynamic-plot](http://hackage.haskell.org/package/dynamic-plot):"
   ]
  },
  {
   "cell_type": "code",
   "execution_count": 4,
   "metadata": {
    "collapsed": false
   },
   "outputs": [],
   "source": [
    "import Graphics.Dynamic.Plot.R2\n",
    "import Data.Colour.Names\n",
    "import Data.Colour.Manifold\n",
    "\n",
    "colourscheme :: Shade' ℝ -> Shade (Colour ℝ)\n",
    "colourscheme (Shade' u du) = interp (Shade u $ dualNorm du :: Shade ℝ)\n",
    " where Just interp = rangeOnGeodesic darkblue orange\n",
    " \n",
    "prettyWebPlot :: PointsWeb ℝ² y -> DynamicPlottable\n",
    "prettyWebPlot w = plot [ diagramPlot . opacity 0.5 $ fromVertices [P r₁, P r₂]\n",
    "                       | ((r₁@(V2 x₁ y₁),_),(r₂@(V2 x₂ y₂),_)) <- edg ]\n",
    " where edg = webEdges w"
   ]
  },
  {
   "cell_type": "code",
   "execution_count": 13,
   "metadata": {
    "collapsed": false
   },
   "outputs": [],
   "source": [
    "colourscheme_heat :: Shade' (U, Ðx'U × Ðt'U) -> Shade (Colour ℝ)\n",
    "colourscheme_heat = cm . factoriseShade\n",
    " where cm :: (Shade' U, Shade' (Ðx'U × Ðt'U)) -> Shade (Colour ℝ)\n",
    "       cm (Shade' u du, _) = interp (Shade u $ dualNorm du :: Shade ℝ)\n",
    "       Just interp = rangeOnGeodesic darkblue orange"
   ]
  },
  {
   "cell_type": "code",
   "execution_count": 6,
   "metadata": {
    "collapsed": false
   },
   "outputs": [],
   "source": [
    "heatEqn :: DifferentialEqn (X × T) (U, Ðx'U × Ðt'U)\n",
    "      -- Shade (X×T, U,Ðx'U) -> Shade' (X×T +> (U,Ðx'U)) -> ?(Shade' (X×T +> (U,Ðx'U)))\n",
    "heatEqn = constLinearPDE\n",
    "    (arr.LinearFunction $\n",
    "        \\(LinearMap (V2 (ðx'u, V2 ðx'ðx'u ðx'ðt'u)\n",
    "                        (ðt'u, V2 ðt'ðx'u ðt'ðt'u)))\n",
    "                  -> (0, V2 ðx'u ðt'u) )\n",
    "    (arr.LinearFunction $\n",
    "        \\(_u, V2 ðx'u ðt'u)\n",
    "       -> let ðx'ðx'u = ðt'u\n",
    "          in LinearMap (V2 (ðx'u, V2 ðx'ðx'u 0)\n",
    "                           (ðt'u, V2 0 0)) )"
   ]
  },
  {
   "cell_type": "code",
   "execution_count": 7,
   "metadata": {
    "collapsed": false
   },
   "outputs": [
    {
     "data": {
      "text/html": [
       "<style>/* Styles used for the Hoogle display in the pager */\n",
       ".hoogle-doc {\n",
       "display: block;\n",
       "padding-bottom: 1.3em;\n",
       "padding-left: 0.4em;\n",
       "}\n",
       ".hoogle-code {\n",
       "display: block;\n",
       "font-family: monospace;\n",
       "white-space: pre;\n",
       "}\n",
       ".hoogle-text {\n",
       "display: block;\n",
       "}\n",
       ".hoogle-name {\n",
       "color: green;\n",
       "font-weight: bold;\n",
       "}\n",
       ".hoogle-head {\n",
       "font-weight: bold;\n",
       "}\n",
       ".hoogle-sub {\n",
       "display: block;\n",
       "margin-left: 0.4em;\n",
       "}\n",
       ".hoogle-package {\n",
       "font-weight: bold;\n",
       "font-style: italic;\n",
       "}\n",
       ".hoogle-module {\n",
       "font-weight: bold;\n",
       "}\n",
       ".hoogle-class {\n",
       "font-weight: bold;\n",
       "}\n",
       ".get-type {\n",
       "color: green;\n",
       "font-weight: bold;\n",
       "font-family: monospace;\n",
       "display: block;\n",
       "white-space: pre-wrap;\n",
       "}\n",
       ".show-type {\n",
       "color: green;\n",
       "font-weight: bold;\n",
       "font-family: monospace;\n",
       "margin-left: 1em;\n",
       "}\n",
       ".mono {\n",
       "font-family: monospace;\n",
       "display: block;\n",
       "}\n",
       ".err-msg {\n",
       "color: red;\n",
       "font-style: italic;\n",
       "font-family: monospace;\n",
       "white-space: pre;\n",
       "display: block;\n",
       "}\n",
       "#unshowable {\n",
       "color: red;\n",
       "font-weight: bold;\n",
       "}\n",
       ".err-msg.in.collapse {\n",
       "padding-top: 0.7em;\n",
       "}\n",
       ".highlight-code {\n",
       "white-space: pre;\n",
       "font-family: monospace;\n",
       "}\n",
       ".suggestion-warning { \n",
       "font-weight: bold;\n",
       "color: rgb(200, 130, 0);\n",
       "}\n",
       ".suggestion-error { \n",
       "font-weight: bold;\n",
       "color: red;\n",
       "}\n",
       ".suggestion-name {\n",
       "font-weight: bold;\n",
       "}\n",
       "</style><span class='err-msg'>Found hole ‘_’ with type: Shade (X × T, (U, Ðx'U × Ðt'U))<br/>Relevant bindings include it :: LocalDifferentialEqn (X × T) (U, Ðx'U × Ðt'U) (bound at &lt;interactive&gt;:1:1)<br/>In the first argument of ‘heatEqn’, namely ‘_’<br/>In the expression: heatEqn _<br/>In an equation for ‘it’: it = heatEqn _</span>"
      ],
      "text/plain": [
       "Found hole ‘_’ with type: Shade (X × T, (U, Ðx'U × Ðt'U))\n",
       "Relevant bindings include it :: LocalDifferentialEqn (X × T) (U, Ðx'U × Ðt'U) (bound at <interactive>:1:1)\n",
       "In the first argument of ‘heatEqn’, namely ‘_’\n",
       "In the expression: heatEqn _\n",
       "In an equation for ‘it’: it = heatEqn _"
      ]
     },
     "metadata": {},
     "output_type": "display_data"
    }
   ],
   "source": [
    "--(`linMapAt` V2 0 2) <$>\n",
    "heatEqn ((V2 0 0,(0,V20)):±[(V2 1 0,(0,0)), (V2 0 1,(0,0)), (V2 0 0,(1,0)), (V2 0 0,(0,1))])\n",
    "        -- (Shade' (LinearMap $ V2 (0,1) (0,0)) . spanNorm $ Tensor <$>\n",
    "           --              [V2 (1,0) (0,0), V2 (0,1) (0,0), V2 (0,0) (1,0), V2 (0,0) (0,1)] )"
   ]
  },
  {
   "cell_type": "code",
   "execution_count": 16,
   "metadata": {
    "collapsed": false
   },
   "outputs": [
    {
     "data": {
      "text/plain": [
       "GraphWindowSpecR2{lBound=-3.4866277099559726, rBound=3.9310593361978943, bBound=-3.52796304107421, tBound=3.7453125189701284, xResolution=640, yResolution=480}"
      ]
     },
     "metadata": {},
     "output_type": "display_data"
    }
   ],
   "source": [
    "initState_heat :: X -> (U, Ðx'U × Ðt'U)\n",
    "initState_heat x = ( u\n",
    "                   , V2 (- 2 * s*x / cosh (s * (1 - x^2))^2 )\n",
    "                        (-2 * s / cosh(s * (1 - x^2))^2 - 8 * s^2 * x^2 / cosh(s * (1 - x^2))^2 * u)\n",
    "                   )\n",
    " where u = tanh (s * (1 - x^2))\n",
    "       s = 0.5\n",
    "\n",
    "plotWindow $ continFnPlot <$> [ fst . initState_heat\n",
    "                              , (^._x) . snd . initState_heat\n",
    "                              , (^._y) . snd . initState_heat]\n",
    "\n",
    "tf_heat :: Needle X -> Needle T -> PointsWeb (X × T) (Shade' (U, Ðx'U × Ðt'U))\n",
    "tf_heat δx₀ δt₀ = fromWebNodes euclideanMetric\n",
    "      $  [(V2 x 0, initState_heat x|±|[(0.1,0), (0,0.1)]) | x<-[-2, δx₀-2 .. 0] ]\n",
    "      ++ [(V2 x t, zeroV|±|[(1, 0),  (0,1)  ]) | x<-[-2, δx₀-2 .. 0], t<-[δt₀, δt₀*2 .. 1] ]"
   ]
  },
  {
   "cell_type": "code",
   "execution_count": 17,
   "metadata": {
    "collapsed": false
   },
   "outputs": [
    {
     "data": {
      "text/plain": []
     },
     "metadata": {},
     "output_type": "display_data"
    }
   ],
   "source": [
    "startSt_heat = tf_heat 0.13 0.13\n",
    "forM_ [ iterateFilterDEqn_static (HighlightInconsistencies $ (-1, 0)|±|[(10, 0),(0, 10)]) heatEqn startSt_heat ]\n",
    "  $ \\tfs ->\n",
    "    plotWindow\n",
    "       [ prettyWebPlot $ head tfs\n",
    "       , plotLatest [ plot (fmap colourscheme_heat tfi)\n",
    "                       & legendName (\"i = \"++show i)\n",
    "                    | (i,tfi) <- zip [0..] tfs ] ]"
   ]
  },
  {
   "cell_type": "markdown",
   "metadata": {},
   "source": [
    "![Initial state from which to start refining solution of the heat PDE](https://raw.githubusercontent.com/leftaroundabout/manifolds/master/manifolds/images/examples/PDE-solution-filter/HeatEqn-InitialState.png)"
   ]
  },
  {
   "cell_type": "markdown",
   "metadata": {
    "collapsed": true
   },
   "source": [
    "Formulate the heat equation without explicit reference to numerical derivatives\n",
    "(only _numerically integrating_ the derivatives stored in the nodes):"
   ]
  },
  {
   "cell_type": "code",
   "execution_count": null,
   "metadata": {
    "collapsed": false
   },
   "outputs": [],
   "source": [
    "type HeatFlow = (U, (Ðx'U × Ðt'U, Ðx'Ðt'U))\n",
    "\n",
    "μ :: LocalLinear (X × T) HeatFlow +> HeatFlow\n",
    "μ = \n",
    "\n",
    "heatEqn' :: DifferentialEqn (X × T) HeatFlow\n",
    "      -- Shade (X×T, U,Ðx'U) -> Shade' (X×T +> (U,Ðx'U)) -> ?(Shade' (X×T +> (U,Ðx'U)))\n",
    "heatEqn' = constLinearDEqn\n",
    "  (arr.LinearFunction $\n",
    "        \\(_u, (V2 ðx'u ðt'u, ðx'ðt'u))\n",
    "       -> let ðx'ðx'u = ðt'u\n",
    "              ðt'ðx'u = ðx'ðt'u\n",
    "              ðt'ðt'u = 0\n",
    "              ðx'ðx'ðt'u = 0\n",
    "              ðt'ðx'ðt'u = 0\n",
    "                -- ðt'x'u = ðx't'u = ðx'x²'u = ðx²'x'u\n",
    "       -> LinearMap (V2 (ðx'u, (V2 ðx'ðx'u ðx'ðt'u, ðx'ðx'ðt'u))\n",
    "                        (ðt'u, (V2 ðt'ðx'u ðt'ðt'u, ðt'ðx'ðt'u))))\n",
    "  (arr.LinearFunction $\n",
    "        \\(LinearMap (V2 (ðx'u, V2 ðx'ðx'u ðx'ðx'ðt'u)\n",
    "                        (ðt'u, V2 ðt'ðx'u ðt'ðx'ðt'u)))\n",
    "            -> (0, (V2 ðx'u ðx'ðx'u)))"
   ]
  },
  {
   "cell_type": "code",
   "execution_count": null,
   "metadata": {
    "collapsed": false
   },
   "outputs": [],
   "source": [
    "initState_heatFlow :: X -> (U, Ðx'U × Ðt'U)\n",
    "initState_heatFlow x = ( tanh (s * (1 - x^2))\n",
    "                       , V2 (- 2 * s*x / cosh (s * (1 - x^2))^2)\n",
    "                            ((- 8 * s^2 * x^2 * tanh (s * (1 - x^2)) - 2*s) / cosh (s * (1 - x^2))^2) )\n",
    " where s = 0.5\n",
    "\n",
    "plotWindow $ continFnPlot <$> [ fst . initState_heatFlow\n",
    "                              , (^._x) . snd . initState_heatFlow\n",
    "                              , (^._y) . snd . initState_heatFlow ]\n",
    "\n",
    "tf_heatFlow :: Needle X -> Needle T -> PointsWeb (X × T) (Shade' HeatFlow)\n",
    "tf_heatFlow δx₀ δt₀ = fromWebNodes euclideanMetric\n",
    "      $  [(V2 x 0, initState_heatFlow x|±|[(0.1,V2 0 0), (0,V2 0.1 0), (0,V2 0 0.1)]) | x<-[xl, xl+δx₀ .. xr] ]\n",
    "      ++ [(V2 xl t, initState_heatFlow xl|±|[(1,V2 0 0), (0,V2 0.1)]) | t<-tail[0, δt₀, .. 1] ]\n",
    "      ++ [(V2 x t, zeroV|±|[(1, 0),  (0,1)]) | x<-tail[xl, xl+δx₀ .. xr], t<-tail[0, δt₀ .. 1] ]\n",
    " where (xl,xr) = (-2,0)"
   ]
  },
  {
   "cell_type": "code",
   "execution_count": null,
   "metadata": {
    "collapsed": true
   },
   "outputs": [],
   "source": []
  }
 ],
 "metadata": {
  "kernelspec": {
   "display_name": "Haskell",
   "language": "haskell",
   "name": "haskell"
  },
  "language_info": {
   "codemirror_mode": "ihaskell",
   "file_extension": ".hs",
   "name": "haskell",
   "version": "7.10.2"
  }
 },
 "nbformat": 4,
 "nbformat_minor": 0
}
