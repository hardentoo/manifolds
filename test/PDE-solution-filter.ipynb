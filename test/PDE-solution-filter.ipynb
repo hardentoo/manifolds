{
 "cells": [
  {
   "cell_type": "code",
   "execution_count": 1,
   "metadata": {
    "collapsed": false
   },
   "outputs": [],
   "source": [
    "{-# LANGUAGE TypeOperators, FlexibleContexts, TypeFamilies\n",
    " , UnicodeSyntax, ScopedTypeVariables, NoMonomorphismRestriction #-}\n",
    "import Prelude ()\n",
    "import Data.Manifold.TreeCover\n",
    "import Data.Manifold.Shade\n",
    "import Data.Random\n",
    "import Data.Random.Manifold\n",
    "import Data.Manifold\n",
    "import Data.Manifold.Web\n",
    "import Data.Manifold.DifferentialEquation\n",
    "import Math.LinearMap.Category\n",
    "import Data.VectorSpace\n",
    "import Data.Function.Affine\n",
    "import Data.Basis (Basis)\n",
    "import Linear(V2(..), ex, ey, _x, _y)\n",
    "import Data.Semigroup\n",
    "import Data.List.NonEmpty (NonEmpty(..))\n",
    "import qualified Data.Foldable as Hask\n",
    "import qualified Control.Monad as Hask\n",
    "import qualified Control.Comonad.Cofree as Hask\n",
    "import Control.Lens\n",
    ":opt no-lint\n",
    "import Control.Category.Constrained.Prelude\n",
    "import Control.Arrow.Constrained\n",
    "test x = x `seq` putStrLn \"ok\""
   ]
  },
  {
   "cell_type": "markdown",
   "metadata": {},
   "source": [
    "From [diagrams](http://projects.haskell.org/diagrams):"
   ]
  },
  {
   "cell_type": "code",
   "execution_count": 2,
   "metadata": {
    "collapsed": false
   },
   "outputs": [],
   "source": [
    "import Diagrams.Prelude (p2, circle, (&), (^&), moveTo, opacity, fromVertices, Point(P))"
   ]
  },
  {
   "cell_type": "code",
   "execution_count": 3,
   "metadata": {
    "collapsed": false
   },
   "outputs": [],
   "source": [
    "type X = ℝ\n",
    "type T = ℝ\n",
    "type U = ℝ\n",
    "type Ðx'U = ℝ\n",
    "type Ðt'U = ℝ\n",
    "type Ðx'Ðt'U = ℝ\n",
    "type Ðx²'U = ℝ\n",
    "type x × y = ℝ²\n",
    "type HeatFlow = (U, Ðx'U)\n",
    "et = ey :: Basis ℝ²\n",
    "_t = _y :: Lens' (X × T) T\n",
    "_u = _1 :: Lens' (U, Ðx'U) U\n",
    "_ðx'U = _2 :: Lens' (U, Ðx'U) Ðx'U"
   ]
  },
  {
   "cell_type": "markdown",
   "metadata": {},
   "source": [
    "From [dynamic-plot](http://hackage.haskell.org/package/dynamic-plot):"
   ]
  },
  {
   "cell_type": "code",
   "execution_count": 4,
   "metadata": {
    "collapsed": false
   },
   "outputs": [
    {
     "data": {
      "text/plain": [
       "ok"
      ]
     },
     "metadata": {},
     "output_type": "display_data"
    }
   ],
   "source": [
    "import Graphics.Dynamic.Plot.R2\n",
    "import Data.Colour.Names\n",
    "import Data.Colour.Manifold\n",
    "\n",
    "colourscheme :: Shade' ℝ -> Shade (Colour ℝ)\n",
    "colourscheme (Shade' u du) = interp (Shade u $ dualNorm du :: Shade ℝ)\n",
    " where Just interp = rangeOnGeodesic darkblue orange\n",
    " \n",
    "prettyWebPlot :: PointsWeb ℝ² y -> DynamicPlottable\n",
    "prettyWebPlot w = plot [ diagramPlot . opacity 0.5 $ fromVertices [P r₁, P r₂]\n",
    "                       | ((r₁@(V2 x₁ y₁),_),(r₂@(V2 x₂ y₂),_)) <- edg ]\n",
    " where edg = webEdges w\n",
    " \n",
    "colourscheme_heat :: Shade' HeatFlow -> Shade (Colour ℝ)\n",
    "colourscheme_heat = f `seq` \\(Shade' y e) -> f (Shade y $ dualNorm e)\n",
    " where Just (f :: Shade HeatFlow -> Shade (Colour ℝ))\n",
    "          = rangeWithinVertices ((0,0), sienna)\n",
    "                              [ ((-1,0), darkslateblue)\n",
    "                              , ((0,1000000), seagreen) ]\n",
    "test colourscheme_heat"
   ]
  },
  {
   "cell_type": "code",
   "execution_count": 5,
   "metadata": {
    "collapsed": false
   },
   "outputs": [],
   "source": [
    "α = 0.01\n",
    "\n",
    "heatEqn :: DifferentialEqn (X × T) Ðx²'U (U, Ðx'U)\n",
    "heatEqn (Shade (_, (_, old_ðx'u)) rng_all) = LocalDifferentialEqn {\n",
    "     _predictDerivatives =\n",
    "       return . embedShade (lensEmbedding (α ∂_u/∂_t))\n",
    "   , _rescanDerivatives =\n",
    "       \\shj shy -> ( mixShade's $ shy :|[embedShade (lensEmbedding _ðx'U)\n",
    "                                         (projectShade (lensEmbedding (1 ∂_u/∂_x)) shj :: Shade' Ðx'U)]\n",
    "                   , return $ projectShade (lensEmbedding (α ∂_u/∂_t)) shj )\n",
    "   }\n",
    "\n",
    "{-  (arr.LinearFunction $\n",
    "        \\((_u, ðx'u), ðx²'u)\n",
    "       -> let ðt'u = ðx²'u * α\n",
    "          in LinearMap (V2 (ðx'u, ðx²'u)\n",
    "                           (ðt'u, 0)) )  -- ðt'ðx'u is unknown\n",
    "    (arr.LinearFunction $\n",
    "        \\(LinearMap (V2 (ðx'u, ðx'ðx'u)\n",
    "                        (ðt'u, _)))\n",
    "       -> let ðx²'u = ðt'u / α\n",
    "          in ((0, ðx'u), (ðx²'u + ðx'ðx'u)/2) ) -}"
   ]
  },
  {
   "cell_type": "code",
   "execution_count": 6,
   "metadata": {
    "collapsed": false
   },
   "outputs": [
    {
     "data": {
      "text/plain": [
       "GraphWindowSpecR2{lBound=-1.333333333333333, rBound=1.333333333333333, bBound=-1.8790981773565485, tBound=1.8790981773565432, xResolution=640, yResolution=480}"
      ]
     },
     "metadata": {},
     "output_type": "display_data"
    }
   ],
   "source": [
    "initState_heat :: X -> HeatFlow\n",
    "initState_heat x = ( u\n",
    "                   , (- 2 * s*x / cosh (s * (1 - x^2))^2 )\n",
    "                   )\n",
    " where u = tanh (s * (1 - x^2))\n",
    "       s = 1\n",
    "\n",
    "plotWindow $ continFnPlot <$> [ fst . initState_heat\n",
    "                              , snd . initState_heat ]\n",
    "\n",
    "tf_heat :: Needle X -> Needle T -> PointsWeb (X × T) (Shade' HeatFlow)\n",
    "tf_heat δx₀ δt₀ = fromWebNodes euclideanMetric\n",
    "      $  [ (V2 x t, initState_heat x|±|[(0.01,0), (0,10)])\n",
    "         | x<-[xl, xl+δx₀ .. xr], t<-[0] ]\n",
    "      ++ [ (V2 x t, initState_heat x|±|[(1, 0), (0, 10)])\n",
    "         | x<-[xl, xl+δx₀ .. xr], t<-tail[0, δt₀ .. 1] ]\n",
    " where (xl,xr) = (0,2)"
   ]
  },
  {
   "cell_type": "code",
   "execution_count": 7,
   "metadata": {
    "collapsed": false
   },
   "outputs": [
    {
     "data": {
      "text/plain": []
     },
     "metadata": {},
     "output_type": "display_data"
    }
   ],
   "source": [
    "startSt_heat = tf_heat 0.125 0.125\n",
    "\n",
    "-- Hask.toList startSt_heat\n",
    "-- Hask.toList <$> rescanPDEOnWeb AbortOnInconsistency heatEqn startSt_heat\n",
    "\n",
    "scrutiniseShade' :: ∀ x . x ~ HeatFlow => Shade' x -> String\n",
    "scrutiniseShade' (Shade' c (Norm e)) = show c ++ \"±\" ++ show (arr e :: Needle x +> Needle' x)\n",
    "\n",
    "tfs_heat = iterateFilterDEqn_static (indicateInconsistencies intersectShade's) id heatEqn startSt_heat\n",
    "forM_ [Hask.toList tfs_heat ]\n",
    "  $ \\tfs ->\n",
    "    plotWindow\n",
    "       [ prettyWebPlot $ head tfs\n",
    "       , plotLatest [ plot (fmap colourscheme_heat tfi)\n",
    "                       & legendName (\"i = \"++show i)\n",
    "                    | (i,tfi) <- zip [0..] tfs ] ]\n",
    "Hask.mapM_ (\\st -> mapM_ (\\((p,y),(q,z)) -> putStrLn $\n",
    "                 show p ++ \":\\t\" ++ prettyShowShade' y\n",
    "            ++ \"\\n\" ++ show q ++ \":\\t\" ++ prettyShowShade' z) (webEdges st) >> print())\n",
    "    $ take 0 (Hask.toList tfs_heat)"
   ]
  },
  {
   "cell_type": "code",
   "execution_count": 8,
   "metadata": {
    "collapsed": false
   },
   "outputs": [
    {
     "data": {
      "text/plain": [
       "apriori: (-1.9,3e3)|±|[(1.8,-6e3),(0,3e3)]\n",
       "V2 2.0 0.375\t-> (2,-0e16)|±|[(9,0)]\n",
       "V2 2.0 0.125\t-> (-51,-0e4)|±|[(20,-4e4),(0,4e4)]\n",
       "V2 1.875 0.25\t-> (-1,-3)|±|[]\n",
       "GraphWindowSpecR2{lBound=-1.333333333333333, rBound=1.333333333333333, bBound=-1.333333333333333, tBound=1.333333333333333, xResolution=640, yResolution=480}"
      ]
     },
     "metadata": {},
     "output_type": "display_data"
    }
   ],
   "source": [
    "import Control.Monad.Trans.Except\n",
    "findErr :: (Hask.Monad m, Hask.Foldable m) => Hask.Cofree m a -> m ()\n",
    "findErr (a Hask.:< q) = case Hask.toList q of\n",
    "        [] -> const () <$> q\n",
    "        l  -> foldr1 (>>) $ findErr<$>l\n",
    "\n",
    "case runExcept $ findErr tfs_heat of\n",
    " Left (PropagationInconsistency pro apr) -> do\n",
    "      putStrLn $ \"apriori: \"++show apr\n",
    "      forM_ pro $ \\(o,m) -> putStrLn $ show o ++ \"\\t-> \" ++ show m\n",
    "      plotWindow $ (plot apr & legendName \"apriori\")\n",
    "                 : [plot m & legendName (\"from \"++show o) | (o,m)<-pro]\n"
   ]
  },
  {
   "cell_type": "markdown",
   "metadata": {},
   "source": [
    "![Initial state from which to start refining solution of the heat PDE](https://raw.githubusercontent.com/leftaroundabout/manifolds/master/manifolds/images/examples/PDE-solution-filter/HeatEqn-InitialState.png)"
   ]
  },
  {
   "cell_type": "code",
   "execution_count": 9,
   "metadata": {
    "collapsed": false
   },
   "outputs": [
    {
     "data": {
      "text/plain": [
       "27"
      ]
     },
     "metadata": {},
     "output_type": "display_data"
    }
   ],
   "source": [
    "length tfs_heat"
   ]
  },
  {
   "cell_type": "code",
   "execution_count": null,
   "metadata": {
    "collapsed": true
   },
   "outputs": [],
   "source": []
  }
 ],
 "metadata": {
  "kernelspec": {
   "display_name": "Haskell",
   "language": "haskell",
   "name": "haskell"
  },
  "language_info": {
   "codemirror_mode": "ihaskell",
   "file_extension": ".hs",
   "name": "haskell",
   "version": "7.10.2"
  }
 },
 "nbformat": 4,
 "nbformat_minor": 0
}
