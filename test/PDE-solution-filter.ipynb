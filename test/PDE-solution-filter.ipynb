{
 "cells": [
  {
   "cell_type": "code",
   "execution_count": 1,
   "metadata": {
    "collapsed": false
   },
   "outputs": [],
   "source": [
    "{-# LANGUAGE TypeOperators, FlexibleContexts, TypeFamilies\n",
    " , UnicodeSyntax, ScopedTypeVariables, NoMonomorphismRestriction #-}\n",
    "import Prelude ()\n",
    "import Data.Manifold.TreeCover\n",
    "import Data.Manifold.Shade\n",
    "import Data.Random\n",
    "import Data.Random.Manifold\n",
    "import Data.Manifold\n",
    "import Data.Manifold.Web\n",
    "import Data.Manifold.DifferentialEquation\n",
    "import Math.LinearMap.Category\n",
    "import Data.VectorSpace\n",
    "import Data.Function.Affine\n",
    "import Data.Basis (Basis)\n",
    "import Linear(V2(..), ex, ey, _x, _y)\n",
    "import Data.Semigroup\n",
    "import Data.List.NonEmpty (NonEmpty(..))\n",
    "import qualified Data.Foldable as Hask\n",
    "import qualified Control.Monad as Hask\n",
    "import qualified Control.Comonad.Cofree as Hask\n",
    "import Control.Lens\n",
    ":opt no-lint\n",
    "import Control.Category.Constrained.Prelude\n",
    "import Control.Arrow.Constrained\n",
    "test x = x `seq` putStrLn \"ok\""
   ]
  },
  {
   "cell_type": "markdown",
   "metadata": {},
   "source": [
    "From [diagrams](http://projects.haskell.org/diagrams):"
   ]
  },
  {
   "cell_type": "code",
   "execution_count": 2,
   "metadata": {
    "collapsed": false
   },
   "outputs": [],
   "source": [
    "import Diagrams.Prelude (p2, circle, (&), (^&), moveTo, opacity, fromVertices, Point(P))"
   ]
  },
  {
   "cell_type": "code",
   "execution_count": 3,
   "metadata": {
    "collapsed": false
   },
   "outputs": [],
   "source": [
    "type X = ℝ\n",
    "type T = ℝ\n",
    "type U = ℝ\n",
    "type Ðx'U = ℝ\n",
    "type Ðt'U = ℝ\n",
    "type Ðx'Ðt'U = ℝ\n",
    "type Ðx²'U = ℝ\n",
    "type x × y = ℝ²\n",
    "type HeatFlow = (U, Ðx'U)\n",
    "et = ey :: Basis ℝ²\n",
    "_t = _y :: Lens' (X × T) T\n",
    "_u = _1 :: Lens' (U, Ðx'U) U\n",
    "_ðx'U = _2 :: Lens' (U, Ðx'U) Ðx'U"
   ]
  },
  {
   "cell_type": "markdown",
   "metadata": {},
   "source": [
    "From [dynamic-plot](http://hackage.haskell.org/package/dynamic-plot):"
   ]
  },
  {
   "cell_type": "code",
   "execution_count": 4,
   "metadata": {
    "collapsed": false
   },
   "outputs": [
    {
     "data": {
      "text/plain": [
       "ok"
      ]
     },
     "metadata": {},
     "output_type": "display_data"
    }
   ],
   "source": [
    "import Graphics.Dynamic.Plot.R2\n",
    "import Data.Colour.Names\n",
    "import Data.Colour.Manifold\n",
    "\n",
    "colourscheme :: Shade' ℝ -> Shade (Colour ℝ)\n",
    "colourscheme (Shade' u du) = interp (Shade u $ dualNorm du :: Shade ℝ)\n",
    " where Just interp = rangeOnGeodesic darkblue orange\n",
    " \n",
    "prettyWebPlot :: PointsWeb ℝ² y -> DynamicPlottable\n",
    "prettyWebPlot w = plot [ diagramPlot . opacity 0.5 $ fromVertices [P r₁, P r₂]\n",
    "                       | ((r₁@(V2 x₁ y₁),_),(r₂@(V2 x₂ y₂),_)) <- edg ]\n",
    " where edg = webEdges w\n",
    " \n",
    "colourscheme_heat :: Shade' HeatFlow -> Shade (Colour ℝ)\n",
    "colourscheme_heat = f `seq` \\(Shade' y e) -> f (Shade y $ dualNorm e)\n",
    " where Just (f :: Shade HeatFlow -> Shade (Colour ℝ))\n",
    "          = rangeWithinVertices ((0,0), neutral)\n",
    "                              [ ((1,0), orange)\n",
    "                              , ((0,2), seagreen) ]\n",
    "       Just neutral = toInterior (dimgrey :: Colour ℝ)\n",
    "test colourscheme_heat"
   ]
  },
  {
   "cell_type": "code",
   "execution_count": 5,
   "metadata": {
    "collapsed": false
   },
   "outputs": [
    {
     "data": {
      "text/plain": [
       "GraphWindowSpecR2{lBound=-4.0, rBound=4.0, bBound=-1.2868473487266554, tBound=1.007986483048605, xResolution=640, yResolution=480}"
      ]
     },
     "metadata": {},
     "output_type": "display_data"
    }
   ],
   "source": [
    "initState_heat :: X -> U\n",
    "initState_heat x = u\n",
    " where u = tanh (s * (1 - x^2))\n",
    "       s = 1\n",
    "\n",
    "plotWindow [continFnPlot initState_heat, xInterval (-3,3)]"
   ]
  },
  {
   "cell_type": "code",
   "execution_count": 6,
   "metadata": {
    "collapsed": false
   },
   "outputs": [],
   "source": [
    "α = 0.01\n",
    "\n",
    "heatEqn :: DifferentialEqn (X × T) Ðx²'U (U, Ðx'U)\n",
    "heatEqn (Shade (V2 x t, _) _) = LocalDifferentialEqn {\n",
    "     _predictDerivatives = \\shj\n",
    "       -> return $ embedShade (lensEmbedding (α ∂_u/∂_t)) shj\n",
    "   , _rescanDerivatives = \\shj shy\n",
    "       -> ( return $\n",
    "                        (if abs t>0.1 then projectShade (lensEmbedding _u) shy\n",
    "                                      else initState_heat x|±|[1e-6] )\n",
    "                      ✠ projectShade (lensEmbedding (1 ∂_u/∂_x)) shj\n",
    "                   , return $ projectShade (lensEmbedding (α ∂_u/∂_t)) shj )\n",
    "   }"
   ]
  },
  {
   "cell_type": "code",
   "execution_count": 7,
   "metadata": {
    "collapsed": false
   },
   "outputs": [
    {
     "data": {
      "text/plain": []
     },
     "metadata": {},
     "output_type": "display_data"
    }
   ],
   "source": [
    "startSt_heat = fromWebNodes euclideanMetric\n",
    "          [ (V2 x t, zeroV|±|[(1,0), (0,10)])\n",
    "          | x<-[xl,xl+δx₀ .. xr], t<-[tStart, tStart+δt₀ .. tEnd]]\n",
    " where δx₀ = 0.125\n",
    "       δt₀ = 0.125\n",
    "       (xl,xr) = (0,2)\n",
    "       (tStart, tEnd) = (-0.125, 1)\n",
    "\n",
    "tfs_heat = iterateFilterDEqn_static (indicateInconsistencies intersectShade's) id heatEqn startSt_heat\n",
    "forM_ [Hask.toList tfs_heat ]\n",
    "  $ \\tfs ->\n",
    "    plotWindow\n",
    "       [ prettyWebPlot $ head tfs\n",
    "       , plotLatest [ plot (fmap colourscheme_heat tfi)\n",
    "                       & legendName (\"i = \"++show i)\n",
    "                    | (i,tfi) <- zip [0..] tfs ] ]\n",
    "Hask.mapM_ (\\st -> mapM_ (\\((p,y),(q,z)) -> putStrLn $\n",
    "                 show p ++ \":\\t\" ++ prettyShowShade' y\n",
    "            ++ \"\\n\" ++ show q ++ \":\\t\" ++ prettyShowShade' z) (webEdges st) >> print())\n",
    "    $ take 0 (Hask.toList tfs_heat)"
   ]
  },
  {
   "cell_type": "code",
   "execution_count": 8,
   "metadata": {
    "collapsed": false
   },
   "outputs": [
    {
     "data": {
      "text/html": [
      ],
      "text/plain": [
       "Found hole ‘_runExcept’ with type: f0 (Except (PropagationInconsistency (X × T) (Shade' (U, Ðx'U))) ()) (Either (PropagationInconsistency a0 a1) t0)\n",
       "Where: ‘f0’ is an ambiguous type variable\n",
       "       ‘t0’ is an ambiguous type variable\n",
       "       ‘a0’ is an ambiguous type variable\n",
       "       ‘a1’ is an ambiguous type variable\n",
       "Relevant bindings include it ∷ IO Graphics.Dynamic.Plot.R2.GraphWindowSpec (bound at <interactive>:1:1)\n",
       "In the first argument of ‘($)’, namely ‘_runExcept’\n",
       "In the expression: _runExcept $ findErr tfs_heat\n",
       "In the expression:\n",
       "  case _runExcept $ findErr tfs_heat of {\n",
       "    Left (PropagationInconsistency pro apr)\n",
       "      -> do { putStrLn $ \"apriori: \" ++ show apr;\n",
       "              forM_ pro $ \\ (o, m) -> putStrLn $ show o ++ \"\\t-> \" ++ show m;\n",
       "              plotWindow $ (plot apr & legendName \"apriori\") : [plot m & legendName (\"from \" ++ show o) | (o, m) ← pro] } }"
      ]
     },
     "metadata": {},
     "output_type": "display_data"
    }
   ],
   "source": [
    "import Control.Monad.Trans.Except\n",
    "findErr :: (Hask.Monad m, Hask.Foldable m) => Hask.Cofree m a -> m ()\n",
    "findErr (a Hask.:< q) = case Hask.toList q of\n",
    "        [] -> const () <$> q\n",
    "        l  -> foldr1 (>>) $ findErr<$>l\n",
    "\n",
    "case _runExcept $ findErr tfs_heat of\n",
    " Left (PropagationInconsistency pro apr) -> do\n",
    "      putStrLn $ \"apriori: \"++show apr\n",
    "      forM_ pro $ \\(o,m) -> putStrLn $ show o ++ \"\\t-> \" ++ show m\n",
    "      plotWindow $ (plot apr & legendName \"apriori\")\n",
    "                 : [plot m & legendName (\"from \"++show o) | (o,m)<-pro]\n"
   ]
  },
  {
   "cell_type": "markdown",
   "metadata": {},
   "source": [
    "![Initial state from which to start refining solution of the heat PDE](https://raw.githubusercontent.com/leftaroundabout/manifolds/master/manifolds/images/examples/PDE-solution-filter/HeatEqn-InitialState.png)"
   ]
  },
  {
   "cell_type": "code",
   "execution_count": 9,
   "metadata": {
    "collapsed": false
   },
   "outputs": [
    {
     "data": {
      "text/plain": [
       "20"
      ]
     },
     "metadata": {},
     "output_type": "display_data"
    }
   ],
   "source": [
    "length tfs_heat"
   ]
  },
  {
   "cell_type": "code",
   "execution_count": null,
   "metadata": {
    "collapsed": true
   },
   "outputs": [],
   "source": []
  }
 ],
 "metadata": {
  "kernelspec": {
   "display_name": "Haskell",
   "language": "haskell",
   "name": "haskell"
  },
  "language_info": {
   "codemirror_mode": "ihaskell",
   "file_extension": ".hs",
   "name": "haskell",
   "version": "7.10.2"
  }
 },
 "nbformat": 4,
 "nbformat_minor": 0
}
